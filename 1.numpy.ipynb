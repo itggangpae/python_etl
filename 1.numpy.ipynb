{
 "cells": [
  {
   "cell_type": "markdown",
   "metadata": {
    "id": "piAMTR1-BOVp"
   },
   "source": [
    "# numpy"
   ]
  },
  {
   "cell_type": "markdown",
   "metadata": {
    "id": "p8NF-C5WBTvj"
   },
   "source": [
    "## 작업 시간 비교"
   ]
  },
  {
   "cell_type": "code",
   "execution_count": 1,
   "metadata": {
    "colab": {
     "base_uri": "https://localhost:8080/"
    },
    "id": "mxRmKOiEBOVs",
    "outputId": "cf1fb192-6ae7-4583-9393-1d1e6d4f98bc"
   },
   "outputs": [
    {
     "name": "stdout",
     "output_type": "stream",
     "text": [
      "리스트 작업 시작 시간: 2022-02-09 07:19:22.693358\n",
      "리스트 작업 종료 시간: 2022-02-09 07:19:22.775446\n",
      "ndarray 작업 시작 시간: 2022-02-09 07:19:22.778934\n",
      "ndarray 작업 종료 시간: 2022-02-09 07:19:22.782779\n"
     ]
    }
   ],
   "source": [
    "import numpy as np\n",
    "import datetime\n",
    "#list 생성\n",
    "li = range(1,1000000)\n",
    "#현재 시간 저장 및 출력\n",
    "s = datetime.datetime.now()\n",
    "print(\"리스트 작업 시작 시간:\", s)\n",
    "#li의 각 요소에 10을 곱하기\n",
    "for i in li:\n",
    "    i = i * 10\n",
    "s = datetime.datetime.now()\n",
    "print(\"리스트 작업 종료 시간:\", s)\n",
    "\n",
    "#ndarray 생성\n",
    "ar = np.arange(1,1000000)\n",
    "s = datetime.datetime.now()\n",
    "print(\"ndarray 작업 시작 시간:\", s)\n",
    "ar = ar * 10\n",
    "s = datetime.datetime.now()\n",
    "print(\"ndarray 작업 종료 시간:\", s)"
   ]
  },
  {
   "cell_type": "code",
   "execution_count": null,
   "metadata": {
    "id": "QnAsf0VCBOVu"
   },
   "outputs": [],
   "source": []
  },
  {
   "cell_type": "markdown",
   "metadata": {
    "id": "OFe5eynuO9qI"
   },
   "source": [
    "## 배열 생성 과 속성 확인"
   ]
  },
  {
   "cell_type": "code",
   "execution_count": 2,
   "metadata": {
    "colab": {
     "base_uri": "https://localhost:8080/"
    },
    "id": "jqOUZrk0BOVv",
    "outputId": "ab1d9e5c-b028-42b0-a6b7-03da5d4d7181"
   },
   "outputs": [
    {
     "name": "stdout",
     "output_type": "stream",
     "text": [
      "<class 'numpy.ndarray'>\n",
      "(3,)\n",
      "[[1 2 3]\n",
      " [4 5 6]]\n",
      "(2, 3)\n",
      "48\n"
     ]
    }
   ],
   "source": [
    "import numpy\n",
    "#list를 이용해서 array 생성\n",
    "ar = numpy.array([1, 2, 3])\n",
    "\n",
    "##생성된 데이터의 자료형 확인\n",
    "print(type(ar)) \n",
    "\n",
    "#차원 확인 - 1차원 3개의 데이터로 구성\n",
    "print (ar.shape) \n",
    "\n",
    "#2차원 배열 만들기\n",
    "br = numpy.array([[1,2,3],[4,5,6]]) \n",
    "\n",
    "#배열 출력\n",
    "print(br)\n",
    "\n",
    "#배열의 차원 확인\n",
    "print (br.shape) \n",
    "\n",
    "#배열의 메모리 크기 확인\n",
    "print(br.nbytes)"
   ]
  },
  {
   "cell_type": "code",
   "execution_count": null,
   "metadata": {},
   "outputs": [],
   "source": []
  },
  {
   "cell_type": "markdown",
   "metadata": {
    "id": "UcdvARLsBOVv"
   },
   "source": [
    "## ndarray 의 생성"
   ]
  },
  {
   "cell_type": "code",
   "execution_count": 3,
   "metadata": {
    "colab": {
     "base_uri": "https://localhost:8080/"
    },
    "id": "Mg9Jz4moBOVw",
    "outputId": "b6d5b5a5-731c-4c17-b764-a155ba0ce936"
   },
   "outputs": [
    {
     "name": "stdout",
     "output_type": "stream",
     "text": [
      "[0 1 2 3 4 5 6 7 8 9]\n",
      "\n",
      "[0.  0.2 0.4 0.6 0.8 1. ]\n",
      "\n",
      "[0.  0.2 0.4 0.6 0.8]\n",
      "\n"
     ]
    }
   ],
   "source": [
    "import numpy\n",
    "# 1차원 배얼 [0,1,2, ... ,9] 생성\n",
    "ar = numpy.arange(10)\n",
    "print(ar)\n",
    "print()\n",
    "\n",
    "# start, end, num-points\n",
    "ar = numpy.linspace(0, 1, 6)  \n",
    "print(ar)\n",
    "print()\n",
    "\n",
    "# start, end, num-points, 마지막 포인트는 제외\n",
    "ar = numpy.linspace(0, 1, 5, endpoint=False)\n",
    "print(ar)\n",
    "print()"
   ]
  },
  {
   "cell_type": "code",
   "execution_count": null,
   "metadata": {
    "id": "wVF2mVWCBOVw"
   },
   "outputs": [],
   "source": []
  },
  {
   "cell_type": "markdown",
   "metadata": {},
   "source": [
    "## 특수 행렬"
   ]
  },
  {
   "cell_type": "code",
   "execution_count": 4,
   "metadata": {
    "colab": {
     "base_uri": "https://localhost:8080/"
    },
    "id": "QYepWcSMBOVx",
    "outputId": "fc72e29d-8e99-48d9-ee11-8189d1abf5d6"
   },
   "outputs": [
    {
     "name": "stdout",
     "output_type": "stream",
     "text": [
      "[1. 1. 1. 1. 1. 1. 1. 1. 1. 1.]\n",
      "\n",
      "[[0. 0. 0. 0. 0.]\n",
      " [0. 0. 0. 0. 0.]\n",
      " [0. 0. 0. 0. 0.]\n",
      " [0. 0. 0. 0. 0.]\n",
      " [0. 0. 0. 0. 0.]]\n",
      "\n",
      "[[1 0]\n",
      " [0 1]]\n",
      "\n",
      "[[0. 1. 0.]\n",
      " [0. 0. 1.]\n",
      " [0. 0. 0.]]\n",
      "\n",
      "[[0. 1. 0. 0.]\n",
      " [0. 0. 1. 0.]\n",
      " [0. 0. 0. 1.]]\n",
      "\n",
      "[[0 1 2]\n",
      " [3 4 5]\n",
      " [6 7 8]]\n",
      "\n",
      "[0 4 8]\n",
      "\n",
      "[1 5]\n",
      "\n",
      "[3 7]\n",
      "\n",
      "[[5.e-324 0.e+000]\n",
      " [0.e+000 5.e-324]]\n"
     ]
    }
   ],
   "source": [
    "import numpy\n",
    "b1 = numpy.ones(10) # 1로 채원진 10 크기의 (1차원) 배열 생성\n",
    "print(b1)\n",
    "print()\n",
    "\n",
    "b2 = numpy.zeros((5,5)) # 0으로 채원진 5x5 크기의 배열 생성\n",
    "print(b2)\n",
    "print()\n",
    "\n",
    "#2*2 단위 행렬 생성\n",
    "ar = numpy.eye(2, dtype=int)\n",
    "print(ar)\n",
    "print()\n",
    "\n",
    "#3*3 행렬을 만들고 가운데에서 대각선 방향으로 위쪽에 1을 채움\n",
    "ar = numpy.eye(3, k=1)\n",
    "print(ar)\n",
    "print()\n",
    "\n",
    "#3*4 행렬을 만들고 가운데에서 대각선 방향으로 위쪽에 1을 채움\n",
    "ar = numpy.eye(3, M=4, k=1)\n",
    "print(ar)\n",
    "print()\n",
    "\n",
    "#9개짜리 일차원 배열을 3*3행렬로 변환\n",
    "ar = numpy.arange(9).reshape((3,3))\n",
    "print(ar)\n",
    "print()\n",
    "\n",
    "br = numpy.diag(ar)\n",
    "print(br)\n",
    "print()\n",
    "\n",
    "#중앙의 대각선에서 위나 아래 한칸 이동해서 데이터를 가져와서 벡터를 생성\n",
    "cr = numpy.diag(ar,k=1)\n",
    "print(cr)\n",
    "print()\n",
    "\n",
    "dr = numpy.diag(ar, k=-1)\n",
    "print(dr)\n",
    "print()\n",
    "\n",
    "er = numpy.empty( (2,2) ) # 가비지 값으로 채원진 2x2 크기의 배열 생성\n",
    "print(er)"
   ]
  },
  {
   "cell_type": "code",
   "execution_count": null,
   "metadata": {
    "id": "HhcY8zg1BOVy"
   },
   "outputs": [],
   "source": []
  },
  {
   "cell_type": "markdown",
   "metadata": {},
   "source": [
    "## ndarray 의 자료형"
   ]
  },
  {
   "cell_type": "code",
   "execution_count": 5,
   "metadata": {
    "colab": {
     "base_uri": "https://localhost:8080/"
    },
    "id": "jky_mPyJBOVy",
    "outputId": "60a0c0d1-5c36-4aa4-cad2-970427a7388b"
   },
   "outputs": [
    {
     "name": "stdout",
     "output_type": "stream",
     "text": [
      "타입 확인: int64\n",
      "타입 확인: <U2\n",
      "타입 확인: float64\n",
      "타입 확인: <U32\n",
      "타입 확인: int32\n",
      "타입 확인: |S11\n"
     ]
    }
   ],
   "source": [
    "import numpy as np\n",
    "#정수로만 구성\n",
    "ar = np.array([1,2,3])\n",
    "print(\"타입 확인:\",ar.dtype);\n",
    "\n",
    "#문자열로만 구성\n",
    "ar = np.array(['12', '2' ,'3'])\n",
    "print(\"타입 확인:\",ar.dtype);\n",
    "\n",
    "#정수와 실수 혼합\n",
    "ar = np.array([3, 2.9, 4])\n",
    "print(\"타입 확인:\",ar.dtype);\n",
    "\n",
    "#문자열과 숫자 혼합\n",
    "ar = np.array([3, 2.9, '4'])\n",
    "print(\"타입 확인:\",ar.dtype);\n",
    "\n",
    "#문자열과 정수 혼합이지만 정수로 설정\n",
    "ar = np.array([3, 2, '4'], dtype=np.int32)\n",
    "print(\"타입 확인:\",ar.dtype);\n",
    "\n",
    "#실수 타입으로 변경\n",
    "ar = ar.astype(np.string_)\n",
    "print(\"타입 확인:\",ar.dtype);"
   ]
  },
  {
   "cell_type": "code",
   "execution_count": null,
   "metadata": {
    "id": "GpdHItB_BOVz"
   },
   "outputs": [],
   "source": []
  },
  {
   "cell_type": "markdown",
   "metadata": {},
   "source": [
    "## 행렬 구조 변환"
   ]
  },
  {
   "cell_type": "code",
   "execution_count": 6,
   "metadata": {
    "colab": {
     "base_uri": "https://localhost:8080/"
    },
    "id": "NoclvaCgBOVz",
    "outputId": "857c35a7-ec62-4cb1-b0ad-db1645772812"
   },
   "outputs": [
    {
     "name": "stdout",
     "output_type": "stream",
     "text": [
      "[0 1 2 3 4 5 6 7 8 9]\n",
      "\n",
      "[[0 1 2 3 4]\n",
      " [5 6 7 8 9]]\n",
      "\n"
     ]
    }
   ],
   "source": [
    "import numpy\n",
    "# 1차원 배열 [0,1,2, ... ,9] 생성\n",
    "ar = numpy.arange(10)  \n",
    "print(ar)\n",
    "print()\n",
    "\n",
    "# 같은 요소를 가지고 2x5 배열로 변형\n",
    "ar = ar.reshape(2, 5)\n",
    "print(ar)\n",
    "print()"
   ]
  },
  {
   "cell_type": "code",
   "execution_count": 7,
   "metadata": {
    "id": "Ai00kh6KBOV0",
    "outputId": "99a31b13-4304-46cb-c24a-254ad903a2df"
   },
   "outputs": [
    {
     "name": "stdout",
     "output_type": "stream",
     "text": [
      "[1 2 3 4 5 6 7 8 9]\n",
      "\n",
      "[1 2 3 4 5 6 7 8 9]\n",
      "\n",
      "[100   2   3   4   5   6   7   8   9]\n",
      "\n",
      "[1 2 3 4 5 6 7 8 9]\n"
     ]
    }
   ],
   "source": [
    "import numpy\n",
    "# 행렬을 생성\n",
    "matrix = np.array([[1, 2, 3],\n",
    "                   [4, 5, 6],\n",
    "                   [7, 8, 9]])\n",
    "\n",
    "#1차원으로 변환 - 모양만 변경\n",
    "ar = matrix.reshape(-1)\n",
    "print(ar)\n",
    "print()\n",
    "\n",
    "#1차원으로 변환 - 데이터를 복제\n",
    "br = matrix.flatten()\n",
    "print(br)\n",
    "print()\n",
    "\n",
    "#원본 데이터 변경\n",
    "matrix[0,0] = 100\n",
    "\n",
    "#원본이 변경되었으므로 같이 변경됨 \n",
    "print(ar)\n",
    "print()\n",
    "\n",
    "#복제를 했으므로 아무런 영향이 없음 \n",
    "print(br)"
   ]
  },
  {
   "cell_type": "code",
   "execution_count": null,
   "metadata": {
    "id": "6Zq8bKuOK8AO"
   },
   "outputs": [],
   "source": []
  },
  {
   "cell_type": "markdown",
   "metadata": {},
   "source": [
    "## 인덱싱"
   ]
  },
  {
   "cell_type": "code",
   "execution_count": 8,
   "metadata": {
    "id": "3GVpzMyrBOV0",
    "outputId": "f75428e2-7455-4cf5-9fa9-b5a2abdbcc9e"
   },
   "outputs": [
    {
     "name": "stdout",
     "output_type": "stream",
     "text": [
      "3\n",
      "\n",
      "5\n",
      "\n",
      "[1 2 3 4 5 6]\n",
      "\n",
      "[1 2 3]\n",
      "\n",
      "[4 5 6]\n",
      "\n",
      "6\n",
      "\n",
      "[[1 2 3]\n",
      " [4 5 6]]\n",
      "\n",
      "[[2]\n",
      " [5]\n",
      " [8]]\n"
     ]
    }
   ],
   "source": [
    "import numpy as np\n",
    "\n",
    "# 하나의 행을 갖는 배열 생성\n",
    "vector = np.array([1, 2, 3, 4, 5, 6])\n",
    "\n",
    "# 행렬을 만듭니다.\n",
    "matrix = np.array([[1, 2, 3],\n",
    "                   [4, 5, 6],\n",
    "                   [7, 8, 9]])\n",
    "\n",
    "# vector의 세 번째 원소를 선택합니다.\n",
    "print(vector[2])\n",
    "print()\n",
    "\n",
    "# matrix의 두 번째 행, 두 번째 열의 원소를 선택합니다.\n",
    "print(matrix[1,1])\n",
    "print()\n",
    "\n",
    "# 벡터에 있는 모든 원소를 선택합니다.\n",
    "print(vector[:])\n",
    "print()\n",
    "\n",
    "# 세 번째 원소를 포함하여 그 이전의 모든 원소를 선택합니다.\n",
    "print(vector[:3])\n",
    "print()\n",
    "\n",
    "# 세 번째 이후의 모든 원소를 선택합니다.\n",
    "print(vector[3:])\n",
    "print()\n",
    "\n",
    "# 마지막 원소를 선택합니다.\n",
    "print(vector[-1])\n",
    "print()\n",
    "\n",
    "# 행렬에서 첫 번째 두 개의 행과 모든 열을 선택합니다.\n",
    "print(matrix[:2,:])\n",
    "print()\n",
    "\n",
    "# 모든 행과 두 번째 열을 선택합니다.\n",
    "print(matrix[:,1:2])"
   ]
  },
  {
   "cell_type": "code",
   "execution_count": null,
   "metadata": {
    "id": "XkbMRkDALHZl"
   },
   "outputs": [],
   "source": []
  },
  {
   "cell_type": "markdown",
   "metadata": {},
   "source": [
    "## 슬라이싱"
   ]
  },
  {
   "cell_type": "code",
   "execution_count": 9,
   "metadata": {
    "id": "tva6PpQ2BOV1",
    "outputId": "8ca4d52c-2756-4c5e-87b2-215b6e768f38"
   },
   "outputs": [
    {
     "name": "stdout",
     "output_type": "stream",
     "text": [
      "[10  2  3  4  5]\n",
      "\n",
      "[10  2  3]\n",
      "\n",
      "[1 2 3]\n"
     ]
    }
   ],
   "source": [
    "import numpy\n",
    "ar = numpy.array([1,2,3,4,5])\n",
    "#복제된 데이터가 아니고 현재 데이터의 포인터만 가져옴\n",
    "br = ar[0:3]\n",
    "\n",
    "#복제된 데이터\n",
    "cr = ar[0:3].copy()\n",
    "\n",
    "#원본 데이터 변경\n",
    "ar[0]=10\n",
    "print(ar)\n",
    "print()\n",
    "\n",
    "#복제된 데이터가 아니므로 원본 데이터의 변경이 반영됨\n",
    "print(br)\n",
    "print()\n",
    "\n",
    "#복제된 데이터 이므로 반영되지 않음\n",
    "print(cr)"
   ]
  },
  {
   "cell_type": "code",
   "execution_count": null,
   "metadata": {},
   "outputs": [],
   "source": []
  },
  {
   "cell_type": "markdown",
   "metadata": {
    "id": "65Fl6CEuLcuc"
   },
   "source": [
    "## Fancy Indexing"
   ]
  },
  {
   "cell_type": "code",
   "execution_count": 10,
   "metadata": {
    "colab": {
     "base_uri": "https://localhost:8080/"
    },
    "id": "0lMTUiFtBOV2",
    "outputId": "1907f8cf-aa5e-4d13-e9ac-7cb4107e0b4f"
   },
   "outputs": [
    {
     "name": "stdout",
     "output_type": "stream",
     "text": [
      "[[0. 0. 0. 0. 0.]\n",
      " [1. 1. 1. 1. 1.]\n",
      " [2. 2. 2. 2. 2.]\n",
      " [3. 3. 3. 3. 3.]\n",
      " [4. 4. 4. 4. 4.]\n",
      " [5. 5. 5. 5. 5.]\n",
      " [6. 6. 6. 6. 6.]\n",
      " [7. 7. 7. 7. 7.]\n",
      " [8. 8. 8. 8. 8.]\n",
      " [9. 9. 9. 9. 9.]]\n",
      "\n",
      "[[1. 1. 1. 1. 1.]\n",
      " [3. 3. 3. 3. 3.]\n",
      " [5. 5. 5. 5. 5.]\n",
      " [7. 7. 7. 7. 7.]]\n",
      "\n",
      "[0. 1.]\n",
      "\n",
      "[[0. 0.]\n",
      " [1. 1.]]\n",
      "\n",
      "[[0. 0.]\n",
      " [1. 1.]]\n"
     ]
    }
   ],
   "source": [
    "import numpy\n",
    "\n",
    "ar = numpy.empty((10, 5)) #gabage 값을 갖는 10행 5열의 배열을 생성\n",
    "for i in range(10):\n",
    "    ar[i] = i   #각 행의 모든 데이터를 i 값으로 채움\n",
    "print(ar)\n",
    "print()\n",
    "\n",
    "br = ar[[1,3,5,7]] #1,3,5,7 행만 선택\n",
    "print(br)\n",
    "print()\n",
    "\n",
    "cr = ar[[0,1], [3,4]] #[0,3],[1,4] 만 선택\n",
    "print(cr)\n",
    "print()\n",
    "\n",
    "dr = ar[[0,1]][:,[3,4]] #0번 행의 3번째와 4번째 1번 행의 3번째와 4번째 데이터 선택\n",
    "print(dr)\n",
    "print()\n",
    "\n",
    "#fancy 색인은 copy 이므로  ar의 내용이 변경되더라도 dr은 변경이 없음\n",
    "ar[0,3] = 100\n",
    "print(dr)"
   ]
  },
  {
   "cell_type": "code",
   "execution_count": 11,
   "metadata": {
    "colab": {
     "base_uri": "https://localhost:8080/"
    },
    "id": "mPfBJnuDpi2m",
    "outputId": "ae5e0d79-8cc4-447c-8a3d-93a00e1a077b"
   },
   "outputs": [
    {
     "name": "stdout",
     "output_type": "stream",
     "text": [
      "[0. 0. 0. 0. 0.]\n",
      "\n",
      "[0. 0. 0. 0. 0.]\n",
      "\n",
      "[[0. 0. 0. 0. 0.]]\n"
     ]
    }
   ],
   "source": [
    "ar = numpy.empty((10, 5)) #gabage 값을 갖는 10행 5열의 배열을 생성\n",
    "for i in range(10):\n",
    "    ar[i] = i   #각 행의 모든 데이터를 i 값으로 채움\n",
    "#일차원 배열로 리턴\n",
    "print(ar[0])\n",
    "print()\n",
    "\n",
    "print(ar[0, :])\n",
    "print()\n",
    "\n",
    "#이차원 배열로 리턴\n",
    "print(ar[[0]])"
   ]
  },
  {
   "cell_type": "code",
   "execution_count": null,
   "metadata": {},
   "outputs": [],
   "source": []
  },
  {
   "cell_type": "markdown",
   "metadata": {
    "id": "AWubahQuMB6t"
   },
   "source": [
    "## 불리언 색인"
   ]
  },
  {
   "cell_type": "code",
   "execution_count": 12,
   "metadata": {
    "colab": {
     "base_uri": "https://localhost:8080/"
    },
    "id": "uUlQu3uyL9jG",
    "outputId": "d4fb3da3-2be2-4e76-c805-c57128f979bc"
   },
   "outputs": [
    {
     "name": "stdout",
     "output_type": "stream",
     "text": [
      "[ True False False  True False]\n",
      "\n",
      "[[ 0  1  2  3]\n",
      " [12 13 14 15]]\n",
      "\n",
      "[ 2 14]\n",
      "\n",
      "[[ 0  1]\n",
      " [12 13]]\n",
      "\n",
      "[[100 100 100 100]\n",
      " [  4   5   6   7]\n",
      " [  8   9  10  11]\n",
      " [100 100 100 100]\n",
      " [ 16  17  18  19]]\n",
      "\n",
      "[ True  True False  True False]\n"
     ]
    }
   ],
   "source": [
    "import numpy\n",
    "ar = numpy.arange(20).reshape(5, 4)\n",
    "br = numpy.array(['A', \"B\", 'C', 'A', 'C'])\n",
    "print(br == 'A') #데이터가 A인 경우는 True 그렇지 않으면 False\n",
    "print()\n",
    "print(ar[br == 'A']) #True 인 행만 반환\n",
    "print()\n",
    "print(ar[br == 'A', 2]) #열을 2번째만 반환\n",
    "print()\n",
    "print(ar[br == 'A', 0:2]) #열을 0부터 2앞까지 반환\n",
    "print()\n",
    "#데이터 변환\n",
    "ar[br == 'A'] = 100\n",
    "print(ar)\n",
    "print()\n",
    "print( (br == 'A') | (br == 'B') )"
   ]
  },
  {
   "cell_type": "code",
   "execution_count": null,
   "metadata": {
    "id": "Yr1fVDhYBOV2",
    "outputId": "7c01be97-18da-4849-ef37-1ad4420f27a0"
   },
   "outputs": [],
   "source": []
  },
  {
   "cell_type": "markdown",
   "metadata": {
    "id": "XWT4s6aCBOV3"
   },
   "source": [
    "## ndarray의 연산"
   ]
  },
  {
   "cell_type": "code",
   "execution_count": 13,
   "metadata": {
    "colab": {
     "base_uri": "https://localhost:8080/",
     "height": 317
    },
    "id": "JCvNs9IgBOV3",
    "outputId": "67bdeb01-3f64-447b-d991-a73801d1aaf6"
   },
   "outputs": [
    {
     "name": "stdout",
     "output_type": "stream",
     "text": [
      "[2 4 6]\n",
      "\n",
      "[5 7 9]\n",
      "\n",
      "[[ 7  9 11]\n",
      " [11 22 33]]\n",
      "\n"
     ]
    },
    {
     "ename": "ValueError",
     "evalue": "operands could not be broadcast together with shapes (3,) (2,) ",
     "output_type": "error",
     "traceback": [
      "\u001b[0;31m---------------------------------------------------------------------------\u001b[0m",
      "\u001b[0;31mValueError\u001b[0m                                Traceback (most recent call last)",
      "\u001b[0;32m<ipython-input-13-b888c2768fc3>\u001b[0m in \u001b[0;36m<module>\u001b[0;34m\u001b[0m\n\u001b[1;32m     16\u001b[0m \u001b[0;34m\u001b[0m\u001b[0m\n\u001b[1;32m     17\u001b[0m \u001b[0mdr\u001b[0m \u001b[0;34m=\u001b[0m \u001b[0mnumpy\u001b[0m\u001b[0;34m.\u001b[0m\u001b[0marray\u001b[0m\u001b[0;34m(\u001b[0m\u001b[0;34m[\u001b[0m\u001b[0;36m1\u001b[0m\u001b[0;34m,\u001b[0m\u001b[0;36m2\u001b[0m\u001b[0;34m]\u001b[0m\u001b[0;34m)\u001b[0m\u001b[0;34m\u001b[0m\u001b[0;34m\u001b[0m\u001b[0m\n\u001b[0;32m---> 18\u001b[0;31m \u001b[0mresult\u001b[0m \u001b[0;34m=\u001b[0m \u001b[0mar\u001b[0m \u001b[0;34m+\u001b[0m \u001b[0mdr\u001b[0m \u001b[0;31m#차원은 1차원으로 같은데 데이터 개수가 달라서 에러\u001b[0m\u001b[0;34m\u001b[0m\u001b[0;34m\u001b[0m\u001b[0m\n\u001b[0m",
      "\u001b[0;31mValueError\u001b[0m: operands could not be broadcast together with shapes (3,) (2,) "
     ]
    }
   ],
   "source": [
    "import numpy\n",
    "ar = numpy.array([1,2,3])\n",
    "br = numpy.array([4,5,6])\n",
    "cr = numpy.array([[6,7,8], [10,20,30]])\n",
    "result = ar * 2 #배열의 모든 요소에 2를 곱한 결과\n",
    "print(result)\n",
    "print()\n",
    "\n",
    "result = ar + br; #배열 간의 덧셈: 동일한 위치간의 덧셈을 한 결과\n",
    "print(result)\n",
    "print()\n",
    "\n",
    "result = ar + cr #작은 차원인 ar 의 모든 데이터를 cr에 덧셈\n",
    "print(result)\n",
    "print()\n",
    "\n",
    "dr = numpy.array([1,2])\n",
    "result = ar + dr #차원은 1차원으로 같은데 데이터 개수가 달라서 에러"
   ]
  },
  {
   "cell_type": "code",
   "execution_count": null,
   "metadata": {},
   "outputs": [],
   "source": []
  },
  {
   "cell_type": "markdown",
   "metadata": {
    "id": "SaZttpy8qSpF"
   },
   "source": [
    "## 배열의 모든 요소에 동일한 함수 적용"
   ]
  },
  {
   "cell_type": "code",
   "execution_count": 14,
   "metadata": {
    "colab": {
     "base_uri": "https://localhost:8080/"
    },
    "id": "u7l5RHvPpd1w",
    "outputId": "f1ea49f4-30a5-4de0-f898-c443baf033b7"
   },
   "outputs": [
    {
     "data": {
      "text/plain": [
       "array([[101, 102, 103],\n",
       "       [104, 105, 106],\n",
       "       [107, 108, 109]])"
      ]
     },
     "execution_count": 14,
     "metadata": {},
     "output_type": "execute_result"
    }
   ],
   "source": [
    "#벡터화된 연산\n",
    "import numpy \n",
    "\n",
    "# 행렬을 만듭니다.\n",
    "matrix = numpy.array([[1, 2, 3],\n",
    "                   [4, 5, 6],\n",
    "                   [7, 8, 9]])\n",
    "\n",
    "# 100을 더하는 함수를 생성\n",
    "add_100 = lambda i: i + 100\n",
    "\n",
    "# 벡터화된 함수를 만듭니다.\n",
    "vectorized_add_100 = numpy.vectorize(add_100)\n",
    "\n",
    "# 행렬의 모든 원소에 함수를 적용합니다.\n",
    "vectorized_add_100(matrix)"
   ]
  },
  {
   "cell_type": "code",
   "execution_count": null,
   "metadata": {},
   "outputs": [],
   "source": []
  },
  {
   "cell_type": "markdown",
   "metadata": {
    "id": "pQ1vf5t-rMlm"
   },
   "source": [
    "## ndarray의 논리 연산"
   ]
  },
  {
   "cell_type": "code",
   "execution_count": 15,
   "metadata": {
    "colab": {
     "base_uri": "https://localhost:8080/"
    },
    "id": "ULVTzMjgBOV3",
    "outputId": "d668e71c-ee82-49f6-f25d-603d11c17be5"
   },
   "outputs": [
    {
     "name": "stdout",
     "output_type": "stream",
     "text": [
      "[False  True False]\n",
      "[False  True False]\n",
      "\n",
      "[ True False  True]\n",
      "[ True False  True]\n",
      "\n",
      "[False False False]\n",
      "[False  True False]\n",
      "\n",
      "[ True False  True]\n",
      "[ True  True  True]\n"
     ]
    }
   ],
   "source": [
    "import numpy\n",
    "ar = numpy.array([1,2,3])\n",
    "br = numpy.array([4,2,6])\n",
    "\n",
    "#각 요소가 같은지 비교\n",
    "print(numpy.equal(ar, br))\n",
    "print(ar == br)\n",
    "print()\n",
    "\n",
    "#각 요소가 다른지 비교\n",
    "print(numpy.not_equal(ar, br))\n",
    "print(ar != br)\n",
    "print()\n",
    "\n",
    "#ar의 요소가 큰지 확인\n",
    "print(numpy.greater(ar, br))\n",
    "print(numpy.greater_equal(ar, br))\n",
    "print()\n",
    "\n",
    "#ar의 요소가 작은지 확인\n",
    "print(numpy.less(ar, br))\n",
    "print(numpy.less_equal(ar, br))"
   ]
  },
  {
   "cell_type": "code",
   "execution_count": 16,
   "metadata": {
    "id": "uZSopYv2BOV3",
    "outputId": "85e4f5d6-2946-437f-af8b-2f4cea77b0d2"
   },
   "outputs": [
    {
     "name": "stdout",
     "output_type": "stream",
     "text": [
      "[ True False  True]\n",
      "[ True  True  True]\n",
      "[False  True False]\n",
      "\n",
      "True\n",
      "False\n"
     ]
    }
   ],
   "source": [
    "import numpy\n",
    "ar = numpy.array([1,0,3])\n",
    "br = numpy.array([4,2,3])\n",
    "\n",
    "#논리 연산\n",
    "print(numpy.logical_and(ar, br))\n",
    "print(numpy.logical_or(ar, br))\n",
    "print(numpy.logical_xor(ar, br))\n",
    "print()\n",
    "\n",
    "#데이터의 소속 여부 확인\n",
    "print(1 in ar)\n",
    "print(2 in ar)"
   ]
  },
  {
   "cell_type": "code",
   "execution_count": null,
   "metadata": {},
   "outputs": [],
   "source": []
  },
  {
   "cell_type": "markdown",
   "metadata": {
    "id": "jUAljTmksAOw"
   },
   "source": [
    "## 배열의 전치 와 축 변경"
   ]
  },
  {
   "cell_type": "code",
   "execution_count": 17,
   "metadata": {
    "colab": {
     "base_uri": "https://localhost:8080/"
    },
    "id": "LI7TARTZsAgw",
    "outputId": "e28bf05f-9365-41d6-c499-35d032833adb"
   },
   "outputs": [
    {
     "name": "stdout",
     "output_type": "stream",
     "text": [
      "[[ 0  1  2  3  4]\n",
      " [ 5  6  7  8  9]\n",
      " [10 11 12 13 14]]\n",
      "\n",
      "[[ 0  5 10]\n",
      " [ 1  6 11]\n",
      " [ 2  7 12]\n",
      " [ 3  8 13]\n",
      " [ 4  9 14]]\n",
      "\n",
      "[[ 0  5 10]\n",
      " [ 1  6 11]\n",
      " [ 2  7 12]\n",
      " [ 3  8 13]\n",
      " [ 4  9 14]]\n"
     ]
    }
   ],
   "source": [
    "ar = numpy.arange(15).reshape((3, 5))\n",
    "print(ar)\n",
    "print()\n",
    "\n",
    "print(ar.T)\n",
    "print()\n",
    "\n",
    "print(ar.transpose(1,0))"
   ]
  },
  {
   "cell_type": "code",
   "execution_count": null,
   "metadata": {},
   "outputs": [],
   "source": []
  },
  {
   "cell_type": "markdown",
   "metadata": {
    "id": "nXTVhNfyBOV4"
   },
   "source": [
    "## 난수"
   ]
  },
  {
   "cell_type": "code",
   "execution_count": 18,
   "metadata": {
    "colab": {
     "base_uri": "https://localhost:8080/"
    },
    "id": "9taObvWQBOV4",
    "outputId": "530f8d4b-3883-48f5-9f69-859216bb1e6e"
   },
   "outputs": [
    {
     "name": "stdout",
     "output_type": "stream",
     "text": [
      "[-1.38115194  0.01269875 -1.5817729   1.77950526 -0.21296055]\n",
      "\n",
      "[[-0.95391575  0.501173   -0.66573728]\n",
      " [-1.86067898  2.26492081 -1.7178524 ]]\n",
      "\n",
      "[ 0.49671415 -0.1382643   0.64768854  1.52302986 -0.23415337]\n"
     ]
    }
   ],
   "source": [
    "import numpy\n",
    "print(numpy.random.normal(size=5)) #5개의 난수 생성 - 랜덤\n",
    "print()\n",
    "print(numpy.random.normal(size=(2, 3))) #2행 3열의 난수 생성\n",
    "print()\n",
    "numpy.random.seed(seed=42) #시드 설정\n",
    "print(numpy.random.normal(size=5)) #5개의 난수 생성 - 실행할 때마다 동일한 값"
   ]
  },
  {
   "cell_type": "code",
   "execution_count": null,
   "metadata": {},
   "outputs": [],
   "source": []
  },
  {
   "cell_type": "markdown",
   "metadata": {
    "id": "3ttc7LsZBOV4"
   },
   "source": [
    "## 기본 통계 함수"
   ]
  },
  {
   "cell_type": "code",
   "execution_count": 19,
   "metadata": {
    "colab": {
     "base_uri": "https://localhost:8080/"
    },
    "id": "_Rt3Cp8XBOV4",
    "outputId": "573d1f2b-cfd0-45f0-d54f-975ef2616585"
   },
   "outputs": [
    {
     "name": "stdout",
     "output_type": "stream",
     "text": [
      "배열의 합계: 95\n",
      "배열의 평균: 8.636363636363637\n",
      "배열의 중간값: 7.0\n",
      "배열의 표준편차: 6.138888369503321\n",
      "배열의 분산: 37.68595041322314\n",
      "배열에서 3/4에 해당하는 값: 11.5\n"
     ]
    }
   ],
   "source": [
    "import numpy\n",
    "ar = numpy.array([1, 2, 4, 5, 5, 7, 9, 10, 13, 18, 21])\n",
    "print('배열의 합계:', numpy.sum(ar))\n",
    "print('배열의 평균:', numpy.mean(ar))\n",
    "print('배열의 중간값:', numpy.median(ar))\n",
    "print('배열의 표준편차:', numpy.std(ar))\n",
    "print('배열의 분산:', numpy.var(ar))\n",
    "print('배열에서 3/4에 해당하는 값:', numpy.percentile(ar, 75))"
   ]
  },
  {
   "cell_type": "code",
   "execution_count": 20,
   "metadata": {
    "colab": {
     "base_uri": "https://localhost:8080/"
    },
    "id": "S0haVMqjBOV4",
    "outputId": "d8149d5c-b11d-4f47-8ece-91ce00f07121"
   },
   "outputs": [
    {
     "name": "stdout",
     "output_type": "stream",
     "text": [
      "74\n",
      "===============\n",
      "[ 8 11 14 18 23]\n",
      "===============\n",
      "[17 57]\n"
     ]
    }
   ],
   "source": [
    "import numpy\n",
    "#print(help(numpy.sum))\n",
    "\n",
    "ar = numpy.array([[1, 2, 4, 5, 5], [7, 9, 10, 13, 18]])\n",
    "#배열 전체의 합계\n",
    "print(numpy.sum(ar))\n",
    "print('===============')\n",
    "#열 단위의 합계\n",
    "print(numpy.sum(ar, axis=0))\n",
    "print('===============')\n",
    "#행 단위의 합계\n",
    "print(numpy.sum(ar, axis=1))"
   ]
  },
  {
   "cell_type": "code",
   "execution_count": 21,
   "metadata": {
    "colab": {
     "base_uri": "https://localhost:8080/"
    },
    "id": "WjSiAzCtBOV5",
    "outputId": "6b2205db-a9dd-44e6-e92e-b437480f0000"
   },
   "outputs": [
    {
     "name": "stdout",
     "output_type": "stream",
     "text": [
      "[3 6 9]\n",
      "\n",
      "[[3]\n",
      " [6]\n",
      " [9]]\n"
     ]
    }
   ],
   "source": [
    "import numpy\n",
    "\n",
    "# 행렬을 만듭니다.\n",
    "matrix = numpy.array([[1, 2, 3],\n",
    "                   [4, 5, 6],\n",
    "                   [7, 8, 9]])\n",
    "\n",
    "# 각 행에서 최댓값\n",
    "print(numpy.max(matrix, axis=1))\n",
    "print()\n",
    "\n",
    "#결과가 동일한 차원의 배열\n",
    "print(numpy.max(matrix, axis=1, keepdims=True))"
   ]
  },
  {
   "cell_type": "code",
   "execution_count": 22,
   "metadata": {
    "colab": {
     "base_uri": "https://localhost:8080/"
    },
    "id": "NKMEnrQR0Myz",
    "outputId": "fbe5a9c6-5a09-4451-9521-e20a2cd20b70"
   },
   "outputs": [
    {
     "name": "stdout",
     "output_type": "stream",
     "text": [
      "[-0.23413696  1.57921282  0.76743473 -0.46947439  0.54256004 -0.46341769\n",
      " -0.46572975  0.24196227 -1.91328024 -1.72491783 -0.56228753 -1.01283112\n",
      "  0.31424733 -0.90802408 -1.4123037   1.46564877 -0.2257763   0.0675282\n",
      " -1.42474819 -0.54438272  0.11092259 -1.15099358  0.37569802 -0.60063869\n",
      " -0.29169375 -0.60170661  1.85227818 -0.01349722 -1.05771093  0.82254491\n",
      " -1.22084365  0.2088636  -1.95967012 -1.32818605  0.19686124  0.73846658\n",
      "  0.17136828 -0.11564828 -0.3011037  -1.47852199 -0.71984421 -0.46063877\n",
      "  1.05712223  0.34361829 -1.76304016  0.32408397 -0.38508228 -0.676922\n",
      "  0.61167629  1.03099952  0.93128012 -0.83921752 -0.30921238  0.33126343\n",
      "  0.97554513 -0.47917424 -0.18565898 -1.10633497 -1.19620662  0.81252582\n",
      "  1.35624003 -0.07201012  1.0035329   0.36163603 -0.64511975  0.36139561\n",
      "  1.53803657 -0.03582604  1.56464366 -2.6197451   0.8219025   0.08704707\n",
      " -0.29900735  0.09176078 -1.98756891 -0.21967189  0.35711257  1.47789404\n",
      " -0.51827022 -0.8084936  -0.50175704  0.91540212  0.32875111 -0.5297602\n",
      "  0.51326743  0.09707755  0.96864499 -0.70205309 -0.32766215 -0.39210815\n",
      " -1.46351495  0.29612028  0.26105527  0.00511346 -0.23458713 -1.41537074\n",
      " -0.42064532 -0.34271452 -0.80227727 -0.16128571]\n",
      "\n",
      "43\n"
     ]
    }
   ],
   "source": [
    "ar = numpy.random.randn(100)\n",
    "print(ar)\n",
    "print()\n",
    "print((ar > 0).sum())"
   ]
  },
  {
   "cell_type": "code",
   "execution_count": null,
   "metadata": {},
   "outputs": [],
   "source": []
  },
  {
   "cell_type": "markdown",
   "metadata": {
    "id": "DbFFViEJBOV5"
   },
   "source": [
    "## 배열 기술 통계"
   ]
  },
  {
   "cell_type": "code",
   "execution_count": 23,
   "metadata": {
    "colab": {
     "base_uri": "https://localhost:8080/"
    },
    "id": "a9kiZ0JlBOV5",
    "outputId": "40aefa8c-231a-404d-afc8-96bada639f94"
   },
   "outputs": [
    {
     "name": "stdout",
     "output_type": "stream",
     "text": [
      "24\n",
      "[3 8]\n",
      "[ 2 12]\n",
      "10\n",
      "[10]\n",
      "[4 6]\n",
      "[3 7]\n"
     ]
    }
   ],
   "source": [
    "import numpy\n",
    "b = numpy.array([1, 2, 3, 4])\n",
    "c = numpy.array([[1, 2], [3, 4]])\n",
    "print(numpy.prod(b)) # 1*2*3*4\n",
    "print(numpy.prod(c, axis=0))  # [1*3, 2*4]\n",
    "print(numpy.prod(c, axis=1))  # [1*2, 3*4]\n",
    "print(numpy.sum(b)) # [1+2+3+4]\n",
    "print(numpy.sum(b, keepdims=True))\n",
    "print(numpy.sum(c, axis=0))  # [1+3, 2+4]\n",
    "print(numpy.sum(c, axis=1) ) # [1+2, 3+4]"
   ]
  },
  {
   "cell_type": "code",
   "execution_count": 24,
   "metadata": {
    "colab": {
     "base_uri": "https://localhost:8080/"
    },
    "id": "9xy-N-ADBOV5",
    "outputId": "01348f02-8290-48e6-b044-b6b28aa055b0"
   },
   "outputs": [
    {
     "name": "stdout",
     "output_type": "stream",
     "text": [
      "[ 1  2  6 24]\n",
      "[[1 2]\n",
      " [3 8]]\n",
      "[[ 1  2]\n",
      " [ 3 12]]\n",
      "[ 1  3  6 10]\n",
      "[[1 2]\n",
      " [4 6]]\n",
      "[[1 3]\n",
      " [3 7]]\n"
     ]
    }
   ],
   "source": [
    "import numpy\n",
    "b = numpy.array([1, 2, 3, 4])\n",
    "c = numpy.array([[1, 2], [3, 4]])\n",
    "print(numpy.cumprod(b))# [1, 1*2, 1*2*3, 1*2*3*4]\n",
    "print(numpy.cumprod(c, axis=0))  # [[1, 2], [1*3, 2*4]]\n",
    "print(numpy.cumprod(c, axis=1))  # [[1, 1*2], [3, 3*4]]\n",
    "print(numpy.cumsum(b))# [1, 1+2, 1+2+3, 1+2+3+4]\n",
    "print(numpy.cumsum(c, axis=0))  # [[1, 2], [1+3, 2+4]]\n",
    "print(numpy.cumsum(c, axis=1))  # [[1, 1+2], [3, 3+4]]"
   ]
  },
  {
   "cell_type": "code",
   "execution_count": 25,
   "metadata": {
    "colab": {
     "base_uri": "https://localhost:8080/"
    },
    "id": "RzZNQU5OBOV5",
    "outputId": "ba90ade7-7520-48b3-d3aa-457cddbefb81"
   },
   "outputs": [
    {
     "name": "stdout",
     "output_type": "stream",
     "text": [
      "[1 2 6 3 7]\n",
      "[ 1  4 -3  4]\n"
     ]
    }
   ],
   "source": [
    "import numpy\n",
    "g = numpy.array([1, 2, 4, 10, 13, 20])\n",
    "print(numpy.diff(g))  # [2-1, 4-2, 10-4, 13-10, 20-13]\n",
    "print(numpy.diff(g, n=2))  # [2-1, 6-2, 3-6, 7-3]"
   ]
  },
  {
   "cell_type": "code",
   "execution_count": null,
   "metadata": {},
   "outputs": [],
   "source": []
  },
  {
   "cell_type": "markdown",
   "metadata": {
    "id": "4V9nT1PCBOV6"
   },
   "source": [
    "## 소수 관련 함수"
   ]
  },
  {
   "cell_type": "code",
   "execution_count": 26,
   "metadata": {
    "colab": {
     "base_uri": "https://localhost:8080/"
    },
    "id": "BDqrBAaTBOV6",
    "outputId": "9fff8013-8603-4c5d-b272-ab86e440d799"
   },
   "outputs": [
    {
     "name": "stdout",
     "output_type": "stream",
     "text": [
      "[-5. -2.  0.  2.  3.  4.]\n",
      "[-4.6 -2.2  0.   1.6  3.4  4.1]\n",
      "[-5. -2.  0.  2.  3.  4.]\n",
      "[-4. -2.  0.  1.  3.  4.]\n",
      "[-4. -2.  0.  2.  4.  5.]\n",
      "[-5. -3.  0.  1.  3.  4.]\n",
      "[-4. -2.  0.  1.  3.  4.]\n"
     ]
    }
   ],
   "source": [
    "import numpy\n",
    "ar = numpy.array([-4.62, -2.19, 0, 1.57, 3.40, 4.06])\n",
    "print(numpy.around(ar))\n",
    "print(numpy.round_(ar, 1))\n",
    "print(numpy.rint(ar))\n",
    "print(numpy.fix(ar))\n",
    "print(numpy.ceil(ar))\n",
    "print(numpy.floor(ar))\n",
    "print(numpy.trunc(ar))"
   ]
  },
  {
   "cell_type": "code",
   "execution_count": null,
   "metadata": {},
   "outputs": [],
   "source": []
  },
  {
   "cell_type": "markdown",
   "metadata": {
    "id": "un_QLth9BOV6"
   },
   "source": [
    "## 논리 함수"
   ]
  },
  {
   "cell_type": "code",
   "execution_count": 27,
   "metadata": {
    "colab": {
     "base_uri": "https://localhost:8080/"
    },
    "id": "u7DbMo3qBOV6",
    "outputId": "5167b02d-0c05-46bd-fc92-84ea10d5071d"
   },
   "outputs": [
    {
     "name": "stdout",
     "output_type": "stream",
     "text": [
      "[False False False False False  True]\n",
      "[10.  1.  2.  3.  4.]\n",
      "[ True False False  True  True]\n",
      "[10.  3.  4.]\n"
     ]
    }
   ],
   "source": [
    "import numpy\n",
    "ar = numpy.array([10, 1, 2, 3, 4, numpy.nan])\n",
    "print(numpy.isnan(ar)) #isnan을 이용해서 nan 데이터가 있는지 확인\n",
    "br = ar[numpy.logical_not(numpy.isnan(ar))] #nan 데이터를 제외하고 가져오기\n",
    "print(br)\n",
    "print(numpy.logical_not( br <= 2 )) #2보다 큰 데이터가 있는지 확인\n",
    "cr = br[numpy.logical_not( br <= 2 )] #2보다 큰 데이터 추출\n",
    "print(cr)"
   ]
  },
  {
   "cell_type": "code",
   "execution_count": null,
   "metadata": {},
   "outputs": [],
   "source": []
  },
  {
   "cell_type": "markdown",
   "metadata": {
    "id": "eRQq-dcKBOV6"
   },
   "source": [
    "## 이항 함수"
   ]
  },
  {
   "cell_type": "code",
   "execution_count": 28,
   "metadata": {
    "colab": {
     "base_uri": "https://localhost:8080/"
    },
    "id": "gbv-Ee2NBOV6",
    "outputId": "8042e8af-b0b0-4e6a-fc7d-69c89026d725"
   },
   "outputs": [
    {
     "name": "stdout",
     "output_type": "stream",
     "text": [
      "[ 6  8 10 12]\n",
      "[ 6  8 10 12]\n",
      "[1 6 7 4]\n"
     ]
    }
   ],
   "source": [
    "import numpy\n",
    "ar = numpy.array([1, 2, 3, 4])\n",
    "br = numpy.array([5, 6, 7, 8])\n",
    "print(ar + br)\n",
    "print(numpy.add(ar, br))\n",
    "cond = [True, False, False, True]\n",
    "print(numpy.where(cond, ar, br))"
   ]
  },
  {
   "cell_type": "code",
   "execution_count": null,
   "metadata": {},
   "outputs": [],
   "source": []
  },
  {
   "cell_type": "markdown",
   "metadata": {
    "id": "HtwQLtqkBOV7"
   },
   "source": [
    "## 집합 관련 함수"
   ]
  },
  {
   "cell_type": "code",
   "execution_count": 29,
   "metadata": {
    "colab": {
     "base_uri": "https://localhost:8080/"
    },
    "id": "xiI-wvNvBOV7",
    "outputId": "ffd5dc42-c1d8-4a73-fcc2-4cdee291ffca"
   },
   "outputs": [
    {
     "name": "stdout",
     "output_type": "stream",
     "text": [
      "중복제거: [30 40 78 90]\n",
      "교집합: [30 90]\n",
      "합집합: [30 40 45 76 78 90]\n",
      "소속여부: [ True False  True False  True]\n",
      "차집합 [40 78]\n",
      "[40 45 76 78]\n"
     ]
    }
   ],
   "source": [
    "import numpy\n",
    "ar = numpy.array([90, 40, 30, 78, 30])\n",
    "#중복 제거\n",
    "print(\"중복제거:\", numpy.unique(ar))\n",
    "br = numpy.array([30, 45, 76, 90])\n",
    "#교집합\n",
    "print('교집합:', numpy.intersect1d(ar, br))\n",
    "#합집합\n",
    "print('합집합:',numpy.union1d(ar, br))\n",
    "#소속여부\n",
    "print('소속여부:',numpy.in1d(ar, br))\n",
    "#차집합\n",
    "print('차집합',numpy.setdiff1d(ar, br))\n",
    "#한쪽에만 속한 데이터\n",
    "print(numpy.setxor1d(ar, br))"
   ]
  },
  {
   "cell_type": "code",
   "execution_count": null,
   "metadata": {},
   "outputs": [],
   "source": []
  },
  {
   "cell_type": "markdown",
   "metadata": {
    "id": "qvPxZCms2KTB"
   },
   "source": [
    "## ndarray 정렬"
   ]
  },
  {
   "cell_type": "code",
   "execution_count": 30,
   "metadata": {
    "colab": {
     "base_uri": "https://localhost:8080/"
    },
    "id": "cB2am1Iw2Rax",
    "outputId": "e57c6a86-6a08-4aea-e56b-98e40ba08648"
   },
   "outputs": [
    {
     "name": "stdout",
     "output_type": "stream",
     "text": [
      "[30 40 78 90]\n",
      "\n",
      "[30 40 78 90]\n",
      "\n",
      "[90 78 40 30]\n",
      "\n",
      "[30 40 78 90]\n",
      "\n",
      "[[30 40 27]\n",
      " [90 78 50]]\n"
     ]
    }
   ],
   "source": [
    "import numpy\n",
    "ar = numpy.array([90, 40, 30, 78])\n",
    "ar.sort()\n",
    "print(ar)\n",
    "print()\n",
    "\n",
    "br = numpy.sort(ar)\n",
    "print(br)\n",
    "print()\n",
    "\n",
    "# 내림차순\n",
    "cr = numpy.sort(ar)[::-1]\n",
    "print(cr)\n",
    "print()\n",
    "\n",
    "ar.sort(kind='mergesort')\n",
    "print(ar)\n",
    "print()\n",
    "\n",
    "ar = numpy.array([[90, 40, 50], [30, 78,27]])\n",
    "ar.sort(axis=0)\n",
    "print(ar)"
   ]
  },
  {
   "cell_type": "code",
   "execution_count": null,
   "metadata": {},
   "outputs": [],
   "source": []
  },
  {
   "cell_type": "markdown",
   "metadata": {
    "id": "zIh9RJjwBOV7"
   },
   "source": [
    "## 배열 분할"
   ]
  },
  {
   "cell_type": "code",
   "execution_count": 32,
   "metadata": {
    "id": "oV1HankkBOV7",
    "outputId": "ab217a88-aca3-470f-b4bc-874f3885546e"
   },
   "outputs": [
    {
     "name": "stdout",
     "output_type": "stream",
     "text": [
      "[[ 1  2  3  4]\n",
      " [ 5  6  7  8]\n",
      " [ 9 10 11 12]\n",
      " [13 14 15 16]]\n",
      "\n",
      "[[1 2 3 4]\n",
      " [5 6 7 8]]\n",
      "[[ 9 10 11 12]\n",
      " [13 14 15 16]]\n",
      "\n",
      "[[ 1  2]\n",
      " [ 5  6]\n",
      " [ 9 10]\n",
      " [13 14]]\n",
      "[[ 3]\n",
      " [ 7]\n",
      " [11]\n",
      " [15]]\n",
      "[[ 4]\n",
      " [ 8]\n",
      " [12]\n",
      " [16]]\n"
     ]
    }
   ],
   "source": [
    "import numpy\n",
    "ar = numpy.array([[1, 2, 3, 4], [5, 6, 7, 8], [9, 10, 11, 12], [13 ,14 ,15, 16]])\n",
    "print(ar)\n",
    "print()\n",
    "splitY = numpy.split(ar, 2, axis = 0) #x축 방향으로 2개로 나눔\n",
    "print(splitY[0])\n",
    "print(splitY[1])\n",
    "print()\n",
    "splitX = numpy.split(ar, [2, 3], axis = 1) #2번째 앞까지 나누고 3번째 앞까지 나누고 나머지\n",
    "print(splitX[0])\n",
    "print(splitX[1])\n",
    "print(splitX[2])"
   ]
  },
  {
   "cell_type": "code",
   "execution_count": null,
   "metadata": {},
   "outputs": [],
   "source": []
  },
  {
   "cell_type": "markdown",
   "metadata": {},
   "source": [
    "## 배열의 결합"
   ]
  },
  {
   "cell_type": "code",
   "execution_count": null,
   "metadata": {},
   "outputs": [],
   "source": [
    "import numpy\n",
    "ar = [1,2,3,4]\n",
    "br = [5,6,7,8]\n",
    "cr = numpy.concatenate((ar, br))\n",
    "print(cr)\n",
    "print()\n",
    "\n",
    "ar = numpy.array([[1, 2], [3, 4]])\n",
    "br = numpy.array([[5, 6], [7, 8]])\n",
    "cr = numpy.concatenate((ar, br), axis = 0)\n",
    "print(cr)\n",
    "print()\n",
    "\n",
    "cr = numpy.concatenate((ar, br), axis = 1)\n",
    "print(cr)"
   ]
  },
  {
   "cell_type": "code",
   "execution_count": 34,
   "metadata": {
    "colab": {
     "base_uri": "https://localhost:8080/"
    },
    "id": "v-s2NJDMPT_O",
    "outputId": "38a0d63f-30ef-41f8-daf7-5dfa94c13f70"
   },
   "outputs": [
    {
     "name": "stdout",
     "output_type": "stream",
     "text": [
      "[[1. 1. 1.]\n",
      " [1. 1. 1.]]\n",
      "\n",
      "[[0. 0.]\n",
      " [0. 0.]]\n",
      "\n",
      "[[1. 1. 1. 0. 0.]\n",
      " [1. 1. 1. 0. 0.]]\n"
     ]
    }
   ],
   "source": [
    "#hstack: 행의 수가 같은 두 개 이상의 배열을 옆으로 연결하여 열의 수가 더 많은 배열을 생성\n",
    "import numpy\n",
    "a1 = numpy.ones((2, 3))\n",
    "print(a1)\n",
    "print()\n",
    "\n",
    "a2 = numpy.zeros((2, 2))\n",
    "print(a2)\n",
    "print()\n",
    "\n",
    "print(numpy.hstack([a1, a2]))"
   ]
  },
  {
   "cell_type": "code",
   "execution_count": 35,
   "metadata": {
    "colab": {
     "base_uri": "https://localhost:8080/"
    },
    "id": "NICoSwR3PWgv",
    "outputId": "6ae50669-3c34-4efa-f2b0-e89e724ee79e"
   },
   "outputs": [
    {
     "name": "stdout",
     "output_type": "stream",
     "text": [
      "[[1. 1.]\n",
      " [1. 1.]]\n",
      "\n",
      "[[0. 0.]\n",
      " [0. 0.]]\n",
      "\n",
      "[[1. 1.]\n",
      " [1. 1.]\n",
      " [0. 0.]\n",
      " [0. 0.]]\n"
     ]
    }
   ],
   "source": [
    "#vstack: 열의 수가 같은 두 개 이상의 배열을 위아래로 연결하여 행의 수가 더 많은 배열 생성\n",
    "import numpy\n",
    "a1 = numpy.ones((2, 2))\n",
    "print(a1)\n",
    "print()\n",
    "\n",
    "a2 = numpy.zeros((2, 2))\n",
    "print(a2)\n",
    "print()\n",
    "\n",
    "print(numpy.vstack([a1, a2]))\n"
   ]
  },
  {
   "cell_type": "code",
   "execution_count": 36,
   "metadata": {
    "colab": {
     "base_uri": "https://localhost:8080/"
    },
    "id": "gbY5L-WyPaok",
    "outputId": "d7809080-bf8d-4d0d-b46d-e0db14f00434"
   },
   "outputs": [
    {
     "name": "stdout",
     "output_type": "stream",
     "text": [
      "[[ 1  2  3  4]\n",
      " [ 5  6  7  8]\n",
      " [ 9 10 11 12]]\n",
      "\n",
      "[[101 102 103 104]\n",
      " [105 106 107 108]\n",
      " [109 110 111 112]]\n",
      "\n",
      "[[[  1 101]\n",
      "  [  2 102]\n",
      "  [  3 103]\n",
      "  [  4 104]]\n",
      "\n",
      " [[  5 105]\n",
      "  [  6 106]\n",
      "  [  7 107]\n",
      "  [  8 108]]\n",
      "\n",
      " [[  9 109]\n",
      "  [ 10 110]\n",
      "  [ 11 111]\n",
      "  [ 12 112]]]\n"
     ]
    }
   ],
   "source": [
    "#dstack\n",
    "import numpy\n",
    "c1 = numpy.array(range(1,13,1))\n",
    "c2 = c1.reshape(3,4)\n",
    "print(c2)\n",
    "print()\n",
    "\n",
    "d1 = numpy.array(range(101,113,1))\n",
    "d2 = d1.reshape(3,4)\n",
    "print(d2)\n",
    "print()\n",
    "\n",
    "print(numpy.dstack([c2, d2]))"
   ]
  },
  {
   "cell_type": "code",
   "execution_count": 37,
   "metadata": {
    "colab": {
     "base_uri": "https://localhost:8080/"
    },
    "id": "bfCATcvZP42-",
    "outputId": "5d0fa860-bc7c-4c56-d43a-4890c3052150"
   },
   "outputs": [
    {
     "name": "stdout",
     "output_type": "stream",
     "text": [
      "[[[  1   2   3   4]\n",
      "  [  5   6   7   8]\n",
      "  [  9  10  11  12]]\n",
      "\n",
      " [[101 102 103 104]\n",
      "  [105 106 107 108]\n",
      "  [109 110 111 112]]]\n"
     ]
    }
   ],
   "source": [
    "# stack\n",
    "print(numpy.stack([c2, d2]))"
   ]
  },
  {
   "cell_type": "code",
   "execution_count": 38,
   "metadata": {
    "colab": {
     "base_uri": "https://localhost:8080/"
    },
    "id": "PidMdluwQE9N",
    "outputId": "32ef2ef2-03a1-4640-a321-411e8c396b19"
   },
   "outputs": [
    {
     "name": "stdout",
     "output_type": "stream",
     "text": [
      "[[[  1   2   3   4]\n",
      "  [101 102 103 104]]\n",
      "\n",
      " [[  5   6   7   8]\n",
      "  [105 106 107 108]]\n",
      "\n",
      " [[  9  10  11  12]\n",
      "  [109 110 111 112]]]\n"
     ]
    }
   ],
   "source": [
    "print(numpy.stack([c2, d2], axis=1))"
   ]
  },
  {
   "cell_type": "code",
   "execution_count": 39,
   "metadata": {
    "colab": {
     "base_uri": "https://localhost:8080/"
    },
    "id": "1f2LGSEzQwIm",
    "outputId": "1f996cc9-33b5-463f-c0a2-11d0313e0b7d"
   },
   "outputs": [
    {
     "name": "stdout",
     "output_type": "stream",
     "text": [
      "[1 2 3 4 5 6]\n"
     ]
    }
   ],
   "source": [
    "# r_\n",
    "print(numpy.r_[numpy.array([1, 2, 3]), numpy.array([4, 5, 6])])\n"
   ]
  },
  {
   "cell_type": "code",
   "execution_count": 40,
   "metadata": {
    "colab": {
     "base_uri": "https://localhost:8080/"
    },
    "id": "5RsnDumrQ6uL",
    "outputId": "2d1d20b3-6c37-4363-c54f-5f8faed1db82"
   },
   "outputs": [
    {
     "name": "stdout",
     "output_type": "stream",
     "text": [
      "[[1 4]\n",
      " [2 5]\n",
      " [3 6]]\n"
     ]
    }
   ],
   "source": [
    "# c_\n",
    "print(numpy.c_[numpy.array([1, 2, 3]), numpy.array([4, 5, 6])])\n"
   ]
  },
  {
   "cell_type": "code",
   "execution_count": 41,
   "metadata": {
    "colab": {
     "base_uri": "https://localhost:8080/"
    },
    "id": "sBcwEbkcRFHQ",
    "outputId": "c9ef1a8c-f3d1-441a-b951-ce0fbc6b3df6"
   },
   "outputs": [
    {
     "name": "stdout",
     "output_type": "stream",
     "text": [
      "[[0 1 2 0 1 2]\n",
      " [3 4 5 3 4 5]]\n",
      "\n",
      "[[0 1 2 0 1 2]\n",
      " [3 4 5 3 4 5]\n",
      " [0 1 2 0 1 2]\n",
      " [3 4 5 3 4 5]\n",
      " [0 1 2 0 1 2]\n",
      " [3 4 5 3 4 5]]\n"
     ]
    }
   ],
   "source": [
    "#tile\n",
    "a = numpy.array([[0, 1, 2], [3, 4, 5]])\n",
    "print(numpy.tile(a, 2))\n",
    "print()\n",
    "print(numpy.tile(a, (3, 2)))"
   ]
  },
  {
   "cell_type": "code",
   "execution_count": null,
   "metadata": {
    "id": "JsZO1vaGTL8N"
   },
   "outputs": [],
   "source": []
  },
  {
   "cell_type": "markdown",
   "metadata": {
    "id": "FTp5TW3zTQdk"
   },
   "source": [
    "## 배열의 데이터 저장 과 가져오기"
   ]
  },
  {
   "cell_type": "code",
   "execution_count": 42,
   "metadata": {
    "colab": {
     "base_uri": "https://localhost:8080/"
    },
    "id": "zW2p_ekvTR-w",
    "outputId": "ec5335ee-bc46-41cd-912b-7f9da7ec9868"
   },
   "outputs": [
    {
     "name": "stdout",
     "output_type": "stream",
     "text": [
      "[[0 1 2]\n",
      " [3 4 5]]\n",
      "\n",
      "[0 1 2 3 4 5 6 7 8 9]\n"
     ]
    }
   ],
   "source": [
    "ar = numpy.array([[0, 1, 2], [3, 4, 5]])\n",
    "#파일로 저장\n",
    "numpy.save('some_array.npy', ar)\n",
    "#파일에서 읽어오기\n",
    "print(numpy.load('some_array.npy'))\n",
    "print()\n",
    "\n",
    "br = numpy.arange(10)\n",
    "numpy.savez('array_archive.npz', ar=ar, br=br)\n",
    "print(numpy.load('array_archive.npz')['br'])"
   ]
  },
  {
   "cell_type": "code",
   "execution_count": null,
   "metadata": {},
   "outputs": [],
   "source": []
  }
 ],
 "metadata": {
  "colab": {
   "name": "1.numpy.ipynb",
   "provenance": []
  },
  "kernelspec": {
   "display_name": "Python 3",
   "language": "python",
   "name": "python3"
  },
  "language_info": {
   "codemirror_mode": {
    "name": "ipython",
    "version": 3
   },
   "file_extension": ".py",
   "mimetype": "text/x-python",
   "name": "python",
   "nbconvert_exporter": "python",
   "pygments_lexer": "ipython3",
   "version": "3.8.8"
  }
 },
 "nbformat": 4,
 "nbformat_minor": 1
}

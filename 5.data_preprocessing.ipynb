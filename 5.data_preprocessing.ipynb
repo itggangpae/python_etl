{
 "cells": [
  {
   "cell_type": "markdown",
   "metadata": {},
   "source": [
    "# 데이터 전처리"
   ]
  },
  {
   "cell_type": "markdown",
   "metadata": {},
   "source": [
    "## 수치형 데이터"
   ]
  },
  {
   "cell_type": "markdown",
   "metadata": {},
   "source": [
    "### 단위 환산"
   ]
  },
  {
   "cell_type": "code",
   "execution_count": 2,
   "metadata": {},
   "outputs": [
    {
     "name": "stdout",
     "output_type": "stream",
     "text": [
      "    mpg  cylinders  displacement horsepower  weight  acceleration  model year  \\\n",
      "0  18.0          8         307.0      130.0  3504.0          12.0          70   \n",
      "1  15.0          8         350.0      165.0  3693.0          11.5          70   \n",
      "2  18.0          8         318.0      150.0  3436.0          11.0          70   \n",
      "\n",
      "   origin                       name  \n",
      "0       1  chevrolet chevelle malibu  \n",
      "1       1          buick skylark 320  \n",
      "2       1         plymouth satellite  \n",
      "\n"
     ]
    }
   ],
   "source": [
    "# 라이브러리 불러오기\n",
    "import pandas as pd\n",
    "\n",
    "# 데이터 읽어오기\n",
    "df = pd.read_csv('./data/auto-mpg.csv', header=None)\n",
    "\n",
    "# 열 이름을 설정\n",
    "df.columns = ['mpg','cylinders','displacement','horsepower','weight',\n",
    "              'acceleration','model year','origin','name'] \n",
    "print(df.head(3))    \n",
    "print()"
   ]
  },
  {
   "cell_type": "code",
   "execution_count": 3,
   "metadata": {},
   "outputs": [
    {
     "name": "stdout",
     "output_type": "stream",
     "text": [
      "    mpg  cylinders  displacement horsepower  weight  acceleration  model year  \\\n",
      "0  18.0          8         307.0      130.0  3504.0          12.0          70   \n",
      "1  15.0          8         350.0      165.0  3693.0          11.5          70   \n",
      "2  18.0          8         318.0      150.0  3436.0          11.0          70   \n",
      "\n",
      "   origin                       name       kpl  \n",
      "0       1  chevrolet chevelle malibu  7.652571  \n",
      "1       1          buick skylark 320  6.377143  \n",
      "2       1         plymouth satellite  7.652571  \n",
      "\n",
      "    mpg  cylinders  displacement horsepower  weight  acceleration  model year  \\\n",
      "0  18.0          8         307.0      130.0  3504.0          12.0          70   \n",
      "1  15.0          8         350.0      165.0  3693.0          11.5          70   \n",
      "2  18.0          8         318.0      150.0  3436.0          11.0          70   \n",
      "\n",
      "   origin                       name   kpl  \n",
      "0       1  chevrolet chevelle malibu  7.65  \n",
      "1       1          buick skylark 320  6.38  \n",
      "2       1         plymouth satellite  7.65  \n"
     ]
    }
   ],
   "source": [
    "# mpg(mile per gallon)를 kpl(kilometer per liter)로 변환 (mpg_to_kpl = 0.425)\n",
    "mpg_to_kpl = 1.60934 / 3.78541\n",
    "\n",
    "# mpg 열에 0.425를 곱한 결과를 새로운 열(kpl)에 추가\n",
    "df['kpl'] = df['mpg'] * mpg_to_kpl\n",
    "print(df.head(3))    \n",
    "print()\n",
    "\n",
    "# kpl 열을 소수점 아래 둘째 자리에서 반올림 \n",
    "df['kpl'] = df['kpl'].round(2)\n",
    "print(df.head(3)) "
   ]
  },
  {
   "cell_type": "code",
   "execution_count": null,
   "metadata": {},
   "outputs": [],
   "source": []
  },
  {
   "cell_type": "markdown",
   "metadata": {},
   "source": [
    "### 자료형 변환 "
   ]
  },
  {
   "cell_type": "code",
   "execution_count": 4,
   "metadata": {},
   "outputs": [
    {
     "name": "stdout",
     "output_type": "stream",
     "text": [
      "mpg             float64\n",
      "cylinders         int64\n",
      "displacement    float64\n",
      "horsepower       object\n",
      "weight          float64\n",
      "acceleration    float64\n",
      "model year        int64\n",
      "origin            int64\n",
      "name             object\n",
      "kpl             float64\n",
      "dtype: object\n",
      "\n"
     ]
    }
   ],
   "source": [
    "# 각 열의 자료형 확인\n",
    "print(df.dtypes)   \n",
    "print()"
   ]
  },
  {
   "cell_type": "code",
   "execution_count": 5,
   "metadata": {},
   "outputs": [
    {
     "name": "stdout",
     "output_type": "stream",
     "text": [
      "['130.0' '165.0' '150.0' '140.0' '198.0' '220.0' '215.0' '225.0' '190.0'\n",
      " '170.0' '160.0' '95.00' '97.00' '85.00' '88.00' '46.00' '87.00' '90.00'\n",
      " '113.0' '200.0' '210.0' '193.0' '?' '100.0' '105.0' '175.0' '153.0'\n",
      " '180.0' '110.0' '72.00' '86.00' '70.00' '76.00' '65.00' '69.00' '60.00'\n",
      " '80.00' '54.00' '208.0' '155.0' '112.0' '92.00' '145.0' '137.0' '158.0'\n",
      " '167.0' '94.00' '107.0' '230.0' '49.00' '75.00' '91.00' '122.0' '67.00'\n",
      " '83.00' '78.00' '52.00' '61.00' '93.00' '148.0' '129.0' '96.00' '71.00'\n",
      " '98.00' '115.0' '53.00' '81.00' '79.00' '120.0' '152.0' '102.0' '108.0'\n",
      " '68.00' '58.00' '149.0' '89.00' '63.00' '48.00' '66.00' '139.0' '103.0'\n",
      " '125.0' '133.0' '138.0' '135.0' '142.0' '77.00' '62.00' '132.0' '84.00'\n",
      " '64.00' '74.00' '116.0' '82.00']\n"
     ]
    }
   ],
   "source": [
    "#horsepower 열의 값 확인\n",
    "print(df.horsepower.unique())"
   ]
  },
  {
   "cell_type": "code",
   "execution_count": 6,
   "metadata": {},
   "outputs": [
    {
     "name": "stdout",
     "output_type": "stream",
     "text": [
      "float64\n",
      "\n",
      "[130. 165. 150. 140. 198. 220. 215. 225. 190. 170. 160.  95.  97.  85.\n",
      "  88.  46.  87.  90. 113. 200. 210. 193. 100. 105. 175. 153. 180. 110.\n",
      "  72.  86.  70.  76.  65.  69.  60.  80.  54. 208. 155. 112.  92. 145.\n",
      " 137. 158. 167.  94. 107. 230.  49.  75.  91. 122.  67.  83.  78.  52.\n",
      "  61.  93. 148. 129.  96.  71.  98. 115.  53.  81.  79. 120. 152. 102.\n",
      " 108.  68.  58. 149.  89.  63.  48.  66. 139. 103. 125. 133. 138. 135.\n",
      " 142.  77.  62. 132.  84.  64.  74. 116.  82.]\n"
     ]
    }
   ],
   "source": [
    "# 누락 데이터('?') 삭제 \n",
    "import numpy as np\n",
    "df['horsepower'].replace('?', np.nan, inplace=True)      # '?'을 np.nan으로 변경\n",
    "df.dropna(subset=['horsepower'], axis=0, inplace=True)   # 누락데이터 행을 삭제\n",
    "df['horsepower'] = df['horsepower'].astype('float')      # 문자열을 실수형으로 변환\n",
    "\n",
    "# horsepower 열의 자료형 확인\n",
    "print(df['horsepower'].dtypes)  \n",
    "print()\n",
    "\n",
    "# horsepower 열의 고유값 확인\n",
    "print(df['horsepower'].unique())"
   ]
  },
  {
   "cell_type": "code",
   "execution_count": 7,
   "metadata": {},
   "outputs": [
    {
     "name": "stdout",
     "output_type": "stream",
     "text": [
      "[1 3 2]\n",
      "\n",
      "['USA' 'JAPAN' 'EU']\n",
      "\n",
      "object\n"
     ]
    }
   ],
   "source": [
    "# origin 열의 고유값 확인\n",
    "print(df['origin'].unique())\n",
    "print()\n",
    "\n",
    "# 정수형 데이터를 문자형 데이터로 변환 \n",
    "df['origin'].replace({1:'USA', 2:'EU', 3:'JAPAN'}, inplace=True)\n",
    "# origin 열의 고유값과 자료형 확인\n",
    "print(df['origin'].unique())\n",
    "print()\n",
    "\n",
    "print(df['origin'].dtypes) "
   ]
  },
  {
   "cell_type": "code",
   "execution_count": 8,
   "metadata": {},
   "outputs": [
    {
     "name": "stdout",
     "output_type": "stream",
     "text": [
      "category\n",
      "\n",
      "object\n",
      "\n",
      "376    82\n",
      "0      70\n",
      "114    73\n",
      "Name: model year, dtype: int64\n",
      "\n",
      "88     73\n",
      "182    76\n",
      "362    81\n",
      "Name: model year, dtype: category\n",
      "Categories (13, int64): [70, 71, 72, 73, ..., 79, 80, 81, 82]\n"
     ]
    }
   ],
   "source": [
    "# origin 열의 문자열 자료형을 범주형으로 변환\n",
    "df['origin'] = df['origin'].astype('category')     \n",
    "print(df['origin'].dtypes)\n",
    "print()\n",
    "\n",
    "# 범주형을 문자열로 다시 변환\n",
    "df['origin'] = df['origin'].astype('str')     \n",
    "print(df['origin'].dtypes)\n",
    "print()\n",
    "\n",
    "# model year 열의 정수형을 범주형으로 변환\n",
    "print(df['model year'].sample(3))\n",
    "print()\n",
    "\n",
    "df['model year'] = df['model year'].astype('category') \n",
    "print(df['model year'].sample(3))"
   ]
  },
  {
   "cell_type": "code",
   "execution_count": null,
   "metadata": {},
   "outputs": [],
   "source": []
  },
  {
   "cell_type": "markdown",
   "metadata": {},
   "source": [
    "### 표준화"
   ]
  },
  {
   "cell_type": "code",
   "execution_count": 9,
   "metadata": {},
   "outputs": [
    {
     "name": "stdout",
     "output_type": "stream",
     "text": [
      "     국어  영어  수학\n",
      "이름             \n",
      "박지영  90  85  55\n",
      "김태함  70  65  80\n",
      "김효섭  92  95  76\n",
      "임경희  76  89  88\n",
      "권혁진  97  87  83\n",
      "하혜진  80  86  97\n",
      "이준원  20  30  40\n",
      "윤정웅  50  52  54\n",
      "주시현  95  70  80\n"
     ]
    }
   ],
   "source": [
    "import pandas as pd\n",
    "df = pd.read_csv(\"data/student.csv\", encoding='ms949', index_col ='이름')\n",
    "print(df)"
   ]
  },
  {
   "cell_type": "code",
   "execution_count": 10,
   "metadata": {},
   "outputs": [
    {
     "data": {
      "text/plain": [
       "<AxesSubplot:xlabel='이름'>"
      ]
     },
     "execution_count": 10,
     "metadata": {},
     "output_type": "execute_result"
    },
    {
     "data": {
      "image/png": "[encoded data removed]",
      "text/plain": [
       "<Figure size 432x288 with 1 Axes>"
      ]
     },
     "metadata": {
      "needs_background": "light"
     },
     "output_type": "display_data"
    }
   ],
   "source": [
    "import matplotlib.pyplot as plt\n",
    "import platform\n",
    "from matplotlib import font_manager, rc\n",
    "#매킨토시의 경우\n",
    "if platform.system() == 'Darwin':\n",
    "    rc('font', family='AppleGothic')\n",
    "#윈도우의 경우\n",
    "elif platform.system() == 'Windows':\n",
    "    font_name = font_manager.FontProperties(fname=\"c:/Windows/Fonts/malgun.ttf\").get_name()\n",
    "    rc('font', family=font_name)\n",
    "\n",
    "df.plot(kind='bar')"
   ]
  },
  {
   "cell_type": "code",
   "execution_count": 11,
   "metadata": {},
   "outputs": [
    {
     "name": "stdout",
     "output_type": "stream",
     "text": [
      "     국어  영어  수학     국어표준값     영어표준값     수학표준값      국어편차값      영어편차값      수학편차값\n",
      "이름                                                                            \n",
      "박지영  90  85  55  0.616320  0.554321 -0.941716  56.163201  55.543208  40.582843\n",
      "김태함  70  65  80 -0.176091 -0.386979  0.399335  48.239085  46.130213  53.993351\n",
      "김효섭  92  95  76  0.695561  1.024971  0.184767  56.955613  60.249706  51.847670\n",
      "임경희  76  89  88  0.061632  0.742581  0.828471  50.616320  57.425807  58.284714\n",
      "권혁진  97  87  83  0.893664  0.648451  0.560261  58.936642  56.484508  55.602612\n",
      "하혜진  80  86  97  0.220114  0.601386  1.311250  52.201143  56.013858  63.112497\n",
      "이준원  20  30  40 -2.157120 -2.034253 -1.746346  28.428796  29.657471  32.536538\n",
      "윤정웅  50  52  54 -0.968503 -0.998823 -0.995358  40.314970  40.011766  40.046423\n",
      "주시현  95  70  80  0.814423 -0.151654  0.399335  58.144230  48.483462  53.993351\n"
     ]
    },
    {
     "data": {
      "text/plain": [
       "<AxesSubplot:xlabel='이름'>"
      ]
     },
     "execution_count": 11,
     "metadata": {},
     "output_type": "execute_result"
    },
    {
     "data": {
      "image/png": "[encoded data removed]",
      "text/plain": [
       "<Figure size 432x288 with 1 Axes>"
      ]
     },
     "metadata": {
      "needs_background": "light"
     },
     "output_type": "display_data"
    }
   ],
   "source": [
    "kormean, korstd = df['국어'].mean(), df['국어'].std()\n",
    "engmean, engstd = df['영어'].mean(), df['영어'].std()\n",
    "matmean, matstd = df['수학'].mean(), df['수학'].std()\n",
    "\n",
    "df['국어표준값'] = (df['국어'] - kormean)/korstd\n",
    "df['영어표준값'] = (df['영어'] - engmean)/engstd\n",
    "df['수학표준값'] = (df['수학'] - matmean)/matstd\n",
    "\n",
    "df['국어편차값'] = df['국어표준값'] * 10 + 50\n",
    "df['영어편차값'] = df['영어표준값'] * 10 + 50\n",
    "df['수학편차값'] = df['수학표준값'] * 10 + 50\n",
    "\n",
    "print(df)\n",
    "\n",
    "df[['국어편차값','영어편차값','수학편차값']].plot(kind='bar')"
   ]
  },
  {
   "cell_type": "code",
   "execution_count": 12,
   "metadata": {},
   "outputs": [
    {
     "name": "stdout",
     "output_type": "stream",
     "text": [
      "count    392.000000\n",
      "mean     104.469388\n",
      "std       38.491160\n",
      "min       46.000000\n",
      "25%       75.000000\n",
      "50%       93.500000\n",
      "75%      126.000000\n",
      "max      230.000000\n",
      "Name: horsepower, dtype: float64\n",
      "\n",
      "0    0.565217\n",
      "1    0.717391\n",
      "2    0.652174\n",
      "3    0.652174\n",
      "4    0.608696\n",
      "Name: horsepower, dtype: float64\n",
      "\n",
      "count    392.000000\n",
      "mean       0.454215\n",
      "std        0.167353\n",
      "min        0.200000\n",
      "25%        0.326087\n",
      "50%        0.406522\n",
      "75%        0.547826\n",
      "max        1.000000\n",
      "Name: horsepower, dtype: float64\n"
     ]
    },
    {
     "name": "stderr",
     "output_type": "stream",
     "text": [
      "/var/folders/98/j21dd2qs46b69mwc94dgyxnr0000gn/T/ipykernel_1768/957174004.py:18: UserWarning: Pandas doesn't allow columns to be created via a new attribute name - see https://pandas.pydata.org/pandas-docs/stable/indexing.html#attribute-access\n",
      "  df.maxhorsepower = df.horsepower / abs(df.horsepower.max())\n"
     ]
    }
   ],
   "source": [
    "# 데이터 읽어오기\n",
    "df = pd.read_csv('data/auto-mpg.csv', header=None)\n",
    "\n",
    "# 열 이름을 설정\n",
    "df.columns = ['mpg','cylinders','displacement','horsepower','weight',\n",
    "              'acceleration','model year','origin','name'] \n",
    "\n",
    "# horsepower 열의 누락 데이터('?') 삭제하고 실수형으로 변환\n",
    "df['horsepower'].replace('?', np.nan, inplace=True)      # '?'을 np.nan으로 변경\n",
    "df.dropna(subset=['horsepower'], axis=0, inplace=True)   # 누락데이터 행을 삭제\n",
    "df['horsepower'] = df['horsepower'].astype('float')      # 문자열을 실수형으로 변환\n",
    "\n",
    "# horsepower 열의 통계 요약정보로 최대값(max)을 확인\n",
    "print(df.horsepower.describe())\n",
    "print()\n",
    "\n",
    "# horsepower 열의 최대값의 절대값으로 모든 데이터를 나눠서 저장\n",
    "df.maxhorsepower = df.horsepower / abs(df.horsepower.max()) \n",
    "\n",
    "print(df.maxhorsepower.head())\n",
    "print()\n",
    "\n",
    "print(df.maxhorsepower.describe())"
   ]
  },
  {
   "cell_type": "code",
   "execution_count": 13,
   "metadata": {},
   "outputs": [
    {
     "name": "stdout",
     "output_type": "stream",
     "text": [
      "0    0.456522\n",
      "1    0.646739\n",
      "2    0.565217\n",
      "3    0.565217\n",
      "4    0.510870\n",
      "Name: horsepower, dtype: float64\n",
      "\n",
      "count    392.000000\n",
      "mean       0.317768\n",
      "std        0.209191\n",
      "min        0.000000\n",
      "25%        0.157609\n",
      "50%        0.258152\n",
      "75%        0.434783\n",
      "max        1.000000\n",
      "Name: horsepower, dtype: float64\n"
     ]
    },
    {
     "name": "stderr",
     "output_type": "stream",
     "text": [
      "/var/folders/98/j21dd2qs46b69mwc94dgyxnr0000gn/T/ipykernel_1768/2842149626.py:6: UserWarning: Pandas doesn't allow columns to be created via a new attribute name - see https://pandas.pydata.org/pandas-docs/stable/indexing.html#attribute-access\n",
      "  df.minmaxhorsepower = min_x / min_max\n"
     ]
    }
   ],
   "source": [
    "# horsepower 열에서 최소값을 빼기\n",
    "min_x = df.horsepower - df.horsepower.min()\n",
    "# horsepower 열의 최대값에서 최소값 빼기\n",
    "min_max = df.horsepower.max() - df.horsepower.min()\n",
    "# 최소값을 뺀 값을 최대-최소로 나누기\n",
    "df.minmaxhorsepower = min_x / min_max\n",
    "\n",
    "#0.0 ~ 1.0 사이의 값으로 만들기\n",
    "print(df.minmaxhorsepower.head())\n",
    "print()\n",
    "print(df.minmaxhorsepower.describe())"
   ]
  },
  {
   "cell_type": "markdown",
   "metadata": {},
   "source": [
    "### scikit-learn의 표준화 클래스"
   ]
  },
  {
   "cell_type": "code",
   "execution_count": 14,
   "metadata": {},
   "outputs": [
    {
     "name": "stdout",
     "output_type": "stream",
     "text": [
      "평균: 104.46938775510205\n",
      "표준편차: 38.44203271442593\n",
      "최대값: 230.0\n",
      "최소값: 46.0\n",
      "\n",
      "평균: -1.812609019796174e-16\n",
      "표준편차: 0.9999999999999998\n",
      "최대값: 3.2654519904664348\n",
      "최소값: -1.5209754434541274\n",
      "\n",
      "평균: 0.3177684117125111\n",
      "표준편차: 0.20892409083927133\n",
      "최대값: 1.0\n",
      "최소값: 0.0\n",
      "\n",
      "평균: 0.2150860344137655\n",
      "표준편차: 0.7537653473416848\n",
      "최대값: 2.676470588235294\n",
      "최소값: -0.9313725490196079\n",
      "\n",
      "평균: 0.45421472937000884\n",
      "표준편차: 0.16713927267141707\n",
      "최대값: 1.0\n",
      "최소값: 0.2\n"
     ]
    }
   ],
   "source": [
    "from sklearn import preprocessing\n",
    "import numpy as np\n",
    "x = df[['horsepower']].values\n",
    "print('평균:', np.mean(x))\n",
    "print('표준편차:', np.std(x))\n",
    "print('최대값:', np.max(x))\n",
    "print('최소값:', np.min(x))\n",
    "print()\n",
    "\n",
    "scaler = preprocessing.StandardScaler()\n",
    "scaler.fit(x)\n",
    "x_scaled = scaler.transform(x)\n",
    "print('평균:', np.mean(x_scaled))\n",
    "print('표준편차:', np.std(x_scaled))\n",
    "print('최대값:', np.max(x_scaled))\n",
    "print('최소값:', np.min(x_scaled))\n",
    "print()\n",
    "\n",
    "scaler = preprocessing.MinMaxScaler()\n",
    "scaler.fit(x)\n",
    "x_scaled = scaler.transform(x)\n",
    "print('평균:', np.mean(x_scaled))\n",
    "print('표준편차:', np.std(x_scaled))\n",
    "print('최대값:', np.max(x_scaled))\n",
    "print('최소값:', np.min(x_scaled))\n",
    "print()\n",
    "\n",
    "scaler = preprocessing.RobustScaler()\n",
    "scaler.fit(x)\n",
    "x_scaled = scaler.transform(x)\n",
    "print('평균:', np.mean(x_scaled))\n",
    "print('표준편차:', np.std(x_scaled))\n",
    "print('최대값:', np.max(x_scaled))\n",
    "print('최소값:', np.min(x_scaled))\n",
    "print()\n",
    "\n",
    "scaler = preprocessing.MaxAbsScaler()\n",
    "scaler.fit(x)\n",
    "x_scaled = scaler.transform(x)\n",
    "print('평균:', np.mean(x_scaled))\n",
    "print('표준편차:', np.std(x_scaled))\n",
    "print('최대값:', np.max(x_scaled))\n",
    "print('최소값:', np.min(x_scaled))"
   ]
  },
  {
   "cell_type": "code",
   "execution_count": 15,
   "metadata": {},
   "outputs": [
    {
     "data": {
      "text/plain": [
       "array([[ 0.5, -1. ,  1. ],\n",
       "       [ 1. ,  0. ,  0. ],\n",
       "       [ 0. ,  1. , -0.5]])"
      ]
     },
     "execution_count": 15,
     "metadata": {},
     "output_type": "execute_result"
    }
   ],
   "source": [
    "from sklearn.preprocessing import MaxAbsScaler\n",
    "X = [[ 1., -1.,  2.],\n",
    "[ 2.,  0.,  0.],\n",
    "[ 0.,  1., -1.]]\n",
    "transformer = MaxAbsScaler().fit(X)\n",
    "transformer.transform(X)"
   ]
  },
  {
   "cell_type": "code",
   "execution_count": null,
   "metadata": {},
   "outputs": [],
   "source": []
  },
  {
   "cell_type": "markdown",
   "metadata": {},
   "source": [
    "### 서울시 구별 범죄현황 HeatMap"
   ]
  },
  {
   "cell_type": "code",
   "execution_count": 16,
   "metadata": {
    "scrolled": true
   },
   "outputs": [
    {
     "name": "stdout",
     "output_type": "stream",
     "text": [
      "     기간  자치구    합계발생   합계검거  살인발생  살인검거  강도발생  강도검거  강간발생  강간검거   절도발생   절도검거  \\\n",
      "0  2016   합계  117839  84421   148   147   262   257  6002  5565  46857  22566   \n",
      "1  2016  종로구    4459   4298     6     5    12    14   238  1106   1940   1020   \n",
      "2  2016   중구    4584   3068     3     3     8     7   198   148   2150    914   \n",
      "3  2016  용산구    4137   2835     4     4     9    10   251   214   1489    599   \n",
      "4  2016  성동구    3026   2392     4     5     3     5   104    78   1296    896   \n",
      "\n",
      "    폭력발생   폭력검거  \n",
      "0  64570  55886  \n",
      "1   2263   2153  \n",
      "2   2225   1996  \n",
      "3   2384   2008  \n",
      "4   1619   1408  \n",
      "<class 'pandas.core.frame.DataFrame'>\n",
      "RangeIndex: 26 entries, 0 to 25\n",
      "Data columns (total 14 columns):\n",
      " #   Column  Non-Null Count  Dtype \n",
      "---  ------  --------------  ----- \n",
      " 0   기간      26 non-null     int64 \n",
      " 1   자치구     26 non-null     object\n",
      " 2   합계발생    26 non-null     int64 \n",
      " 3   합계검거    26 non-null     int64 \n",
      " 4   살인발생    26 non-null     int64 \n",
      " 5   살인검거    26 non-null     int64 \n",
      " 6   강도발생    26 non-null     int64 \n",
      " 7   강도검거    26 non-null     int64 \n",
      " 8   강간발생    26 non-null     int64 \n",
      " 9   강간검거    26 non-null     int64 \n",
      " 10  절도발생    26 non-null     int64 \n",
      " 11  절도검거    26 non-null     int64 \n",
      " 12  폭력발생    26 non-null     int64 \n",
      " 13  폭력검거    26 non-null     int64 \n",
      "dtypes: int64(13), object(1)\n",
      "memory usage: 3.0+ KB\n"
     ]
    }
   ],
   "source": [
    "import numpy as np\n",
    "import pandas as pd\n",
    "import matplotlib.pyplot as plt\n",
    "import seaborn as sns\n",
    "\n",
    "criminal = pd.read_csv('./data/crime.txt', sep='\\t', thousands=',', encoding='utf-8')\n",
    "print(criminal.head(5))\n",
    "criminal.info()"
   ]
  },
  {
   "cell_type": "code",
   "execution_count": 17,
   "metadata": {},
   "outputs": [
    {
     "name": "stdout",
     "output_type": "stream",
     "text": [
      "   자치구  합계발생  살인  강도   강간    절도    폭력\n",
      "1  종로구  4459   6  12  238  1940  2263\n",
      "2   중구  4584   3   8  198  2150  2225\n",
      "3  용산구  4137   4   9  251  1489  2384\n",
      "4  성동구  3026   4   3  104  1296  1619\n",
      "5  광진구  5322   4  11  279  2636  2392\n"
     ]
    }
   ],
   "source": [
    "#불필요한 컬럼 제거하기\n",
    "criminal.drop(['기간', '합계검거', '살인검거', '강도검거', '강간검거', '절도검거', '폭력검거'], axis=1, inplace=True)\n",
    "criminal.drop([0], inplace=True)\n",
    "\n",
    "#컬럼 이름 설정\n",
    "criminal.rename(columns={'살인발생':'살인', '강도발생':'강도', '강간발생':'강간', '절도발생':'절도', '폭력발생':'폭력'}, inplace=True)\n",
    "\n",
    "print(criminal.head(5))"
   ]
  },
  {
   "cell_type": "code",
   "execution_count": 18,
   "metadata": {},
   "outputs": [
    {
     "name": "stdout",
     "output_type": "stream",
     "text": [
      "   자치구        계\n",
      "0   합계  9795426\n",
      "1  종로구   155106\n",
      "2   중구   132259\n",
      "3  용산구   240665\n",
      "4  성동구   295767\n",
      "\n",
      "   자치구  합계발생  살인  강도   강간    절도    폭력       계\n",
      "0  종로구  4459   6  12  238  1940  2263  155106\n",
      "1   중구  4584   3   8  198  2150  2225  132259\n",
      "2  용산구  4137   4   9  251  1489  2384  240665\n",
      "3  성동구  3026   4   3  104  1296  1619  295767\n",
      "4  광진구  5322   4  11  279  2636  2392  355306\n"
     ]
    }
   ],
   "source": [
    "pop = pd.read_csv('./data/pop.txt',  encoding='utf-8', skiprows=2, delimiter='\\t', thousands=',')\n",
    "pop = pop[['자치구', '계']]\n",
    "print(pop.head(5))\n",
    "print()\n",
    "df = pd.merge(criminal, pop)\n",
    "print(df.head())"
   ]
  },
  {
   "cell_type": "code",
   "execution_count": 19,
   "metadata": {},
   "outputs": [
    {
     "name": "stdout",
     "output_type": "stream",
     "text": [
      "   자치구  합계발생  살인  강도   강간    절도    폭력       계     강간발생율     강도발생율     절도발생율  \\\n",
      "0  종로구  4459   6  12  238  1940  2263  155106  0.001534  0.000077  0.012508   \n",
      "1   중구  4584   3   8  198  2150  2225  132259  0.001497  0.000060  0.016256   \n",
      "2  용산구  4137   4   9  251  1489  2384  240665  0.001043  0.000037  0.006187   \n",
      "3  성동구  3026   4   3  104  1296  1619  295767  0.000352  0.000010  0.004382   \n",
      "4  광진구  5322   4  11  279  2636  2392  355306  0.000785  0.000031  0.007419   \n",
      "\n",
      "      폭력발생율     살인발생율  \n",
      "0  0.014590  0.000039  \n",
      "1  0.016823  0.000023  \n",
      "2  0.009906  0.000017  \n",
      "3  0.005474  0.000014  \n",
      "4  0.006732  0.000011  \n"
     ]
    }
   ],
   "source": [
    "df['강간발생율'] = df['강간']/df['계']\n",
    "df['강도발생율'] = df['강도']/df['계']\n",
    "df['절도발생율'] = df['절도']/df['계']\n",
    "df['폭력발생율'] = df['폭력']/df['계']\n",
    "df['살인발생율'] = df['살인']/df['계']\n",
    "print(df.head(5))"
   ]
  },
  {
   "cell_type": "code",
   "execution_count": 20,
   "metadata": {
    "scrolled": true
   },
   "outputs": [
    {
     "name": "stdout",
     "output_type": "stream",
     "text": [
      "   자치구  합계발생  살인  강도   강간    절도    폭력       계     강간발생율     강도발생율     절도발생율  \\\n",
      "0  종로구  4459   6  12  238  1940  2263  155106  0.001534  0.000077  0.012508   \n",
      "1   중구  4584   3   8  198  2150  2225  132259  0.001497  0.000060  0.016256   \n",
      "2  용산구  4137   4   9  251  1489  2384  240665  0.001043  0.000037  0.006187   \n",
      "3  성동구  3026   4   3  104  1296  1619  295767  0.000352  0.000010  0.004382   \n",
      "4  광진구  5322   4  11  279  2636  2392  355306  0.000785  0.000031  0.007419   \n",
      "\n",
      "      폭력발생율     살인발생율   구별    소계  \n",
      "0  0.014590  0.000039  종로구  1471  \n",
      "1  0.016823  0.000023   중구  1544  \n",
      "2  0.009906  0.000017  용산구  2063  \n",
      "3  0.005474  0.000014  성동구  2679  \n",
      "4  0.006732  0.000011  광진구  1581  \n"
     ]
    }
   ],
   "source": [
    "#데이터 읽어오기\n",
    "cctv = pd.read_excel('./data/cctv.xlsx')\n",
    "\n",
    "cctv.rename(columns={cctv.columns[0] : '구별'}, inplace=True)\n",
    "gu = []\n",
    "for x in cctv['구별']:\n",
    "    gu.append(x.replace(' ', ''))\n",
    "cctv['구별'] = gu\n",
    "\n",
    "#불필요한 컬럼 삭제\n",
    "cctv.drop(['2011년 이전', '2012년', '2013년', '2014년', '2015년', '2016년', '2017년','2018년',], axis=1, inplace=True)\n",
    "\n",
    "df = pd.merge(df, cctv, left_on='자치구', right_on='구별')\n",
    "print(df.head())"
   ]
  },
  {
   "cell_type": "code",
   "execution_count": 21,
   "metadata": {},
   "outputs": [
    {
     "name": "stdout",
     "output_type": "stream",
     "text": [
      "       강간     강간발생율  강도     강도발생율       계  살인     살인발생율    소계    절도     절도발생율  \\\n",
      "자치구                                                                             \n",
      "강남구   516  0.000962  39  0.000073  536107   5  0.000009  5221  3587  0.006691   \n",
      "강동구   160  0.000341  14  0.000030  469094   4  0.000009  1879  1754  0.003739   \n",
      "강북구   217  0.000709   5  0.000016  306093   7  0.000023  1265  1222  0.003992   \n",
      "강서구   275  0.000472  10  0.000017  582995   9  0.000015  1617  1952  0.003348   \n",
      "관악구   322  0.000641  12  0.000024  502698   6  0.000012  3985  2103  0.004183   \n",
      "광진구   279  0.000785  11  0.000031  355306   4  0.000011  1581  2636  0.007419   \n",
      "구로구   273  0.000643  10  0.000024  424582   9  0.000021  3227  1910  0.004499   \n",
      "금천구   175  0.000715   7  0.000029  244685   6  0.000025  1634  1264  0.005166   \n",
      "노원구   159  0.000306   6  0.000012  520005   5  0.000010  1906  1857  0.003571   \n",
      "도봉구   123  0.000381   5  0.000016  322419   3  0.000009   858   866  0.002686   \n",
      "동대문구  190  0.000539  10  0.000028  352259   5  0.000014  2003  1940  0.005507   \n",
      "동작구   325  0.000818   7  0.000018  397231   8  0.000020  1780  1226  0.003086   \n",
      "마포구   399  0.001050   4  0.000011  379984   4  0.000011  1935  2527  0.006650   \n",
      "서대문구  175  0.000551   5  0.000016  317699   6  0.000019  2121  1503  0.004731   \n",
      "서초구   428  0.001014  13  0.000031  422174   5  0.000012  2835  2205  0.005223   \n",
      "성동구   104  0.000352   3  0.000010  295767   4  0.000014  2679  1296  0.004382   \n",
      "성북구   154  0.000347   8  0.000018  443206   4  0.000009  3003  1470  0.003317   \n",
      "송파구   234  0.000352  15  0.000023  664341   9  0.000014  1586  2543  0.003828   \n",
      "양천구   131  0.000288   7  0.000015  454288   5  0.000011  2775  1719  0.003784   \n",
      "영등포구  356  0.000885  19  0.000047  402375  13  0.000032  2495  2341  0.005818   \n",
      "용산구   251  0.001043   9  0.000037  240665   4  0.000017  2063  1489  0.006187   \n",
      "은평구   156  0.000325   9  0.000019  479409   6  0.000013  2962  1666  0.003475   \n",
      "종로구   238  0.001534  12  0.000077  155106   6  0.000039  1471  1940  0.012508   \n",
      "중구    198  0.001497   8  0.000060  132259   3  0.000023  1544  2150  0.016256   \n",
      "중랑구   164  0.000416  14  0.000035  394679   8  0.000020  1068  1691  0.004284   \n",
      "\n",
      "        폭력     폭력발생율  합계발생  \n",
      "자치구                         \n",
      "강남구   4002  0.007465  8149  \n",
      "강동구   2530  0.005393  4462  \n",
      "강북구   2778  0.009076  4229  \n",
      "강서구   3204  0.005496  5450  \n",
      "관악구   3235  0.006435  5678  \n",
      "광진구   2392  0.006732  5322  \n",
      "구로구   3164  0.007452  5366  \n",
      "금천구   2193  0.008963  3645  \n",
      "노원구   2516  0.004838  4543  \n",
      "도봉구   1441  0.004469  2438  \n",
      "동대문구  2642  0.007500  4787  \n",
      "동작구   1661  0.004181  3227  \n",
      "마포구   2939  0.007735  5873  \n",
      "서대문구  1976  0.006220  3665  \n",
      "서초구   2338  0.005538  4989  \n",
      "성동구   1619  0.005474  3026  \n",
      "성북구   2108  0.004756  3744  \n",
      "송파구   3289  0.004951  6090  \n",
      "양천구   2250  0.004953  4112  \n",
      "영등포구  3593  0.008929  6322  \n",
      "용산구   2384  0.009906  4137  \n",
      "은평구   2664  0.005557  4501  \n",
      "종로구   2263  0.014590  4459  \n",
      "중구    2225  0.016823  4584  \n",
      "중랑구   3164  0.008017  5041  \n"
     ]
    }
   ],
   "source": [
    "#자치구 컬럼을 인덱스로 설정하기 위해서 피봇 테이블 호출\n",
    "df = pd.pivot_table(df, index='자치구', aggfunc=np.sum)\n",
    "print(df)"
   ]
  },
  {
   "cell_type": "code",
   "execution_count": 22,
   "metadata": {},
   "outputs": [
    {
     "name": "stdout",
     "output_type": "stream",
     "text": [
      "         강간발생율     강도발생율     살인발생율     절도발생율     폭력발생율\n",
      "자치구                                                   \n",
      "강남구   0.541005  0.931277  0.026509  0.295127  0.259736\n",
      "강동구   0.042309  0.293078  0.000000  0.077610  0.095868\n",
      "강북구   0.337518  0.092108  0.475584  0.096264  0.387152\n",
      "강서구   0.147134  0.104275  0.229156  0.048805  0.103967\n",
      "관악구   0.282633  0.204216  0.113029  0.110352  0.178287\n",
      "광진구   0.398754  0.309656  0.090556  0.348784  0.201777\n",
      "구로구   0.284592  0.199476  0.420155  0.133573  0.258716\n",
      "금천구   0.342550  0.274683  0.530381  0.182747  0.378203\n",
      "노원구   0.013966  0.020755  0.036086  0.065230  0.051969\n",
      "도봉구   0.074737  0.079803  0.025785  0.000000  0.022773\n",
      "동대문구  0.201443  0.271410  0.187923  0.207911  0.262523\n",
      "동작구   0.425177  0.111254  0.385074  0.029508  0.000000\n",
      "마포구   0.611266  0.005707  0.066311  0.292139  0.281063\n",
      "서대문구  0.210640  0.083231  0.343503  0.150696  0.161236\n",
      "서초구   0.582179  0.307183  0.109974  0.186957  0.107309\n",
      "성동구   0.050771  0.000000  0.165707  0.124973  0.102238\n",
      "성북구   0.047433  0.117626  0.016516  0.046484  0.045469\n",
      "송파구   0.051253  0.184990  0.166473  0.084149  0.060857\n",
      "양천구   0.000000  0.078330  0.082211  0.080913  0.061018\n",
      "영등포구  0.478611  0.551542  0.788599  0.230803  0.375588\n",
      "용산구   0.605567  0.405414  0.268388  0.258001  0.452825\n",
      "은평구   0.029723  0.128378  0.132256  0.058155  0.108799\n",
      "종로구   1.000000  1.000000  1.000000  0.723773  0.823359\n",
      "중구    0.970008  0.748911  0.469413  1.000000  1.000000\n",
      "중랑구   0.102052  0.376785  0.389392  0.117800  0.303379\n"
     ]
    }
   ],
   "source": [
    "#데이터 표준화 하기\n",
    "#가장 큰 데이터를 1.0으로 하고 가장 작은 데이터를 0.0으로 설정해서 값을 만들기\n",
    "from sklearn import preprocessing\n",
    "col = ['강간발생율', '강도발생율', '살인발생율', '절도발생율', '폭력발생율']\n",
    "\n",
    "x = df[col].values\n",
    "min_max_scaler = preprocessing.MinMaxScaler()\n",
    "\n",
    "x_scaled = min_max_scaler.fit_transform(x.astype(float))\n",
    "criminal_norm = pd.DataFrame(x_scaled, columns = col, index = df.index)\n",
    "print(criminal_norm)"
   ]
  },
  {
   "cell_type": "code",
   "execution_count": 23,
   "metadata": {},
   "outputs": [
    {
     "name": "stdout",
     "output_type": "stream",
     "text": [
      "        강간발생율     강도발생율     살인발생율     절도발생율     폭력발생율   강간  강도  살인    절도  \\\n",
      "자치구                                                                        \n",
      "강남구  0.541005  0.931277  0.026509  0.295127  0.259736  516  39   5  3587   \n",
      "강동구  0.042309  0.293078  0.000000  0.077610  0.095868  160  14   4  1754   \n",
      "강북구  0.337518  0.092108  0.475584  0.096264  0.387152  217   5   7  1222   \n",
      "강서구  0.147134  0.104275  0.229156  0.048805  0.103967  275  10   9  1952   \n",
      "관악구  0.282633  0.204216  0.113029  0.110352  0.178287  322  12   6  2103   \n",
      "\n",
      "       폭력       계    소계  \n",
      "자치구                      \n",
      "강남구  4002  536107  5221  \n",
      "강동구  2530  469094  1879  \n",
      "강북구  2778  306093  1265  \n",
      "강서구  3204  582995  1617  \n",
      "관악구  3235  502698  3985  \n"
     ]
    }
   ],
   "source": [
    "col = ['강간', '강도', '살인', '절도', '폭력', '계', '소계']\n",
    "criminal_norm[col] = df[col]\n",
    "print(criminal_norm.head(5))"
   ]
  },
  {
   "cell_type": "code",
   "execution_count": 23,
   "metadata": {},
   "outputs": [
    {
     "data": {
      "image/png": "[encoded data removed]",
      "text/plain": [
       "<Figure size 648x648 with 12 Axes>"
      ]
     },
     "metadata": {
      "needs_background": "light"
     },
     "output_type": "display_data"
    }
   ],
   "source": [
    "import platform\n",
    "from matplotlib import font_manager, rc\n",
    "#매킨토시의 경우\n",
    "if platform.system() == 'Darwin':\n",
    "    rc('font', family='AppleGothic')\n",
    "#윈도우의 경우\n",
    "elif platform.system() == 'Windows':\n",
    "    font_name = font_manager.FontProperties(fname='c:/Windows/Fonts/malgun.ttf').get_name()\n",
    "    rc('font', family=font_name)\n",
    "\n",
    "#강도, 살인, 폭력 의 상관관계 그래프 만들기\n",
    "sns.pairplot(criminal_norm, vars=[\"살인\", \"강도\", \"폭력\"], kind='reg', height=3)\n",
    "plt.show()"
   ]
  },
  {
   "cell_type": "code",
   "execution_count": 24,
   "metadata": {},
   "outputs": [
    {
     "name": "stderr",
     "output_type": "stream",
     "text": [
      "/Users/adam/opt/anaconda3/lib/python3.8/site-packages/seaborn/axisgrid.py:2076: UserWarning: The `size` parameter has been renamed to `height`; please update your code.\n",
      "  warnings.warn(msg, UserWarning)\n"
     ]
    },
    {
     "data": {
      "image/png": "[encoded data removed]",
      "text/plain": [
       "<Figure size 432x432 with 4 Axes>"
      ]
     },
     "metadata": {
      "needs_background": "light"
     },
     "output_type": "display_data"
    }
   ],
   "source": [
    "#인구수와 CCTV 개수와 살인, 강도의 상관관계\n",
    "sns.pairplot(criminal_norm, x_vars=['계', '소계'], y_vars=[\"살인\", \"강도\"], kind='reg', size=3)\n",
    "plt.show()"
   ]
  },
  {
   "cell_type": "code",
   "execution_count": 25,
   "metadata": {},
   "outputs": [
    {
     "data": {
      "image/png": "[encoded data removed]",
      "text/plain": [
       "<Figure size 720x720 with 2 Axes>"
      ]
     },
     "metadata": {
      "needs_background": "light"
     },
     "output_type": "display_data"
    }
   ],
   "source": [
    "target_col = ['강간', '강도', '살인', '절도', '폭력']\n",
    "criminal_norm['사건발생'] = np.sum(criminal_norm[target_col], axis=1)\n",
    "criminal_norm_sort = criminal_norm.sort_values(by='사건발생', ascending=False)\n",
    "plt.figure(figsize = (10,10))\n",
    "sns.heatmap(criminal_norm_sort[target_col], annot=True, fmt='f',linewidths=.5,)\n",
    "plt.title('범죄 발생 건수')\n",
    "plt.show()"
   ]
  },
  {
   "cell_type": "code",
   "execution_count": 26,
   "metadata": {},
   "outputs": [
    {
     "data": {
      "image/png": "[encoded data removed]",
      "text/plain": [
       "<Figure size 576x576 with 2 Axes>"
      ]
     },
     "metadata": {
      "needs_background": "light"
     },
     "output_type": "display_data"
    }
   ],
   "source": [
    "plt.figure(figsize=(8,8))\n",
    "target_col = ['강간발생율', '강도발생율', '살인발생율', '절도발생율', '폭력발생율']\n",
    "sns.heatmap(criminal_norm[target_col], annot=True, fmt='f',linewidths=.5,)\n",
    "plt.title('범죄 발생 비율')\n",
    "plt.show()"
   ]
  },
  {
   "cell_type": "code",
   "execution_count": null,
   "metadata": {},
   "outputs": [],
   "source": []
  },
  {
   "cell_type": "markdown",
   "metadata": {},
   "source": [
    "### 정규화"
   ]
  },
  {
   "cell_type": "code",
   "execution_count": 27,
   "metadata": {},
   "outputs": [
    {
     "name": "stdout",
     "output_type": "stream",
     "text": [
      "[[0.4472136  0.89442719]\n",
      " [0.5547002  0.83205029]\n",
      " [0.35112344 0.93632918]\n",
      " [0.89442719 0.4472136 ]\n",
      " [0.96152395 0.27472113]]\n"
     ]
    }
   ],
   "source": [
    "# 라이브러리를 임포트합니다.\n",
    "import numpy as np\n",
    "from sklearn.preprocessing import Normalizer\n",
    "\n",
    "# 특성 행렬을 만듭니다.\n",
    "features = np.array([[1, 2],\n",
    "                     [2, 3],\n",
    "                     [3, 8],\n",
    "                     [4, 2],\n",
    "                     [7, 2]])\n",
    "\n",
    "# 변환기 객체를 만듭니다.\n",
    "normalizer = Normalizer(norm=\"l2\")\n",
    "\n",
    "# 특성 행렬을 변환합니다.\n",
    "features_l2_norm = normalizer.transform(features)\n",
    "print(features_l2_norm)"
   ]
  },
  {
   "cell_type": "code",
   "execution_count": 28,
   "metadata": {},
   "outputs": [
    {
     "name": "stdout",
     "output_type": "stream",
     "text": [
      "[[0.33333333 0.66666667]\n",
      " [0.4        0.6       ]\n",
      " [0.27272727 0.72727273]\n",
      " [0.66666667 0.33333333]\n",
      " [0.77777778 0.22222222]]\n"
     ]
    }
   ],
   "source": [
    "# 변환기 객체를 만듭니다.\n",
    "normalizer = Normalizer(norm = \"l1\")\n",
    "\n",
    "# 특성 행렬을 변환합니다.\n",
    "features_l1_norm = normalizer.transform(features)\n",
    "print(features_l1_norm)"
   ]
  },
  {
   "cell_type": "code",
   "execution_count": 29,
   "metadata": {},
   "outputs": [
    {
     "name": "stdout",
     "output_type": "stream",
     "text": [
      "[[0.5        1.        ]\n",
      " [0.66666667 1.        ]\n",
      " [0.375      1.        ]\n",
      " [1.         0.5       ]\n",
      " [1.         0.28571429]]\n"
     ]
    }
   ],
   "source": [
    "# 변환기 객체를 만듭니다.\n",
    "normalizer = Normalizer(norm = \"max\")\n",
    "\n",
    "# 특성 행렬을 변환합니다.\n",
    "features_l1_norm = normalizer.transform(features)\n",
    "print(features_l1_norm)"
   ]
  },
  {
   "cell_type": "code",
   "execution_count": null,
   "metadata": {},
   "outputs": [],
   "source": []
  },
  {
   "cell_type": "markdown",
   "metadata": {},
   "source": [
    "### 다항 특성 과 교차항 특성"
   ]
  },
  {
   "cell_type": "code",
   "execution_count": 30,
   "metadata": {},
   "outputs": [
    {
     "data": {
      "text/plain": [
       "array([[  2.,   3.,   4.,   6.,   9.],\n",
       "       [  1.,   2.,   1.,   2.,   4.],\n",
       "       [ 22.,   6., 484., 132.,  36.]])"
      ]
     },
     "execution_count": 30,
     "metadata": {},
     "output_type": "execute_result"
    }
   ],
   "source": [
    "# 라이브러리를 임포트합니다.\n",
    "import numpy as np\n",
    "from sklearn.preprocessing import PolynomialFeatures\n",
    "\n",
    "# 특성 행렬을 만듭니다.\n",
    "features = np.array([[2, 3],\n",
    "                     [1, 2],\n",
    "                     [22, 6]])\n",
    "\n",
    "# PolynomialFeatures 객체를 만듭니다.\n",
    "polynomial_interaction = PolynomialFeatures(degree=2, include_bias=False)\n",
    "\n",
    "# 다항 특성을 만듭니다.\n",
    "polynomial_interaction.fit_transform(features)"
   ]
  },
  {
   "cell_type": "code",
   "execution_count": 31,
   "metadata": {},
   "outputs": [
    {
     "data": {
      "text/plain": [
       "array([[  2.,   3.,   6.],\n",
       "       [  1.,   2.,   2.],\n",
       "       [ 22.,   6., 132.]])"
      ]
     },
     "execution_count": 31,
     "metadata": {},
     "output_type": "execute_result"
    }
   ],
   "source": [
    "# PolynomialFeatures 객체를 만듭니다.\n",
    "polynomial_interaction = PolynomialFeatures(degree=2, interaction_only=True, include_bias=False)\n",
    "\n",
    "# 다항 특성을 만듭니다.\n",
    "polynomial_interaction.fit_transform(features)"
   ]
  },
  {
   "cell_type": "code",
   "execution_count": 32,
   "metadata": {},
   "outputs": [
    {
     "name": "stdout",
     "output_type": "stream",
     "text": [
      "[[  1.   2.   3.   4.   6.   9.]\n",
      " [  1.   1.   2.   1.   2.   4.]\n",
      " [  1.  22.   6. 484. 132.  36.]]\n"
     ]
    },
    {
     "name": "stderr",
     "output_type": "stream",
     "text": [
      "/Users/adam/opt/anaconda3/lib/python3.8/site-packages/sklearn/utils/deprecation.py:87: FutureWarning: Function get_feature_names is deprecated; get_feature_names is deprecated in 1.0 and will be removed in 1.2. Please use get_feature_names_out instead.\n",
      "  warnings.warn(msg, category=FutureWarning)\n"
     ]
    },
    {
     "data": {
      "text/plain": [
       "['1', 'x0', 'x1', 'x0^2', 'x0 x1', 'x1^2']"
      ]
     },
     "execution_count": 32,
     "metadata": {},
     "output_type": "execute_result"
    }
   ],
   "source": [
    "# 상수항 1을 추가합니다.\n",
    "polynomial_bias = PolynomialFeatures(degree=2, include_bias=True).fit(features)\n",
    "print(polynomial_bias.transform(features))\n",
    "polynomial_bias.get_feature_names()"
   ]
  },
  {
   "cell_type": "code",
   "execution_count": null,
   "metadata": {},
   "outputs": [],
   "source": []
  },
  {
   "cell_type": "markdown",
   "metadata": {},
   "source": [
    "### 특성 변환"
   ]
  },
  {
   "cell_type": "code",
   "execution_count": 33,
   "metadata": {},
   "outputs": [
    {
     "name": "stdout",
     "output_type": "stream",
     "text": [
      "[[20 33]\n",
      " [12 13]]\n"
     ]
    }
   ],
   "source": [
    "# 라이브러리를 임포트합니다.\n",
    "import numpy as np\n",
    "from sklearn.preprocessing import FunctionTransformer\n",
    "# 특성 행렬을 만듭니다.\n",
    "features = np.array([[10, 23],\n",
    "                     [2, 3]])\n",
    "\n",
    "# 간단한 함수를 정의합니다.\n",
    "def add_one(x):\n",
    "    return x + 10\n",
    "\n",
    "# 변환기 객체를 만듭니다.\n",
    "one_transformer = FunctionTransformer(add_one)\n",
    "# 특성 행렬을 변환합니다.\n",
    "result = one_transformer.transform(features)\n",
    "print(result)"
   ]
  },
  {
   "cell_type": "code",
   "execution_count": 34,
   "metadata": {},
   "outputs": [
    {
     "data": {
      "text/html": [
       "<div>\n",
       "<style scoped>\n",
       "    .dataframe tbody tr th:only-of-type {\n",
       "        vertical-align: middle;\n",
       "    }\n",
       "\n",
       "    .dataframe tbody tr th {\n",
       "        vertical-align: top;\n",
       "    }\n",
       "\n",
       "    .dataframe thead th {\n",
       "        text-align: right;\n",
       "    }\n",
       "</style>\n",
       "<table border=\"1\" class=\"dataframe\">\n",
       "  <thead>\n",
       "    <tr style=\"text-align: right;\">\n",
       "      <th></th>\n",
       "      <th>feature_1</th>\n",
       "      <th>feature_2</th>\n",
       "    </tr>\n",
       "  </thead>\n",
       "  <tbody>\n",
       "    <tr>\n",
       "      <th>0</th>\n",
       "      <td>20</td>\n",
       "      <td>33</td>\n",
       "    </tr>\n",
       "    <tr>\n",
       "      <th>1</th>\n",
       "      <td>12</td>\n",
       "      <td>13</td>\n",
       "    </tr>\n",
       "  </tbody>\n",
       "</table>\n",
       "</div>"
      ],
      "text/plain": [
       "   feature_1  feature_2\n",
       "0         20         33\n",
       "1         12         13"
      ]
     },
     "execution_count": 34,
     "metadata": {},
     "output_type": "execute_result"
    }
   ],
   "source": [
    "import pandas as pd\n",
    "\n",
    "# 데이터프레임을 생성\n",
    "df = pd.DataFrame(features, columns=[\"feature_1\", \"feature_2\"])\n",
    "\n",
    "# 함수를 적용\n",
    "df.apply(add_one)"
   ]
  },
  {
   "cell_type": "code",
   "execution_count": 35,
   "metadata": {},
   "outputs": [
    {
     "data": {
      "text/plain": [
       "array([11, 12, 13])"
      ]
     },
     "execution_count": 35,
     "metadata": {},
     "output_type": "execute_result"
    }
   ],
   "source": [
    "FunctionTransformer(add_one, validate=False).transform(np.array([1, 2, 3]))"
   ]
  },
  {
   "cell_type": "code",
   "execution_count": 36,
   "metadata": {},
   "outputs": [
    {
     "data": {
      "text/plain": [
       "array([[20, 22],\n",
       "       [12,  2]])"
      ]
     },
     "execution_count": 36,
     "metadata": {},
     "output_type": "execute_result"
    }
   ],
   "source": [
    "from sklearn.compose import ColumnTransformer\n",
    "\n",
    "# 100을 더하는 함수를 만듭니다.\n",
    "def sub_one(x):\n",
    "    return x - 1\n",
    "\n",
    "# (이름, 변환기, 열 리스트)로 구성된 튜플의 리스트를 ColumnTransformer에 전달합니다.\n",
    "ct = ColumnTransformer(\n",
    "    [(\"add_one\", FunctionTransformer(add_one, validate=True), ['feature_1']),\n",
    "     (\"sub_one\", FunctionTransformer(sub_one, validate=True), ['feature_2'])])\n",
    "\n",
    "ct.fit_transform(df)"
   ]
  },
  {
   "cell_type": "code",
   "execution_count": null,
   "metadata": {},
   "outputs": [],
   "source": []
  },
  {
   "cell_type": "markdown",
   "metadata": {},
   "source": [
    "### 연속형 데이터의 이산화"
   ]
  },
  {
   "cell_type": "code",
   "execution_count": 37,
   "metadata": {},
   "outputs": [
    {
     "name": "stdout",
     "output_type": "stream",
     "text": [
      "[ 46.         107.33333333 168.66666667 230.        ]\n",
      "\n",
      "   horsepower hp_bin\n",
      "0       130.0   보통출력\n",
      "1       165.0   보통출력\n",
      "2       150.0   보통출력\n",
      "3       150.0   보통출력\n",
      "4       140.0   보통출력\n",
      "5       198.0    고출력\n",
      "6       220.0    고출력\n",
      "7       215.0    고출력\n",
      "8       225.0    고출력\n",
      "9       190.0    고출력\n"
     ]
    }
   ],
   "source": [
    "# 라이브러리 불러오기\n",
    "import numpy as np\n",
    "import pandas as pd\n",
    "\n",
    "# 데이터 읽어오기\n",
    "df = pd.read_csv('./data/auto-mpg.csv', header=None)\n",
    "\n",
    "# 열 이름을 설정\n",
    "df.columns = ['mpg','cylinders','displacement','horsepower','weight',\n",
    "              'acceleration','model year','origin','name'] \n",
    "\n",
    "df['horsepower'].replace('?', np.nan, inplace=True)      # '?'을 np.nan으로 변경\n",
    "df.dropna(subset=['horsepower'], axis=0, inplace=True)   # 누락데이터 행을 삭제\n",
    "df['horsepower'] = df['horsepower'].astype('float')      # 문자열을 실수형으로 변환\n",
    "\n",
    "# np.histogram 함수로 3개의 bin으로 나누는 경계 값의 리스트 구하기\n",
    "count, bin_dividers = np.histogram(df['horsepower'], bins=3)\n",
    "print(bin_dividers)\n",
    "print()\n",
    "\n",
    "# 3개의 bin에 이름 지정\n",
    "bin_names = ['저출력', '보통출력', '고출력']\n",
    "\n",
    "# pd.cut 함수로 각 데이터를 3개의 bin에 할당\n",
    "df['hp_bin'] = pd.cut(x=df['horsepower'],     # 데이터 배열\n",
    "                      bins=bin_dividers,      # 경계 값 리스트\n",
    "                      labels=bin_names,       # bin 이름\n",
    "                      include_lowest=True)    # 첫 경계값 포함 \n",
    "\n",
    "# horsepower 열, hp_bin 열의 첫 10행을 출력\n",
    "print(df[['horsepower', 'hp_bin']].head(10))"
   ]
  },
  {
   "cell_type": "code",
   "execution_count": 38,
   "metadata": {},
   "outputs": [
    {
     "name": "stdout",
     "output_type": "stream",
     "text": [
      "[[0]\n",
      " [1]\n",
      " [1]\n",
      " [1]\n",
      " [1]\n",
      " [0]]\n",
      "\n",
      "[[0]\n",
      " [2]\n",
      " [3]\n",
      " [2]\n",
      " [3]\n",
      " [1]]\n",
      "\n",
      "[[0]\n",
      " [1]\n",
      " [3]\n",
      " [2]\n",
      " [2]\n",
      " [1]]\n",
      "\n"
     ]
    }
   ],
   "source": [
    "# 라이브러리를 임포트합니다.\n",
    "import numpy as np\n",
    "\n",
    "# 특성을 만듭니다.\n",
    "age = np.array([[13],\n",
    "                [30],\n",
    "                [67],\n",
    "                [36],\n",
    "                [64],\n",
    "                [24]])\n",
    "# 30을 기준으로 분할\n",
    "result = np.digitize(age, bins=[30])\n",
    "print(result)\n",
    "print()\n",
    "\n",
    "#0-19, 20-29, 30-63, 64이상의 구간으로 분할\n",
    "result = np.digitize(age, bins=[20,30,64])\n",
    "print(result)\n",
    "print()\n",
    "\n",
    "#0-20, 21-30, 31-64, 64초과 구간으로 분할\n",
    "result = np.digitize(age, bins=[20,30,64], right=True)\n",
    "print(result)\n",
    "print()\n"
   ]
  },
  {
   "cell_type": "code",
   "execution_count": 39,
   "metadata": {},
   "outputs": [
    {
     "name": "stdout",
     "output_type": "stream",
     "text": [
      "[[13]\n",
      " [30]\n",
      " [67]\n",
      " [36]\n",
      " [64]\n",
      " [24]]\n",
      "[[0]\n",
      " [0]\n",
      " [1]\n",
      " [1]\n",
      " [1]\n",
      " [0]]\n"
     ]
    }
   ],
   "source": [
    "from sklearn.preprocessing import Binarizer\n",
    "print(age)\n",
    "\n",
    "# Binarizer 객체를 만듭니다. \n",
    "binarizer = Binarizer(threshold=30.0)\n",
    "\n",
    "# 특성을 변환합니다.\n",
    "print(binarizer.transform(age))"
   ]
  },
  {
   "cell_type": "code",
   "execution_count": 40,
   "metadata": {},
   "outputs": [
    {
     "name": "stdout",
     "output_type": "stream",
     "text": [
      "[[0.]\n",
      " [1.]\n",
      " [3.]\n",
      " [2.]\n",
      " [3.]\n",
      " [0.]]\n",
      "\n",
      "  (0, 0)\t1.0\n",
      "  (1, 1)\t1.0\n",
      "  (2, 3)\t1.0\n",
      "  (3, 2)\t1.0\n",
      "  (4, 3)\t1.0\n",
      "  (5, 0)\t1.0\n",
      "\n",
      "[[1. 0. 0. 0.]\n",
      " [0. 1. 0. 0.]\n",
      " [0. 0. 0. 1.]\n",
      " [0. 0. 1. 0.]\n",
      " [0. 0. 0. 1.]\n",
      " [1. 0. 0. 0.]]\n",
      "\n",
      "[[1. 0. 0. 0.]\n",
      " [0. 1. 0. 0.]\n",
      " [0. 0. 0. 1.]\n",
      " [0. 1. 0. 0.]\n",
      " [0. 0. 0. 1.]\n",
      " [1. 0. 0. 0.]]\n",
      "\n",
      "[array([13. , 26.5, 40. , 53.5, 67. ])]\n"
     ]
    }
   ],
   "source": [
    "from sklearn.preprocessing import KBinsDiscretizer\n",
    "# 네 개의 구간으로 나눕니다.\n",
    "kb = KBinsDiscretizer(4, encode='ordinal', strategy='quantile')\n",
    "print(kb.fit_transform(age))\n",
    "print()\n",
    "\n",
    "#희소행렬 리턴\n",
    "kb = KBinsDiscretizer(4, encode='onehot', strategy='quantile')\n",
    "print(kb.fit_transform(age))\n",
    "print()\n",
    "\n",
    "#밀집행렬 리턴\n",
    "kb = KBinsDiscretizer(4, encode='onehot-dense', strategy='quantile')\n",
    "print(kb.fit_transform(age))\n",
    "print()\n",
    "\n",
    "#밀집행렬 리턴\n",
    "kb = KBinsDiscretizer(4, encode='onehot-dense', strategy='uniform')\n",
    "print(kb.fit_transform(age))\n",
    "print()\n",
    "\n",
    "#구간의 값 확인\n",
    "print(kb.bin_edges_)"
   ]
  },
  {
   "cell_type": "code",
   "execution_count": 41,
   "metadata": {},
   "outputs": [
    {
     "name": "stdout",
     "output_type": "stream",
     "text": [
      "   feature_1  feature_2\n",
      "0         13         30\n",
      "1         30         40\n",
      "2         67         44\n",
      "3         36         24\n",
      "4         64         37\n",
      "5         24         46\n",
      "\n",
      "   feature_1  feature_2  group\n",
      "0         13         30      1\n",
      "1         30         40      1\n",
      "2         67         44      0\n",
      "3         36         24      2\n",
      "4         64         37      0\n"
     ]
    }
   ],
   "source": [
    "import numpy as np\n",
    "import pandas as pd\n",
    "from sklearn.cluster import KMeans\n",
    "\n",
    "# 모의 특성 행렬을 생성\n",
    "sample = np.array([[13, 30],\n",
    "                [30, 40],\n",
    "                [67, 44],\n",
    "                [36, 24],\n",
    "                [64, 37],\n",
    "                [24, 46]])\n",
    "\n",
    "# 데이터프레임을 생성\n",
    "dataframe = pd.DataFrame(sample, columns=[\"feature_1\", \"feature_2\"])\n",
    "print(dataframe)\n",
    "print()\n",
    "\n",
    "# k-평균 군집 모델을 생성\n",
    "clusterer = KMeans(3, random_state=0)\n",
    "\n",
    "# 모델을 훈련\n",
    "clusterer.fit(sample)\n",
    "\n",
    "# 그룹 소속을 예측\n",
    "dataframe[\"group\"] = clusterer.predict(sample)\n",
    "\n",
    "# 처음 몇 개의 샘플을 조회\n",
    "print(dataframe.head(5))"
   ]
  },
  {
   "cell_type": "code",
   "execution_count": null,
   "metadata": {},
   "outputs": [],
   "source": []
  },
  {
   "cell_type": "markdown",
   "metadata": {},
   "source": [
    "### 이상치 감지"
   ]
  },
  {
   "cell_type": "code",
   "execution_count": 42,
   "metadata": {},
   "outputs": [
    {
     "name": "stdout",
     "output_type": "stream",
     "text": [
      "평균: 1254.5\n",
      "표준편차: 4840.068065120572\n",
      "z_score: [array([-0.25712448, -0.25712448, -0.25774431, -0.25795092, -0.25836414,\n",
      "       -0.25836414, -0.25857074, -0.25857074]), array([ 3.87298272, -0.25857074, -0.25815753, -0.25733109, -0.25877735,\n",
      "       -0.25877735, -0.25877735, -0.25877735])]\n",
      "(array([1]), array([0]))\n"
     ]
    }
   ],
   "source": [
    "#Z 점수를 이용하는 방법\n",
    "import numpy as np\n",
    "\n",
    "def outliers_z_score(ys):\n",
    "    threshold = 3\n",
    "\n",
    "    mean_y = np.mean(ys)\n",
    "    print(\"평균:\", mean_y)\n",
    "    stdev_y = np.std(ys)\n",
    "    print(\"표준편차:\", stdev_y)\n",
    "    z_scores = [(y - mean_y) / stdev_y for y in ys]\n",
    "    print(\"z_score:\", z_scores)\n",
    "    return np.where(np.abs(z_scores) > threshold)\n",
    "\n",
    "features = np.array([[10, 10, 7, 6, 4, 4, 3,3],\n",
    "                     [20000, 3, 5, 9, 2, 2, 2, 2]])\n",
    "print(outliers_z_score(features))"
   ]
  },
  {
   "cell_type": "code",
   "execution_count": 43,
   "metadata": {},
   "outputs": [
    {
     "name": "stdout",
     "output_type": "stream",
     "text": [
      "(array([1]), array([0]))\n"
     ]
    }
   ],
   "source": [
    "#Z 점수를 보완해서 이용하는 방법\n",
    "def outliers_modified_z_score(ys):\n",
    "    threshold = 3.5\n",
    "\n",
    "    median_y = np.median(ys)\n",
    "    median_absolute_deviation_y = np.median([np.abs(y - median_y) for y in ys])\n",
    "    modified_z_scores = [0.6745 * (y - median_y) / median_absolute_deviation_y\n",
    "                         for y in ys]\n",
    "    return np.where(np.abs(modified_z_scores) > threshold)\n",
    "\n",
    "print(outliers_modified_z_score(features))"
   ]
  },
  {
   "cell_type": "code",
   "execution_count": 44,
   "metadata": {},
   "outputs": [
    {
     "name": "stdout",
     "output_type": "stream",
     "text": [
      "평균: 2005.6\n",
      "표준편차: 5998.133929815172\n",
      "z_score: [array([-0.33270347, -0.33270347, -0.33320363, -0.33337035, -0.33370379]), array([ 2.9999997 , -0.3338705 , -0.33353707, -0.33287019, -0.33403722])]\n",
      "(array([], dtype=int64), array([], dtype=int64))\n",
      "(array([1]), array([0]))\n"
     ]
    }
   ],
   "source": [
    "#Z 점수를 보완해서 이용하는 방법\n",
    "features = np.array([[10, 10, 7, 6, 4],\n",
    "                     [20000, 3, 5, 9, 2]])\n",
    "print(outliers_z_score(features))\n",
    "\n",
    "def outliers_modified_z_score(ys):\n",
    "    threshold = 3.5\n",
    "\n",
    "    median_y = np.median(ys)\n",
    "    median_absolute_deviation_y = np.median([np.abs(y - median_y) for y in ys])\n",
    "    modified_z_scores = [0.6745 * (y - median_y) / median_absolute_deviation_y\n",
    "                         for y in ys]\n",
    "    return np.where(np.abs(modified_z_scores) > threshold)\n",
    "\n",
    "print(outliers_modified_z_score(features))"
   ]
  },
  {
   "cell_type": "code",
   "execution_count": 45,
   "metadata": {},
   "outputs": [
    {
     "name": "stdout",
     "output_type": "stream",
     "text": [
      "하한값: -1.875\n",
      "상한값: 17.125\n",
      "(array([0, 1]), array([4, 0]))\n"
     ]
    }
   ],
   "source": [
    "#IQR 이용하는 방법\n",
    "import numpy as np\n",
    "\n",
    "def outliers_iqr(ys):\n",
    "    quartile_1, quartile_3 = np.percentile(ys, [25, 75])\n",
    "    iqr = quartile_3 - quartile_1\n",
    "    lower_bound = quartile_1 - (iqr * 1.5)\n",
    "    upper_bound = quartile_3 + (iqr * 1.5)\n",
    "    print(\"하한값:\", lower_bound)\n",
    "    print(\"상한값:\", upper_bound)\n",
    "    return np.where((ys > upper_bound) | (ys < lower_bound))\n",
    "\n",
    "features = np.array([[10, 10, 7, 6, -4900],\n",
    "                     [20000, 3, 5, 9, 10]])\n",
    "\n",
    "print(outliers_iqr(features))"
   ]
  },
  {
   "cell_type": "code",
   "execution_count": 46,
   "metadata": {},
   "outputs": [
    {
     "name": "stdout",
     "output_type": "stream",
     "text": [
      "[[-1.83198811  3.52863145]\n",
      " [-2.76017908  5.55121358]\n",
      " [-1.61734616  4.98930508]\n",
      " [-0.52579046  3.3065986 ]\n",
      " [ 0.08525186  3.64528297]\n",
      " [-0.79415228  2.10495117]\n",
      " [-1.34052081  4.15711949]\n",
      " [-1.98197711  4.02243551]\n",
      " [-2.18773166  3.33352125]\n",
      " [-0.19745197  2.34634916]]\n",
      "[[ 1.00000000e+04  1.00000000e+04]\n",
      " [-2.76017908e+00  5.55121358e+00]\n",
      " [-1.61734616e+00  4.98930508e+00]\n",
      " [-5.25790464e-01  3.30659860e+00]\n",
      " [ 8.52518583e-02  3.64528297e+00]\n",
      " [-7.94152277e-01  2.10495117e+00]\n",
      " [-1.34052081e+00  4.15711949e+00]\n",
      " [-1.98197711e+00  4.02243551e+00]\n",
      " [-2.18773166e+00  3.33352125e+00]\n",
      " [-1.97451969e-01  2.34634916e+00]]\n"
     ]
    },
    {
     "data": {
      "text/plain": [
       "array([-1,  1,  1,  1,  1,  1,  1,  1,  1,  1])"
      ]
     },
     "execution_count": 46,
     "metadata": {},
     "output_type": "execute_result"
    }
   ],
   "source": [
    "# 라이브러리를 임포트합니다.\n",
    "import numpy as np\n",
    "from sklearn.covariance import EllipticEnvelope\n",
    "from sklearn.datasets import make_blobs\n",
    "\n",
    "# 모의 데이터를 만듭니다.\n",
    "features, _ = make_blobs(n_samples = 10,\n",
    "                         n_features = 2,\n",
    "                         centers = 1,\n",
    "                         random_state = 1)\n",
    "print(features)\n",
    "\n",
    "# 첫 번째 샘플을 극단적인 값으로 바꿉니다.\n",
    "features[0,0] = 10000\n",
    "features[0,1] = 10000\n",
    "print(features)\n",
    "\n",
    "# 이상치 감지 객체를 만듭니다.\n",
    "outlier_detector = EllipticEnvelope(contamination=.1)\n",
    "\n",
    "# 감지 객체를 훈련합니다.\n",
    "outlier_detector.fit(features)\n",
    "\n",
    "# 이상치를 예측합니다.\n",
    "outlier_detector.predict(features)"
   ]
  },
  {
   "cell_type": "code",
   "execution_count": null,
   "metadata": {},
   "outputs": [],
   "source": []
  },
  {
   "cell_type": "markdown",
   "metadata": {},
   "source": [
    "### 이상치 처리"
   ]
  },
  {
   "cell_type": "code",
   "execution_count": 47,
   "metadata": {},
   "outputs": [
    {
     "name": "stdout",
     "output_type": "stream",
     "text": [
      "     Price  Bathrooms  Square_Feet  Outlier\n",
      "0   534433        2.0         1500        0\n",
      "1   392333        3.5         2500        0\n",
      "2   293222        2.0         1500        0\n",
      "3  4322032      116.0        48000        1\n",
      "\n",
      "     Price  Bathrooms  Square_Feet  Outlier  Log_Of_Square_Feet\n",
      "0   534433        2.0         1500        0            7.313220\n",
      "1   392333        3.5         2500        0            7.824046\n",
      "2   293222        2.0         1500        0            7.313220\n",
      "3  4322032      116.0        48000        1           10.778956\n",
      "\n",
      "     Price  Bathrooms  Square_Feet  Outlier  Log_Of_Square_Feet  \\\n",
      "0   534433        2.0         1500        0            7.313220   \n",
      "1   392333        3.5         2500        0            7.824046   \n",
      "2   293222        2.0         1500        0            7.313220   \n",
      "3  4322032      116.0        48000        1           10.778956   \n",
      "\n",
      "   Scale_Bathrooms  \n",
      "0        -0.025316  \n",
      "1         0.025316  \n",
      "2        -0.025316  \n",
      "3         3.822785  \n"
     ]
    }
   ],
   "source": [
    "# 라이브러리를 임포트합니다.\n",
    "import numpy as np\n",
    "import pandas as pd\n",
    "from sklearn import preprocessing\n",
    "\n",
    "# 데이터프레임을 만듭니다.\n",
    "houses = pd.DataFrame()\n",
    "houses['Price'] = [534433, 392333, 293222, 4322032]\n",
    "houses['Bathrooms'] = [2, 3.5, 2, 116]\n",
    "houses['Square_Feet'] = [1500, 2500, 1500, 48000]\n",
    "\n",
    "# 불리언 조건을 기반으로 특성을 만듭니다.\n",
    "houses[\"Outlier\"] = np.where(houses[\"Bathrooms\"] < 20, 0, 1)\n",
    "# 데이터를 확인합니다.\n",
    "print(houses)\n",
    "print()\n",
    "\n",
    "#특성 변환 - 로그 특성\n",
    "houses[\"Log_Of_Square_Feet\"] = [np.log(x) for x in houses[\"Square_Feet\"]]\n",
    "# 데이터를 확인합니다.\n",
    "print(houses)\n",
    "print()\n",
    "\n",
    "#스케일링\n",
    "df = pd.DataFrame(houses[\"Bathrooms\"])\n",
    "scaler = preprocessing.RobustScaler()\n",
    "scaler.fit(df)\n",
    "x_scaled = scaler.transform(df)\n",
    "houses[\"Scale_Bathrooms\"] = x_scaled\n",
    "print(houses)"
   ]
  },
  {
   "cell_type": "code",
   "execution_count": null,
   "metadata": {},
   "outputs": [],
   "source": []
  },
  {
   "cell_type": "markdown",
   "metadata": {},
   "source": [
    "### 결측치 조회"
   ]
  },
  {
   "cell_type": "code",
   "execution_count": 48,
   "metadata": {},
   "outputs": [
    {
     "name": "stdout",
     "output_type": "stream",
     "text": [
      "   Unnamed: 0  survived  pclass     sex   age  sibsp  parch     fare embarked  \\\n",
      "0           0         0       3    male  22.0      1      0   7.2500        S   \n",
      "1           1         1       1  female  38.0      1      0  71.2833        C   \n",
      "2           2         1       3  female  26.0      0      0   7.9250        S   \n",
      "3           3         1       1  female  35.0      1      0  53.1000        S   \n",
      "4           4         0       3    male  35.0      0      0   8.0500        S   \n",
      "\n",
      "   class    who  adult_male deck  embark_town alive  alone  \n",
      "0  Third    man        True  NaN  Southampton    no  False  \n",
      "1  First  woman       False    C    Cherbourg   yes  False  \n",
      "2  Third  woman       False  NaN  Southampton   yes   True  \n",
      "3  First  woman       False    C  Southampton   yes  False  \n",
      "4  Third    man        True  NaN  Southampton    no   True  \n",
      "<class 'pandas.core.frame.DataFrame'>\n",
      "RangeIndex: 891 entries, 0 to 890\n",
      "Data columns (total 16 columns):\n",
      " #   Column       Non-Null Count  Dtype  \n",
      "---  ------       --------------  -----  \n",
      " 0   Unnamed: 0   891 non-null    int64  \n",
      " 1   survived     891 non-null    int64  \n",
      " 2   pclass       891 non-null    int64  \n",
      " 3   sex          891 non-null    object \n",
      " 4   age          714 non-null    float64\n",
      " 5   sibsp        891 non-null    int64  \n",
      " 6   parch        891 non-null    int64  \n",
      " 7   fare         891 non-null    float64\n",
      " 8   embarked     889 non-null    object \n",
      " 9   class        891 non-null    object \n",
      " 10  who          891 non-null    object \n",
      " 11  adult_male   891 non-null    bool   \n",
      " 12  deck         203 non-null    object \n",
      " 13  embark_town  889 non-null    object \n",
      " 14  alive        891 non-null    object \n",
      " 15  alone        891 non-null    bool   \n",
      "dtypes: bool(2), float64(2), int64(5), object(7)\n",
      "memory usage: 99.3+ KB\n",
      "None\n"
     ]
    }
   ],
   "source": [
    "#seaborn 패키지의 titanic 데이터 가져오기\n",
    "import pandas as pd\n",
    "import numpy as np\n",
    "\n",
    "# seaborn 패키지를 sns라는 이름으로 사용할 수 있도록 import\n",
    "import seaborn as sns\n",
    "\n",
    "# titanic 데이터셋 가져오기\n",
    "#titanic = sns.load_dataset('titanic')\n",
    "titanic = pd.read_csv('data/titanic.csv')\n",
    "\n",
    "#데이터 확인\n",
    "print(titanic.head())\n",
    "\n",
    "#데이터 요약 정보 확인\n",
    "titanic.info()"
   ]
  },
  {
   "cell_type": "code",
   "execution_count": 49,
   "metadata": {},
   "outputs": [
    {
     "name": "stdout",
     "output_type": "stream",
     "text": [
      "NaN    688\n",
      "C       59\n",
      "B       47\n",
      "D       33\n",
      "E       32\n",
      "A       15\n",
      "F       13\n",
      "G        4\n",
      "Name: deck, dtype: int64\n"
     ]
    }
   ],
   "source": [
    "print(titanic[\"deck\"].value_counts(dropna = False))"
   ]
  },
  {
   "cell_type": "code",
   "execution_count": 50,
   "metadata": {},
   "outputs": [
    {
     "name": "stdout",
     "output_type": "stream",
     "text": [
      "   Unnamed: 0  survived  pclass    sex    age  sibsp  parch   fare  embarked  \\\n",
      "0       False     False   False  False  False  False  False  False     False   \n",
      "1       False     False   False  False  False  False  False  False     False   \n",
      "2       False     False   False  False  False  False  False  False     False   \n",
      "3       False     False   False  False  False  False  False  False     False   \n",
      "4       False     False   False  False  False  False  False  False     False   \n",
      "\n",
      "   class    who  adult_male   deck  embark_town  alive  alone  \n",
      "0  False  False       False   True        False  False  False  \n",
      "1  False  False       False  False        False  False  False  \n",
      "2  False  False       False   True        False  False  False  \n",
      "3  False  False       False  False        False  False  False  \n",
      "4  False  False       False   True        False  False  False  \n",
      "\n",
      "688\n"
     ]
    }
   ],
   "source": [
    "#isnull을 이용한 null 확인\n",
    "print(titanic.head().isnull())\n",
    "print()\n",
    "#deck 가 null 인 데이터 개수 구하기\n",
    "print(titanic[\"deck\"].isnull().sum(axis=0))"
   ]
  },
  {
   "cell_type": "code",
   "execution_count": null,
   "metadata": {},
   "outputs": [],
   "source": []
  },
  {
   "cell_type": "markdown",
   "metadata": {},
   "source": [
    "### 결측치 삭제"
   ]
  },
  {
   "cell_type": "code",
   "execution_count": 51,
   "metadata": {},
   "outputs": [
    {
     "name": "stdout",
     "output_type": "stream",
     "text": [
      "[[ 1.1 11.1]\n",
      " [ 2.2 22.2]\n",
      " [ 3.3 33.3]\n",
      " [ 4.4 44.4]]\n"
     ]
    }
   ],
   "source": [
    "import numpy as np\n",
    "\n",
    "features = np.array([[1.1, 11.1],\n",
    "                     [2.2, 22.2],\n",
    "                     [3.3, 33.3],\n",
    "                     [4.4, 44.4],\n",
    "                     [np.nan, 55]])\n",
    "\n",
    "#(~ 연산자를 사용하여) 누락된 값이 없는 샘플만 남김\n",
    "print(features[~np.isnan(features).any(axis=1)])"
   ]
  },
  {
   "cell_type": "code",
   "execution_count": 52,
   "metadata": {},
   "outputs": [
    {
     "name": "stdout",
     "output_type": "stream",
     "text": [
      "Unnamed: 0       0\n",
      "survived         0\n",
      "pclass           0\n",
      "sex              0\n",
      "age            177\n",
      "sibsp            0\n",
      "parch            0\n",
      "fare             0\n",
      "embarked         2\n",
      "class            0\n",
      "who              0\n",
      "adult_male       0\n",
      "deck           688\n",
      "embark_town      2\n",
      "alive            0\n",
      "alone            0\n",
      "dtype: int64\n",
      "\n",
      "Index(['Unnamed: 0', 'survived', 'pclass', 'sex', 'age', 'sibsp', 'parch',\n",
      "       'fare', 'embarked', 'class', 'who', 'adult_male', 'embark_town',\n",
      "       'alive', 'alone'],\n",
      "      dtype='object')\n"
     ]
    }
   ],
   "source": [
    "#컬럼별 null 데이터의 개수 찾기\n",
    "print(titanic.isnull().sum(axis=0))\n",
    "print()\n",
    "\n",
    "#NaN 값이 500개 이상인 컬럼 제거\n",
    "df_thresh = titanic.dropna(axis=1, thresh=500)\n",
    "print(df_thresh .columns)"
   ]
  },
  {
   "cell_type": "code",
   "execution_count": 53,
   "metadata": {},
   "outputs": [
    {
     "name": "stdout",
     "output_type": "stream",
     "text": [
      "<class 'pandas.core.frame.DataFrame'>\n",
      "Int64Index: 714 entries, 0 to 890\n",
      "Data columns (total 15 columns):\n",
      " #   Column       Non-Null Count  Dtype  \n",
      "---  ------       --------------  -----  \n",
      " 0   Unnamed: 0   714 non-null    int64  \n",
      " 1   survived     714 non-null    int64  \n",
      " 2   pclass       714 non-null    int64  \n",
      " 3   sex          714 non-null    object \n",
      " 4   age          714 non-null    float64\n",
      " 5   sibsp        714 non-null    int64  \n",
      " 6   parch        714 non-null    int64  \n",
      " 7   fare         714 non-null    float64\n",
      " 8   embarked     712 non-null    object \n",
      " 9   class        714 non-null    object \n",
      " 10  who          714 non-null    object \n",
      " 11  adult_male   714 non-null    bool   \n",
      " 12  embark_town  712 non-null    object \n",
      " 13  alive        714 non-null    object \n",
      " 14  alone        714 non-null    bool   \n",
      "dtypes: bool(2), float64(2), int64(5), object(6)\n",
      "memory usage: 79.5+ KB\n"
     ]
    }
   ],
   "source": [
    "#age 열의 값이 NaN인 행 삭제\n",
    "df_age = df_thresh.dropna(subset=['age'], how='any', axis=0)\n",
    "df_age.info()"
   ]
  },
  {
   "cell_type": "markdown",
   "metadata": {},
   "source": [
    "### 결측치 대체"
   ]
  },
  {
   "cell_type": "code",
   "execution_count": 54,
   "metadata": {},
   "outputs": [
    {
     "name": "stdout",
     "output_type": "stream",
     "text": [
      "825     Queenstown\n",
      "826    Southampton\n",
      "827      Cherbourg\n",
      "828     Queenstown\n",
      "829            NaN\n",
      "830      Cherbourg\n",
      "Name: embark_town, dtype: object\n",
      "\n",
      "825     Queenstown\n",
      "826    Southampton\n",
      "827      Cherbourg\n",
      "828     Queenstown\n",
      "829     Queenstown\n",
      "830      Cherbourg\n",
      "Name: embark_town, dtype: object\n",
      "\n",
      "Southampton    644\n",
      "Cherbourg      168\n",
      "Queenstown      77\n",
      "Name: embark_town, dtype: int64\n",
      "825     Queenstown\n",
      "826    Southampton\n",
      "827      Cherbourg\n",
      "828     Queenstown\n",
      "829    Southampton\n",
      "830      Cherbourg\n",
      "Name: embark_town, dtype: object\n"
     ]
    }
   ],
   "source": [
    "import pandas as pd\n",
    "import numpy as np\n",
    "import seaborn as sns\n",
    "\n",
    "# titanic 데이터셋 가져오기\n",
    "titanic = sns.load_dataset('titanic')\n",
    "\n",
    "# embark_town 열의 829행의 NaN 데이터 출력\n",
    "print(titanic['embark_town'][825:831])\n",
    "print()\n",
    "\n",
    "# embark_town 열의 NaN값을 바로 앞에 있는 828행의 값으로 변경하기\n",
    "titanic['embark_town'].fillna(method='ffill', inplace=True)\n",
    "print(titanic['embark_town'][825:831])\n",
    "print()\n",
    "\n",
    "#가장 많이 등장하는 값으로 변경 \n",
    "titanic = sns.load_dataset('titanic')\n",
    "mode = titanic['embark_town'].value_counts()\n",
    "print(mode)\n",
    "\n",
    "titanic['embark_town'].fillna(mode.idxmax(), inplace=True)\n",
    "print(titanic['embark_town'][825:831])"
   ]
  },
  {
   "cell_type": "code",
   "execution_count": 55,
   "metadata": {},
   "outputs": [
    {
     "name": "stdout",
     "output_type": "stream",
     "text": [
      "[[100.]\n",
      " [200.]\n",
      " [300.]\n",
      " [400.]\n",
      " [500.]\n",
      " [ nan]]\n",
      "[[100.]\n",
      " [200.]\n",
      " [300.]\n",
      " [400.]\n",
      " [500.]\n",
      " [300.]]\n",
      "대체된 값 Imputed Value: [300.]\n"
     ]
    }
   ],
   "source": [
    "from sklearn.impute import SimpleImputer\n",
    "\n",
    "#중간 값으로 대체하는 SimpleImputer 생성 \n",
    "simple_imputer = SimpleImputer(strategy='median')\n",
    "features = np.array([[100], [200], [300], [400], [500], [np.nan]])\n",
    "\n",
    "print(features)\n",
    "\n",
    "#중간 값으로 대체\n",
    "features_simple_imputed = simple_imputer.fit_transform(features)\n",
    "print(features_simple_imputed)\n",
    "print(\"대체된 값 Imputed Value:\", features_simple_imputed[5])"
   ]
  },
  {
   "cell_type": "code",
   "execution_count": 56,
   "metadata": {},
   "outputs": [
    {
     "name": "stdout",
     "output_type": "stream",
     "text": [
      "[[100.         200.        ]\n",
      " [200.         250.        ]\n",
      " [300.         300.        ]\n",
      " [400.         290.        ]\n",
      " [500.         380.        ]\n",
      " [200.         250.00000006]]\n"
     ]
    }
   ],
   "source": [
    "import numpy as np\n",
    "#기본 라이브러리가 아니므로 fancyimpute를 설치\n",
    "from fancyimpute import KNN\n",
    "\n",
    "features = np.array([[100, 200], [200, 250], [300, 300], [400, 290], [500, 380], [200, np.nan]])\n",
    "\n",
    "\n",
    "# 특성 행렬에 있는 누락된 값을 예측합니다.\n",
    "features_knn_imputed = KNN(k=5, verbose=0).fit_transform(features)\n",
    "\n",
    "print(features_knn_imputed)"
   ]
  },
  {
   "cell_type": "code",
   "execution_count": null,
   "metadata": {},
   "outputs": [],
   "source": []
  },
  {
   "cell_type": "markdown",
   "metadata": {},
   "source": [
    "## 범주형 데이터"
   ]
  },
  {
   "cell_type": "markdown",
   "metadata": {},
   "source": [
    "### 순서가 없는 범주형 데이터 만들기 "
   ]
  },
  {
   "cell_type": "code",
   "execution_count": 57,
   "metadata": {},
   "outputs": [
    {
     "name": "stdout",
     "output_type": "stream",
     "text": [
      "   저출력  보통출력  고출력\n",
      "0    0     1    0\n",
      "1    0     1    0\n",
      "2    0     1    0\n",
      "3    0     1    0\n",
      "4    0     1    0\n",
      "5    0     0    1\n",
      "6    0     0    1\n",
      "7    0     0    1\n",
      "8    0     0    1\n",
      "9    0     0    1\n"
     ]
    }
   ],
   "source": [
    "import numpy as np\n",
    "import pandas as pd\n",
    "\n",
    "# 데이터 읽어오기\n",
    "df = pd.read_csv('./data/auto-mpg.csv', header=None)\n",
    "\n",
    "# 열 이름을 설정\n",
    "df.columns = ['mpg','cylinders','displacement','horsepower','weight',\n",
    "              'acceleration','model year','origin','name'] \n",
    "\n",
    "df['horsepower'].replace('?', np.nan, inplace=True)      # '?'을 np.nan으로 변경\n",
    "df.dropna(subset=['horsepower'], axis=0, inplace=True)   # 누락데이터 행을 삭제\n",
    "df['horsepower'] = df['horsepower'].astype('float')      # 문자열을 실수형으로 변환\n",
    "\n",
    "# 3개의 bin에 이름 지정\n",
    "bin_names = ['저출력', '보통출력', '고출력']\n",
    "count, bin_dividers = np.histogram(df['horsepower'], bins=3)\n",
    "\n",
    "# pd.cut 함수로 각 데이터를 3개의 bin에 할당\n",
    "df['hp_bin'] = pd.cut(x=df['horsepower'],     # 데이터 배열\n",
    "                      bins=bin_dividers,      # 경계 값 리스트\n",
    "                      labels=bin_names,       # bin 이름\n",
    "                      include_lowest=True)    # 첫 경계값 포함 \n",
    "\n",
    "\n",
    "# hp_bin 열의 범주형 데이터를 더미 변수로 변환\n",
    "horsepower_dummies = pd.get_dummies(df['hp_bin'])\n",
    "print(horsepower_dummies.head(10))"
   ]
  },
  {
   "cell_type": "markdown",
   "metadata": {},
   "source": [
    "### sklearn 이용 "
   ]
  },
  {
   "cell_type": "code",
   "execution_count": 58,
   "metadata": {},
   "outputs": [
    {
     "name": "stdout",
     "output_type": "stream",
     "text": [
      "[[0 1 0]\n",
      " [0 1 0]\n",
      " [0 1 0]\n",
      " ...\n",
      " [0 0 1]\n",
      " [0 0 1]\n",
      " [0 0 1]]\n"
     ]
    }
   ],
   "source": [
    "from sklearn.preprocessing import LabelBinarizer\n",
    "\n",
    "# 원-핫 인코더 생성\n",
    "one_hot = LabelBinarizer()\n",
    "\n",
    "# 특성을 원-핫 인코딩\n",
    "print(one_hot.fit_transform(df['hp_bin']))"
   ]
  },
  {
   "cell_type": "code",
   "execution_count": 59,
   "metadata": {},
   "outputs": [
    {
     "name": "stdout",
     "output_type": "stream",
     "text": [
      "['고출력' '보통출력' '저출력']\n",
      "\n",
      "['보통출력' '보통출력' '보통출력' '보통출력' '보통출력' '고출력' '고출력' '고출력' '고출력' '고출력' '고출력'\n",
      " '보통출력' '보통출력' '고출력' '저출력' '저출력' '저출력' '저출력' '저출력' '저출력' '저출력' '저출력' '저출력'\n",
      " '보통출력' '저출력' '고출력' '고출력' '고출력' '고출력' '저출력' '저출력' '저출력' '저출력' '저출력' '저출력'\n",
      " '저출력' '저출력' '보통출력' '고출력' '보통출력' '보통출력' '고출력' '고출력' '고출력' '보통출력' '저출력'\n",
      " '저출력' '저출력' '저출력' '저출력' '저출력' '저출력' '저출력' '저출력' '저출력' '저출력' '저출력' '저출력'\n",
      " '저출력' '저출력' '저출력' '보통출력' '고출력' '보통출력' '보통출력' '보통출력' '고출력' '보통출력' '보통출력'\n",
      " '고출력' '저출력' '보통출력' '보통출력' '보통출력' '보통출력' '보통출력' '저출력' '저출력' '저출력' '저출력'\n",
      " '저출력' '저출력' '저출력' '저출력' '고출력' '보통출력' '보통출력' '보통출력' '보통출력' '고출력' '보통출력'\n",
      " '보통출력' '보통출력' '고출력' '고출력' '고출력' '저출력' '저출력' '저출력' '저출력' '저출력' '저출력'\n",
      " '보통출력' '보통출력' '고출력' '고출력' '저출력' '저출력' '저출력' '저출력' '저출력' '저출력' '저출력' '저출력'\n",
      " '보통출력' '고출력' '저출력' '저출력' '저출력' '보통출력' '보통출력' '보통출력' '보통출력' '고출력' '저출력'\n",
      " '저출력' '저출력' '저출력' '저출력' '저출력' '저출력' '저출력' '보통출력' '저출력' '보통출력' '보통출력'\n",
      " '보통출력' '보통출력' '보통출력' '저출력' '저출력' '저출력' '저출력' '저출력' '저출력' '저출력' '저출력'\n",
      " '저출력' '저출력' '저출력' '저출력' '저출력' '저출력' '저출력' '고출력' '보통출력' '보통출력' '보통출력'\n",
      " '보통출력' '저출력' '보통출력' '저출력' '보통출력' '보통출력' '보통출력' '저출력' '저출력' '저출력' '저출력'\n",
      " '저출력' '저출력' '저출력' '저출력' '저출력' '저출력' '저출력' '저출력' '저출력' '보통출력' '저출력' '저출력'\n",
      " '저출력' '저출력' '저출력' '저출력' '보통출력' '보통출력' '보통출력' '보통출력' '저출력' '저출력' '저출력'\n",
      " '저출력' '저출력' '저출력' '저출력' '저출력' '저출력' '저출력' '보통출력' '저출력' '저출력' '저출력' '저출력'\n",
      " '저출력' '저출력' '보통출력' '저출력' '보통출력' '보통출력' '고출력' '보통출력' '보통출력' '보통출력' '저출력'\n",
      " '저출력' '저출력' '저출력' '저출력' '보통출력' '보통출력' '보통출력' '보통출력' '보통출력' '저출력' '저출력'\n",
      " '저출력' '고출력' '고출력' '고출력' '보통출력' '저출력' '저출력' '저출력' '저출력' '저출력' '저출력' '저출력'\n",
      " '저출력' '저출력' '보통출력' '보통출력' '저출력' '저출력' '저출력' '저출력' '저출력' '보통출력' '보통출력'\n",
      " '보통출력' '저출력' '저출력' '저출력' '저출력' '저출력' '저출력' '저출력' '저출력' '보통출력' '보통출력'\n",
      " '보통출력' '보통출력' '보통출력' '보통출력' '저출력' '저출력' '저출력' '저출력' '저출력' '저출력' '저출력'\n",
      " '저출력' '저출력' '보통출력' '보통출력' '보통출력' '저출력' '저출력' '보통출력' '저출력' '저출력' '저출력'\n",
      " '보통출력' '보통출력' '보통출력' '보통출력' '보통출력' '보통출력' '보통출력' '보통출력' '보통출력' '저출력'\n",
      " '저출력' '저출력' '저출력' '저출력' '보통출력' '저출력' '저출력' '저출력' '저출력' '저출력' '저출력' '저출력'\n",
      " '보통출력' '보통출력' '저출력' '저출력' '저출력' '저출력' '저출력' '저출력' '저출력' '저출력' '저출력' '저출력'\n",
      " '저출력' '저출력' '저출력' '저출력' '저출력' '저출력' '저출력' '저출력' '저출력' '저출력' '저출력' '저출력'\n",
      " '저출력' '저출력' '보통출력' '저출력' '저출력' '저출력' '저출력' '저출력' '저출력' '보통출력' '저출력' '저출력'\n",
      " '저출력' '저출력' '저출력' '저출력' '저출력' '저출력' '저출력' '저출력' '저출력' '저출력' '저출력' '저출력'\n",
      " '저출력' '저출력' '저출력' '저출력' '보통출력' '보통출력' '보통출력' '저출력' '저출력' '저출력' '저출력'\n",
      " '저출력' '저출력' '저출력' '저출력' '저출력' '저출력' '저출력' '저출력' '저출력' '저출력' '저출력' '저출력'\n",
      " '저출력' '저출력' '저출력' '저출력' '저출력' '보통출력' '저출력' '저출력' '보통출력' '저출력' '저출력' '저출력'\n",
      " '저출력' '저출력' '저출력' '저출력' '저출력']\n"
     ]
    }
   ],
   "source": [
    "#클래스 이름 학인\n",
    "print(one_hot.classes_)\n",
    "print()\n",
    "#원래 데이터로 복원\n",
    "print(one_hot.inverse_transform(one_hot.fit_transform(df['hp_bin'])))"
   ]
  },
  {
   "cell_type": "markdown",
   "metadata": {},
   "source": []
  },
  {
   "cell_type": "code",
   "execution_count": 60,
   "metadata": {},
   "outputs": [
    {
     "name": "stdout",
     "output_type": "stream",
     "text": [
      "[[0 1 1 0 0 0]\n",
      " [0 1 0 0 1 0]\n",
      " [1 0 1 0 0 0]\n",
      " [0 0 1 1 0 0]\n",
      " [0 0 0 0 1 1]]\n",
      "['C#' 'C++' 'Java' 'JavaScript' 'Python' 'R']\n"
     ]
    }
   ],
   "source": [
    "from sklearn.preprocessing import MultiLabelBinarizer\n",
    "# 다중 클래스 특성을 생성\n",
    "multiclass_feature = [(\"Java\", \"C++\"),\n",
    "                      (\"C++\", \"Python\"),\n",
    "                      (\"C#\", \"Java\"),\n",
    "                      (\"JavaScript\", \"Java\"),\n",
    "                      (\"Python\", \"R\")]\n",
    "\n",
    "# 다중 클래스 원-핫 인코더 생성\n",
    "one_hot_multiclass = MultiLabelBinarizer()\n",
    "\n",
    "# 다중 클래스 특성을 원-핫 인코딩\n",
    "print(one_hot_multiclass.fit_transform(multiclass_feature))\n",
    "\n",
    "# 클래스를 확인합니다.\n",
    "print(one_hot_multiclass.classes_)"
   ]
  },
  {
   "cell_type": "markdown",
   "metadata": {},
   "source": []
  },
  {
   "cell_type": "code",
   "execution_count": 61,
   "metadata": {},
   "outputs": [
    {
     "name": "stdout",
     "output_type": "stream",
     "text": [
      "[1 1 1 1 1 0 0 0 0 0 0 1 1 0 2]\n"
     ]
    }
   ],
   "source": [
    "# sklearn 라이브러리 불러오기\n",
    "from sklearn import preprocessing    \n",
    "\n",
    "# label encoder 생성\n",
    "label_encoder = preprocessing.LabelEncoder()       \n",
    "\n",
    "# label encoder로 문자열 범주를 숫자형 범주로 변환\n",
    "onehot_labeled = label_encoder.fit_transform(df['hp_bin'].head(15))  \n",
    "print(onehot_labeled)"
   ]
  },
  {
   "cell_type": "code",
   "execution_count": null,
   "metadata": {},
   "outputs": [],
   "source": []
  },
  {
   "cell_type": "code",
   "execution_count": 62,
   "metadata": {},
   "outputs": [
    {
     "name": "stdout",
     "output_type": "stream",
     "text": [
      "  (0, 2)\t1.0\n",
      "  (0, 4)\t1.0\n",
      "  (1, 1)\t1.0\n",
      "  (1, 5)\t1.0\n",
      "  (2, 0)\t1.0\n",
      "  (2, 4)\t1.0\n",
      "  (3, 2)\t1.0\n",
      "  (3, 6)\t1.0\n",
      "  (4, 3)\t1.0\n",
      "  (4, 5)\t1.0\n"
     ]
    }
   ],
   "source": [
    "#one hot encoder 생성\n",
    "onehot_encoder = preprocessing.OneHotEncoder()   \n",
    "\n",
    "feature = [[\"Java\", 1],\n",
    "                      [\"C++\", 2],\n",
    "                      [\"C#\", 1],\n",
    "                      [\"Java\", 3],\n",
    "                      [\"Python\", 2]]\n",
    "\n",
    "# 희소행렬로 변환\n",
    "onehot_fitted = onehot_encoder.fit_transform(feature)\n",
    "print(onehot_fitted)"
   ]
  },
  {
   "cell_type": "code",
   "execution_count": 63,
   "metadata": {},
   "outputs": [
    {
     "name": "stdout",
     "output_type": "stream",
     "text": [
      "['__class__', '__delattr__', '__dict__', '__dir__', '__doc__', '__eq__', '__format__', '__ge__', '__getattribute__', '__getstate__', '__gt__', '__hash__', '__init__', '__init_subclass__', '__le__', '__lt__', '__module__', '__ne__', '__new__', '__reduce__', '__reduce_ex__', '__repr__', '__setattr__', '__setstate__', '__sizeof__', '__str__', '__subclasshook__', '__weakref__', '_check_X', '_check_feature_names', '_check_n_features', '_compute_drop_idx', '_fit', '_get_feature', '_get_param_names', '_get_tags', '_more_tags', '_repr_html_', '_repr_html_inner', '_repr_mimebundle_', '_transform', '_validate_data', '_validate_keywords', 'categories', 'drop', 'dtype', 'fit', 'fit_transform', 'get_feature_names', 'get_feature_names_out', 'get_params', 'handle_unknown', 'inverse_transform', 'set_params', 'sparse', 'transform']\n",
      "[[0. 0. 1. 0. 1. 0. 0.]\n",
      " [0. 1. 0. 0. 0. 1. 0.]\n",
      " [1. 0. 0. 0. 1. 0. 0.]\n",
      " [0. 0. 1. 0. 0. 0. 1.]\n",
      " [0. 0. 0. 1. 0. 1. 0.]]\n",
      "\n",
      "[array(['C#', 'C++', 'Java', 'Python'], dtype=object), array([1, 2, 3], dtype=object)]\n"
     ]
    }
   ],
   "source": [
    "onehot_encoder = preprocessing.OneHotEncoder(sparse=False)   \n",
    "print(dir(onehot_encoder))\n",
    "feature = [[\"Java\", 1],\n",
    "                      [\"C++\", 2],\n",
    "                      [\"C#\", 1],\n",
    "                      [\"Java\", 3],\n",
    "                      [\"Python\", 2]]\n",
    "\n",
    "# 2차원행렬로 변환\n",
    "onehot_fitted = onehot_encoder.fit_transform(feature)\n",
    "print(onehot_fitted)\n",
    "print()\n",
    "\n",
    "print(onehot_encoder.categories_)"
   ]
  },
  {
   "cell_type": "code",
   "execution_count": 64,
   "metadata": {},
   "outputs": [
    {
     "name": "stdout",
     "output_type": "stream",
     "text": [
      "[[0. 0. 0. 1. 1. 0. 0.]\n",
      " [0. 1. 0. 0. 0. 1. 0.]\n",
      " [1. 0. 0. 0. 1. 0. 0.]\n",
      " [0. 0. 1. 0. 0. 0. 1.]\n",
      " [0. 0. 0. 1. 0. 1. 0.]]\n",
      "\n",
      "['onehot__x0_C#', 'onehot__x0_C++', 'onehot__x0_Java', 'onehot__x0_Python', 'onehot__x1_1', 'onehot__x1_2', 'onehot__x1_3']\n"
     ]
    },
    {
     "name": "stderr",
     "output_type": "stream",
     "text": [
      "/Users/adam/opt/anaconda3/lib/python3.8/site-packages/sklearn/utils/deprecation.py:87: FutureWarning: Function get_feature_names is deprecated; get_feature_names is deprecated in 1.0 and will be removed in 1.2. Please use get_feature_names_out instead.\n",
      "  warnings.warn(msg, category=FutureWarning)\n"
     ]
    }
   ],
   "source": [
    "from sklearn.compose import ColumnTransformer \n",
    "\n",
    "feature = [[\"Python\", 1],\n",
    "                      [\"C++\", 2],\n",
    "                      [\"C#\", 1],\n",
    "                      [\"Java\", 3],\n",
    "                      [\"Python\", 2]]\n",
    "\n",
    "# (이름, 변환기, 열 리스트)로 구성된 튜플의 리스트를 ColumnTransformer에 전달합니다.\n",
    "onehot_encoder = preprocessing.OneHotEncoder(sparse=False)  \n",
    "ct = ColumnTransformer([(\"onehot\", onehot_encoder, [0, 1])])\n",
    "\n",
    "ct_fit = ct.fit_transform(feature)\n",
    "print(ct_fit)\n",
    "\n",
    "print()\n",
    "print(ct.get_feature_names())"
   ]
  },
  {
   "cell_type": "code",
   "execution_count": null,
   "metadata": {},
   "outputs": [],
   "source": []
  },
  {
   "cell_type": "markdown",
   "metadata": {},
   "source": [
    "### 순서가 있는 범주형 데이터 만들기 "
   ]
  },
  {
   "cell_type": "code",
   "execution_count": 65,
   "metadata": {},
   "outputs": [
    {
     "name": "stdout",
     "output_type": "stream",
     "text": [
      "  Score  encoder\n",
      "0    저조        1\n",
      "1    보통        2\n",
      "2    보통        2\n",
      "3    저조        1\n",
      "4    우수        3\n",
      "5  매우우수        4\n",
      "6    우수        3\n"
     ]
    }
   ],
   "source": [
    "# 라이브러리를 임포트합니다.\n",
    "import pandas as pd\n",
    "\n",
    "# 특성을 만듭니다.\n",
    "dataframe = pd.DataFrame({\"Score\": [\"저조\", \"보통\", \"보통\", \"저조\", \"우수\", \"매우우수\", \"우수\"]})\n",
    "\n",
    "scale_mapper = {\"저조\":1,\n",
    "                \"보통\":2,\n",
    "                \"우수\": 3,\n",
    "                \"매우우수\":4}\n",
    "\n",
    "dataframe[\"encoder\"] = dataframe[\"Score\"].replace(scale_mapper)\n",
    "print(dataframe)"
   ]
  },
  {
   "cell_type": "code",
   "execution_count": 66,
   "metadata": {},
   "outputs": [
    {
     "name": "stdout",
     "output_type": "stream",
     "text": [
      "[[1. 0.]\n",
      " [0. 2.]\n",
      " [2. 1.]]\n",
      "\n",
      "[array(['High', 'Low', 'Medium'], dtype='<U21'), array(['10', '3', '50'], dtype='<U21')]\n"
     ]
    }
   ],
   "source": [
    "from sklearn.preprocessing import OrdinalEncoder\n",
    "\n",
    "features = np.array([[\"Low\", 10],\n",
    "                     [\"High\", 50],\n",
    "                     [\"Medium\", 3]])\n",
    "\n",
    "#클래스 범주를 순서대로 변환\n",
    "ordinal_encoder = OrdinalEncoder()\n",
    "print(ordinal_encoder.fit_transform(features))\n",
    "print()\n",
    "\n",
    "print(ordinal_encoder.categories_)"
   ]
  },
  {
   "cell_type": "code",
   "execution_count": null,
   "metadata": {},
   "outputs": [],
   "source": []
  },
  {
   "cell_type": "markdown",
   "metadata": {},
   "source": [
    "### 디셔너리 인코딩 "
   ]
  },
  {
   "cell_type": "code",
   "execution_count": 67,
   "metadata": {},
   "outputs": [
    {
     "name": "stdout",
     "output_type": "stream",
     "text": [
      "[[4. 2. 0.]\n",
      " [3. 4. 0.]\n",
      " [0. 1. 2.]\n",
      " [0. 2. 2.]]\n",
      "\n",
      "['Blue', 'Red', 'Yellow']\n"
     ]
    },
    {
     "name": "stderr",
     "output_type": "stream",
     "text": [
      "/Users/adam/opt/anaconda3/lib/python3.8/site-packages/sklearn/utils/deprecation.py:87: FutureWarning: Function get_feature_names is deprecated; get_feature_names is deprecated in 1.0 and will be removed in 1.2. Please use get_feature_names_out instead.\n",
      "  warnings.warn(msg, category=FutureWarning)\n"
     ]
    }
   ],
   "source": [
    "# 라이브러리를 임포트합니다.\n",
    "from sklearn.feature_extraction import DictVectorizer\n",
    "\n",
    "# 딕셔너리를 만듭니다.\n",
    "data_dict = [{\"Red\": 2, \"Blue\": 4},\n",
    "             {\"Red\": 4, \"Blue\": 3},\n",
    "             {\"Red\": 1, \"Yellow\": 2},\n",
    "             {\"Red\": 2, \"Yellow\": 2}]\n",
    "\n",
    "# DictVectorizer 객체를 만듭니다.\n",
    "dictvectorizer = DictVectorizer(sparse=False)\n",
    "\n",
    "# 딕셔너리를 특성 행렬로 변환합니다.\n",
    "features = dictvectorizer.fit_transform(data_dict)\n",
    "\n",
    "# 특성 행렬을 확인합니다.\n",
    "print(features)\n",
    "print()\n",
    "\n",
    "# 특성 이름을 얻습니다.\n",
    "feature_names = dictvectorizer.get_feature_names()\n",
    "\n",
    "# 특성 이름을 확인합니다.\n",
    "print(feature_names)"
   ]
  },
  {
   "cell_type": "code",
   "execution_count": 68,
   "metadata": {},
   "outputs": [
    {
     "data": {
      "text/html": [
       "<div>\n",
       "<style scoped>\n",
       "    .dataframe tbody tr th:only-of-type {\n",
       "        vertical-align: middle;\n",
       "    }\n",
       "\n",
       "    .dataframe tbody tr th {\n",
       "        vertical-align: top;\n",
       "    }\n",
       "\n",
       "    .dataframe thead th {\n",
       "        text-align: right;\n",
       "    }\n",
       "</style>\n",
       "<table border=\"1\" class=\"dataframe\">\n",
       "  <thead>\n",
       "    <tr style=\"text-align: right;\">\n",
       "      <th></th>\n",
       "      <th>Blue</th>\n",
       "      <th>Red</th>\n",
       "      <th>Yellow</th>\n",
       "    </tr>\n",
       "  </thead>\n",
       "  <tbody>\n",
       "    <tr>\n",
       "      <th>0</th>\n",
       "      <td>4.0</td>\n",
       "      <td>2.0</td>\n",
       "      <td>0.0</td>\n",
       "    </tr>\n",
       "    <tr>\n",
       "      <th>1</th>\n",
       "      <td>3.0</td>\n",
       "      <td>4.0</td>\n",
       "      <td>0.0</td>\n",
       "    </tr>\n",
       "    <tr>\n",
       "      <th>2</th>\n",
       "      <td>0.0</td>\n",
       "      <td>1.0</td>\n",
       "      <td>2.0</td>\n",
       "    </tr>\n",
       "    <tr>\n",
       "      <th>3</th>\n",
       "      <td>0.0</td>\n",
       "      <td>2.0</td>\n",
       "      <td>2.0</td>\n",
       "    </tr>\n",
       "  </tbody>\n",
       "</table>\n",
       "</div>"
      ],
      "text/plain": [
       "   Blue  Red  Yellow\n",
       "0   4.0  2.0     0.0\n",
       "1   3.0  4.0     0.0\n",
       "2   0.0  1.0     2.0\n",
       "3   0.0  2.0     2.0"
      ]
     },
     "execution_count": 68,
     "metadata": {},
     "output_type": "execute_result"
    }
   ],
   "source": [
    "# 라이브러리를 임포트합니다.\n",
    "import pandas as pd\n",
    "\n",
    "# 특성으로 데이터프레임을 만듭니다.\n",
    "pd.DataFrame(features, columns=feature_names)"
   ]
  },
  {
   "cell_type": "code",
   "execution_count": null,
   "metadata": {},
   "outputs": [],
   "source": []
  },
  {
   "cell_type": "markdown",
   "metadata": {},
   "source": [
    "### 누락된 범주형 데이터 대체 "
   ]
  },
  {
   "cell_type": "code",
   "execution_count": 24,
   "metadata": {},
   "outputs": [
    {
     "name": "stdout",
     "output_type": "stream",
     "text": [
      "[0. 1.]\n",
      "\n"
     ]
    },
    {
     "data": {
      "text/plain": [
       "array([[ 0.  ,  0.87,  1.31],\n",
       "       [ 1.  , -0.67, -0.22],\n",
       "       [ 0.  ,  2.1 ,  1.45],\n",
       "       [ 1.  ,  1.18,  1.33],\n",
       "       [ 0.  ,  1.22,  1.27],\n",
       "       [ 1.  , -0.21, -1.19]])"
      ]
     },
     "execution_count": 24,
     "metadata": {},
     "output_type": "execute_result"
    }
   ],
   "source": [
    "import numpy as np\n",
    "from sklearn.neighbors import KNeighborsClassifier\n",
    "\n",
    "# 범주형 특성을 가진 특성 행렬 생성\n",
    "X = np.array([[0, 2.10, 1.45],\n",
    "              [1, 1.18, 1.33],\n",
    "              [0, 1.22, 1.27],\n",
    "              [1, -0.21, -1.19]])\n",
    "\n",
    "# 범주형 특성에 누락된 값이 있는 특성 행렬 생성\n",
    "X_with_nan = np.array([[np.nan, 0.87, 1.31],\n",
    "                       [np.nan, -0.67, -0.22]])\n",
    "\n",
    "# KNN 학습기를 훈련\n",
    "clf = KNeighborsClassifier(3, weights='distance')\n",
    "trained_model = clf.fit(X[:,1:], X[:,0])\n",
    "\n",
    "# 누락된 값의 클래스를 예측\n",
    "imputed_values = trained_model.predict(X_with_nan[:,1:])\n",
    "print(imputed_values)\n",
    "print()\n",
    "\n",
    "# 예측된 클래스와 원본 특성을 열로 합침\n",
    "X_with_imputed = np.hstack((imputed_values.reshape(-1,1), X_with_nan[:,1:]))\n",
    "\n",
    "# 두 특성 행렬을 연결\n",
    "np.vstack((X_with_imputed, X))"
   ]
  },
  {
   "cell_type": "code",
   "execution_count": 25,
   "metadata": {},
   "outputs": [
    {
     "data": {
      "text/plain": [
       "array([[ 0.  ,  0.87,  1.31],\n",
       "       [ 0.  , -0.67, -0.22],\n",
       "       [ 0.  ,  2.1 ,  1.45],\n",
       "       [ 1.  ,  1.18,  1.33],\n",
       "       [ 0.  ,  1.22,  1.27],\n",
       "       [ 1.  , -0.21, -1.19]])"
      ]
     },
     "execution_count": 25,
     "metadata": {},
     "output_type": "execute_result"
    }
   ],
   "source": [
    "from sklearn.impute import SimpleImputer\n",
    "\n",
    "# 두 개의 특성 행렬을 합침\n",
    "X_complete = np.vstack((X_with_nan, X))\n",
    "\n",
    "#가장 자주 등장하는 데이터로 누락된 클래스 대체\n",
    "imputer = SimpleImputer(strategy='most_frequent')\n",
    "imputer.fit_transform(X_complete)"
   ]
  },
  {
   "cell_type": "code",
   "execution_count": null,
   "metadata": {},
   "outputs": [],
   "source": []
  },
  {
   "cell_type": "markdown",
   "metadata": {},
   "source": [
    "### 불균형한 데이터 다루기 "
   ]
  },
  {
   "cell_type": "code",
   "execution_count": 71,
   "metadata": {},
   "outputs": [
    {
     "name": "stdout",
     "output_type": "stream",
     "text": [
      "RandomForestClassifier(class_weight={0: 0.9, 1: 0.1})\n",
      "\n",
      "RandomForestClassifier(class_weight='balanced')\n"
     ]
    }
   ],
   "source": [
    "from sklearn.ensemble import RandomForestClassifier\n",
    "#분류기를 만들 때 가중치를 적용\n",
    "weights = {0:.9, 1:.1}\n",
    "\n",
    "rfc = RandomForestClassifier(class_weight=weights)\n",
    "print(rfc)\n",
    "print()\n",
    "\n",
    "# 균형잡힌 클래스 가중치 적용 - 클래스 빈도에 반비례하게 자동으로 가중치를 생성\n",
    "rfc = RandomForestClassifier(class_weight=\"balanced\")\n",
    "print(rfc)"
   ]
  },
  {
   "cell_type": "code",
   "execution_count": 72,
   "metadata": {},
   "outputs": [
    {
     "name": "stdout",
     "output_type": "stream",
     "text": [
      "[0 0 0 0 0 0 0 0 0 0 1 1 1 1 1 1 1 1 1 1 1 1 1 1 1 1 1 1 1 1 1 1 1 1 1 1 1\n",
      " 1 1 1 1 1 1 1 1 1 1 1 1 1 1 1 1 1 1 1 1 1 1 1 1 1 1 1 1 1 1 1 1 1 1 1 1 1\n",
      " 1 1 1 1 1 1 1 1 1 1 1 1 1 1 1 1 1 1 1 1 1 1 1 1 1 1 1 1 1 1 1 1 1 1 1 1]\n"
     ]
    }
   ],
   "source": [
    "# 라이브러리를 임포트합니다.\n",
    "import numpy as np\n",
    "\n",
    "#0이 10개이고 1이 100개인 불균형한 데이터 만들기\n",
    "list1 = []\n",
    "list2 = []\n",
    "for i in range(0,10,1):\n",
    "    list1.append(0)\n",
    "    \n",
    "for i in range(0,100,1):\n",
    "    list2.append(1)\n",
    "    \n",
    "target = np.array(list1+list2)\n",
    "\n",
    "print(target)"
   ]
  },
  {
   "cell_type": "code",
   "execution_count": null,
   "metadata": {},
   "outputs": [],
   "source": []
  },
  {
   "cell_type": "code",
   "execution_count": 73,
   "metadata": {},
   "outputs": [
    {
     "data": {
      "text/plain": [
       "array([0, 0, 0, 0, 0, 0, 0, 0, 0, 0, 1, 1, 1, 1, 1, 1, 1, 1, 1, 1])"
      ]
     },
     "execution_count": 73,
     "metadata": {},
     "output_type": "execute_result"
    }
   ],
   "source": [
    "# 각 클래스의 샘플 인덱스를 추출\n",
    "i_class0 = np.where(target == 0)[0]\n",
    "i_class1 = np.where(target == 1)[0]\n",
    "\n",
    "# 각 클래스의 샘플 개수\n",
    "n_class0 = len(i_class0)\n",
    "n_class1 = len(i_class1)\n",
    "\n",
    "# 클래스 0의 샘플만큼 클래스 1에서 중복을 허용하지 않고 랜덤하게 샘플을 추출\n",
    "# from class 1 without replacement\n",
    "i_class1_downsampled = np.random.choice(i_class1, size=n_class0, replace=False)\n",
    "\n",
    "# 클래스 0의 타깃 벡터와 다운샘플링된 클래스 1의 타깃 벡터를 합침\n",
    "np.hstack((target[i_class0], target[i_class1_downsampled]))"
   ]
  },
  {
   "cell_type": "code",
   "execution_count": null,
   "metadata": {},
   "outputs": [],
   "source": []
  },
  {
   "cell_type": "code",
   "execution_count": 74,
   "metadata": {},
   "outputs": [
    {
     "data": {
      "text/plain": [
       "array([0, 0, 0, 0, 0, 0, 0, 0, 0, 0, 0, 0, 0, 0, 0, 0, 0, 0, 0, 0, 0, 0,\n",
       "       0, 0, 0, 0, 0, 0, 0, 0, 0, 0, 0, 0, 0, 0, 0, 0, 0, 0, 0, 0, 0, 0,\n",
       "       0, 0, 0, 0, 0, 0, 0, 0, 0, 0, 0, 0, 0, 0, 0, 0, 0, 0, 0, 0, 0, 0,\n",
       "       0, 0, 0, 0, 0, 0, 0, 0, 0, 0, 0, 0, 0, 0, 0, 0, 0, 0, 0, 0, 0, 0,\n",
       "       0, 0, 0, 0, 0, 0, 0, 0, 0, 0, 0, 0, 1, 1, 1, 1, 1, 1, 1, 1, 1, 1,\n",
       "       1, 1, 1, 1, 1, 1, 1, 1, 1, 1, 1, 1, 1, 1, 1, 1, 1, 1, 1, 1, 1, 1,\n",
       "       1, 1, 1, 1, 1, 1, 1, 1, 1, 1, 1, 1, 1, 1, 1, 1, 1, 1, 1, 1, 1, 1,\n",
       "       1, 1, 1, 1, 1, 1, 1, 1, 1, 1, 1, 1, 1, 1, 1, 1, 1, 1, 1, 1, 1, 1,\n",
       "       1, 1, 1, 1, 1, 1, 1, 1, 1, 1, 1, 1, 1, 1, 1, 1, 1, 1, 1, 1, 1, 1,\n",
       "       1, 1])"
      ]
     },
     "execution_count": 74,
     "metadata": {},
     "output_type": "execute_result"
    }
   ],
   "source": [
    "# 클래스 1의 샘플 개수만큼 클래스 0에서 중복을 허용하여 랜덤하게 샘플을 선택합니다.\n",
    "i_class0_upsampled = np.random.choice(i_class0, size=n_class1, replace=True)\n",
    "\n",
    "# 클래스 0의 업샘플링된 타깃 벡터와 클래스 1의 타깃 벡터를 합칩니다.\n",
    "np.concatenate((target[i_class0_upsampled], target[i_class1]))"
   ]
  },
  {
   "cell_type": "code",
   "execution_count": null,
   "metadata": {},
   "outputs": [],
   "source": []
  },
  {
   "cell_type": "markdown",
   "metadata": {},
   "source": [
    "## 텍스트 데이터"
   ]
  },
  {
   "cell_type": "markdown",
   "metadata": {},
   "source": [
    "### 텍스트 정제"
   ]
  },
  {
   "cell_type": "code",
   "execution_count": 75,
   "metadata": {},
   "outputs": [
    {
     "name": "stdout",
     "output_type": "stream",
     "text": [
      "['Two roads diverged in a yellow wood', 'And sorry I could not travel both', 'And be one traveller, long I stood', 'And looked down one as far as I could to Where it bent in the undergrouth']\n"
     ]
    }
   ],
   "source": [
    "# 텍스트를 생성\n",
    "text_data = ['   Two roads diverged in a yellow wood',\n",
    "'And sorry I could not travel both   ',\n",
    "'And be one traveller, long I stood   ',\n",
    "' And looked down one as far as I could to Where it bent in the undergrouth']\n",
    "\n",
    "# 공백 문자를 제거\n",
    "strip_whitespace = [string.strip() for string in text_data]\n",
    "# 텍스트를 확인합니다.\n",
    "print(strip_whitespace)"
   ]
  },
  {
   "cell_type": "code",
   "execution_count": 76,
   "metadata": {},
   "outputs": [
    {
     "name": "stdout",
     "output_type": "stream",
     "text": [
      "['Two roads diverged in a yellow wood', 'And sorry I could not travel both', 'And be one traveller, long I stood', 'And looked down one as far as I could to Where it bent in the undergrouth']\n",
      "\n",
      "['TWO ROADS DIVERGED IN A YELLOW WOOD', 'AND SORRY I COULD NOT TRAVEL BOTH', 'AND BE ONE TRAVELLER, LONG I STOOD', 'AND LOOKED DOWN ONE AS FAR AS I COULD TO WHERE IT BENT IN THE UNDERGROUTH']\n"
     ]
    }
   ],
   "source": [
    "# 마침표를 제거\n",
    "remove_periods = [string.replace(\".\", \"\") for string in strip_whitespace]\n",
    "\n",
    "# 텍스트를 확인\n",
    "print(remove_periods)\n",
    "print()\n",
    "\n",
    "# 함수를 생성 - 대문자로 변경해서 리턴하는 함수\n",
    "def capitalizer(string: str) -> str:\n",
    "    return string.upper()\n",
    "\n",
    "# 함수를 적용\n",
    "print([capitalizer(string) for string in remove_periods])"
   ]
  },
  {
   "cell_type": "markdown",
   "metadata": {},
   "source": [
    "### 정규 표현식"
   ]
  },
  {
   "cell_type": "code",
   "execution_count": 77,
   "metadata": {},
   "outputs": [
    {
     "name": "stdout",
     "output_type": "stream",
     "text": [
      "1\n",
      "None\n",
      "1234\n"
     ]
    }
   ],
   "source": [
    "import re\n",
    "match = re.match('[0-9]', '1234')\n",
    "print(match.group())\n",
    "match = re.match('[0-9]', 'abc')\n",
    "print(match)\n",
    "match = re.match('[0-9]+', '1234')\n",
    "print(match.group()) "
   ]
  },
  {
   "cell_type": "code",
   "execution_count": 78,
   "metadata": {},
   "outputs": [
    {
     "name": "stdout",
     "output_type": "stream",
     "text": [
      "None\n",
      "<re.Match object; span=(0, 5), match=' 1234'>\n",
      "<re.Match object; span=(1, 5), match='1234'>\n"
     ]
    }
   ],
   "source": [
    "import re\n",
    "match = re.match('[0-9]+', ' 1234')\n",
    "print(match)\n",
    "match = re.match('\\s[0-9]+', ' 1234')\n",
    "print(match)\n",
    "match = re.search('[0-9]+', ' 1234')\n",
    "print(match)"
   ]
  },
  {
   "cell_type": "code",
   "execution_count": 79,
   "metadata": {},
   "outputs": [
    {
     "name": "stdout",
     "output_type": "stream",
     "text": [
      "기상청은 슈퍼컴퓨터도 서울지역의 집중호우를 제대로 예측하지 못했다고 설명했습니다.왜 오류가 발생했는지 자세히 분석해 예측 프로그램을 보완해야 할 대목입니다.머신러닝 알고리즘을 이용하면 조금 더 정확한 예측을 할 수 있지 않을까 기대합니다.박문석 기자\n"
     ]
    }
   ],
   "source": [
    "string = '''\n",
    "기상청은 슈퍼컴퓨터도 서울지역의 집중호우를 제대로 예측하지 못했다고 설명했습니다.\n",
    "왜 오류가 발생했는지 자세히 분석해 예측 프로그램을 보완해야 할 대목입니다.\n",
    "머신러닝 알고리즘을 이용하면 조금 더 정확한 예측을 할 수 있지 않을까 기대합니다.\n",
    "박문석 기자(ggangpae1@gmail.com)\n",
    "'''\n",
    "\n",
    "import re\n",
    "result = re.sub('\\([a-zA-Z0-9\\._+]+@[a-zA-Z]+\\.(com|org|edu|net|co,kr)\\)', '', string) #이메일 패턴을 찾아서 '' 으로 치환\n",
    "result = re.sub('\\n', '', result) #\\n을 찾아서 ''으로 치환\n",
    "print(result)"
   ]
  },
  {
   "cell_type": "code",
   "execution_count": null,
   "metadata": {},
   "outputs": [],
   "source": []
  },
  {
   "cell_type": "markdown",
   "metadata": {},
   "source": [
    "### 대소문자 변환"
   ]
  },
  {
   "cell_type": "code",
   "execution_count": 80,
   "metadata": {},
   "outputs": [
    {
     "name": "stdout",
     "output_type": "stream",
     "text": [
      "hello python\n",
      "HELLO PYTHON\n"
     ]
    }
   ],
   "source": [
    "string = \"Hello Python\"\n",
    "print(string.lower())\n",
    "print(string.upper())"
   ]
  },
  {
   "cell_type": "code",
   "execution_count": null,
   "metadata": {},
   "outputs": [],
   "source": []
  },
  {
   "cell_type": "markdown",
   "metadata": {},
   "source": [
    "### 구두점 삭제"
   ]
  },
  {
   "cell_type": "code",
   "execution_count": 81,
   "metadata": {},
   "outputs": [
    {
     "name": "stdout",
     "output_type": "stream",
     "text": [
      "★서울의 부동산 가격이 올해들어 % 상승했습니다.!\n",
      " 서울의 부동산 가격이 올해들어 상승했습니다 \n"
     ]
    }
   ],
   "source": [
    "#숫자에 해당하는 정규식 생성\n",
    "p = re.compile('[0-9+]')\n",
    "string = '★서울의 부동산 가격이 올해들어 10% 상승했습니다.!'\n",
    "#숫자 제거\n",
    "result = p.sub(\"\", string)\n",
    "print(result)\n",
    "#특수문자를 제거하기 위해서 특수문자를 정규식으로 생성\n",
    "p = re.compile(\"\\W+\")\n",
    "result = p.sub(\" \", result)\n",
    "print(result)"
   ]
  },
  {
   "cell_type": "code",
   "execution_count": 82,
   "metadata": {},
   "outputs": [
    {
     "data": {
      "text/plain": [
       "['안녕하세요 반갑습니다',\n",
       " 'I Love Programming',\n",
       " 'CC++ Java Python C JavaScript Swift Kotlin R Visual Basic']"
      ]
     },
     "execution_count": 82,
     "metadata": {},
     "output_type": "execute_result"
    }
   ],
   "source": [
    "# 라이브러리를 임포트합니다.\n",
    "import unicodedata\n",
    "import sys\n",
    "\n",
    "# 텍스트를 만듭니다.\n",
    "text_data = ['안녕하세요!! 반갑습니다.....',\n",
    "             'I Love Programming',\n",
    "             'C&C++, Java, Python, C#, JavaScript, Swift, Kotlin, R, Visual Basic']\n",
    "\n",
    "# 구두점 문자로 이루어진 딕셔너리를 만듭니다.\n",
    "punctuation = dict.fromkeys(i for i in range(sys.maxunicode)\n",
    "                            if unicodedata.category(chr(i)).startswith('P'))\n",
    "\n",
    "# 문자열의 구두점을 삭제합니다.\n",
    "[string.translate(punctuation) for string in text_data]"
   ]
  },
  {
   "cell_type": "code",
   "execution_count": null,
   "metadata": {},
   "outputs": [],
   "source": []
  },
  {
   "cell_type": "markdown",
   "metadata": {},
   "source": [
    "### 텍스트 토큰화"
   ]
  },
  {
   "cell_type": "code",
   "execution_count": 83,
   "metadata": {},
   "outputs": [
    {
     "name": "stdout",
     "output_type": "stream",
     "text": [
      "['The', 'science', 'of', 'today', 'is', 'the', 'technology', 'of', 'tomorrow']\n",
      "['The science of today is the technology of tomorrow.', 'Tomorrow is today.']\n"
     ]
    }
   ],
   "source": [
    "# 라이브러리를 임포트\n",
    "from nltk.tokenize import word_tokenize\n",
    "from nltk.tokenize import sent_tokenize\n",
    "\n",
    "# 텍스트를 만듭니다.\n",
    "string = \"The science of today is the technology of tomorrow\"\n",
    "\n",
    "# 단어를 토큰으로 나눕니다.\n",
    "print(word_tokenize(string))\n",
    "\n",
    "# 텍스트를 만듭니다.\n",
    "string = \"The science of today is the technology of tomorrow. Tomorrow is today.\"\n",
    "\n",
    "# 문장으로 나눕니다.\n",
    "print(sent_tokenize(string))"
   ]
  },
  {
   "cell_type": "code",
   "execution_count": null,
   "metadata": {},
   "outputs": [],
   "source": []
  },
  {
   "cell_type": "markdown",
   "metadata": {},
   "source": [
    "### 불용어 제거"
   ]
  },
  {
   "cell_type": "code",
   "execution_count": 84,
   "metadata": {},
   "outputs": [
    {
     "name": "stdout",
     "output_type": "stream",
     "text": [
      "['연휴', '대이동']\n",
      "['chief', 'justice', 'roberts', 'presedent', 'move']\n",
      "['chief', 'justice', 'roberts', 'presedent']\n"
     ]
    }
   ],
   "source": [
    "#한글 불용어 제거\n",
    "words_korean=['추석', '연휴', '민족', '대이동']\n",
    "stopwords=['추석', '민족']\n",
    "r = [i for i in words_korean if i not in stopwords]\n",
    "print(r)\n",
    "\n",
    "#영문 불용어제거 - NLTK 이용\n",
    "from nltk.corpus import stopwords\n",
    "words_english =['chief', 'justice', 'roberts', 'the', 'presedent', 'and', 'move']\n",
    "r = [w for w in words_english if  not w in stopwords.words('english')]\n",
    "print(r)\n",
    "\n",
    "#영문 불용어제거 - sklearn 이용\n",
    "from sklearn.feature_extraction.text import ENGLISH_STOP_WORDS\n",
    "r = [w for w in words_english if  not w in ENGLISH_STOP_WORDS]\n",
    "print(r)"
   ]
  },
  {
   "cell_type": "code",
   "execution_count": 85,
   "metadata": {},
   "outputs": [
    {
     "name": "stdout",
     "output_type": "stream",
     "text": [
      "NLTK: 179\n",
      "['i', 'me', 'my', 'myself', 'we', 'our', 'ours', 'ourselves', 'you', \"you're\", \"you've\", \"you'll\", \"you'd\", 'your', 'yours', 'yourself', 'yourselves', 'he', 'him', 'his', 'himself', 'she', \"she's\", 'her', 'hers', 'herself', 'it', \"it's\", 'its', 'itself', 'they', 'them', 'their', 'theirs', 'themselves', 'what', 'which', 'who', 'whom', 'this', 'that', \"that'll\", 'these', 'those', 'am', 'is', 'are', 'was', 'were', 'be', 'been', 'being', 'have', 'has', 'had', 'having', 'do', 'does', 'did', 'doing', 'a', 'an', 'the', 'and', 'but', 'if', 'or', 'because', 'as', 'until', 'while', 'of', 'at', 'by', 'for', 'with', 'about', 'against', 'between', 'into', 'through', 'during', 'before', 'after', 'above', 'below', 'to', 'from', 'up', 'down', 'in', 'out', 'on', 'off', 'over', 'under', 'again', 'further', 'then', 'once', 'here', 'there', 'when', 'where', 'why', 'how', 'all', 'any', 'both', 'each', 'few', 'more', 'most', 'other', 'some', 'such', 'no', 'nor', 'not', 'only', 'own', 'same', 'so', 'than', 'too', 'very', 's', 't', 'can', 'will', 'just', 'don', \"don't\", 'should', \"should've\", 'now', 'd', 'll', 'm', 'o', 're', 've', 'y', 'ain', 'aren', \"aren't\", 'couldn', \"couldn't\", 'didn', \"didn't\", 'doesn', \"doesn't\", 'hadn', \"hadn't\", 'hasn', \"hasn't\", 'haven', \"haven't\", 'isn', \"isn't\", 'ma', 'mightn', \"mightn't\", 'mustn', \"mustn't\", 'needn', \"needn't\", 'shan', \"shan't\", 'shouldn', \"shouldn't\", 'wasn', \"wasn't\", 'weren', \"weren't\", 'won', \"won't\", 'wouldn', \"wouldn't\"]\n",
      "\n",
      "사이킷런: 318\n",
      "['almost', 'may', 'herein', 'along', 'beside', 'my', 'among', 'another', 'due', 'ie', 'hereupon', 'over', 'from', 'inc', 'hereafter', 'wherever', 'sincere', 'seeming', 'through', 'into', 'still', 'fill', 'which', 'it', 'eight', 'two', 'being', 'forty', 'onto', 'else', 'four', 'thus', 'cannot', 'your', 'that', 'we', 'they', 'what', 'etc', 'throughout', 'find', 'thru', 'get', 'her', 'rather', 'many', 'a', 'seemed', 'whenever', 'to', 'always', 'myself', 'co', 'please', 'whom', 'ten', 'with', 'nobody', 'elsewhere', 'each', 'per', 'might', 'our', 'formerly', 'when', 'except', 'system', 'anyhow', 'the', 'become', 'eg', 'those', 'nevertheless', 'bottom', 'though', 'made', 'them', 'whence', 'call', 'whoever', 'back', 'ltd', 'upon', 'yourselves', 'alone', 'latterly', 'or', 'but', 'fifteen', 'both', 'found', 'had', 'be', 'part', 'hereby', 'me', 'most', 'full', 'keep', 'during', 'put', 'behind', 'therefore', 'himself', 'him', 'of', 'front', 'around', 'de', 'thereupon', 'between', 'fire', 'thence', 'give', 'everyone', 'five', 'somewhere', 'three', 'several', 'interest', 'none', 'thin', 'its', 'an', 'at', 'some', 'however', 'became', 'noone', 'across', 'all', 'are', 'whose', 'few', 'third', 'done', 'about', 'mill', 'such', 'any', 'nothing', 'could', 'others', 'eleven', 'own', 'anywhere', 'one', 'last', 'above', 'never', 'cant', 'whatever', 'much', 'further', 'although', 'can', 'namely', 'than', 'well', 'itself', 'moreover', 'describe', 'nine', 'move', 'former', 'here', 'who', 'top', 'off', 'everywhere', 'very', 'yours', 'would', 'anyway', 'already', 'meanwhile', 'seems', 'again', 'she', 'whereby', 'i', 'sometimes', 'is', 'because', 'detail', 'under', 'do', 'until', 'becomes', 'without', 'have', 'ever', 'enough', 'whole', 'nor', 'other', 'bill', 'go', 'am', 'neither', 'afterwards', 'twenty', 'down', 'serious', 'becoming', 'someone', 'out', 'seem', 'been', 'often', 'therein', 'twelve', 'by', 'toward', 'mine', 'hasnt', 'first', 'something', 'not', 'hers', 'everything', 'beyond', 'least', 'sixty', 'besides', 'con', 'anyone', 'within', 'has', 'indeed', 'thick', 'there', 'amongst', 'side', 'empty', 'against', 'next', 'whether', 'herself', 'couldnt', 'their', 'either', 'up', 'yourself', 'whither', 'otherwise', 'before', 'together', 'once', 'then', 'hundred', 'us', 'sometime', 'and', 'towards', 'cry', 'perhaps', 'thereby', 'more', 'ourselves', 'his', 'if', 'mostly', 'should', 'whereafter', 'only', 'will', 'where', 'same', 'every', 'show', 'as', 'anything', 'beforehand', 'since', 'name', 'un', 'while', 'after', 'also', 'thereafter', 'wherein', 'less', 'whereupon', 'six', 'how', 'on', 'so', 'yet', 'fifty', 'themselves', 'whereas', 'see', 'even', 'too', 'take', 'were', 'you', 'amoungst', 'why', 'in', 'was', 'these', 'this', 'must', 'he', 'nowhere', 'amount', 'for', 'via', 'hence', 'now', 'somehow', 'ours', 'below', 'latter', 're', 'no']\n"
     ]
    }
   ],
   "source": [
    "print('NLTK:', len(stopwords.words('english')))\n",
    "print(stopwords.words('english'))\n",
    "print()\n",
    "\n",
    "print('사이킷런:', len(ENGLISH_STOP_WORDS))\n",
    "print(list(ENGLISH_STOP_WORDS))"
   ]
  },
  {
   "cell_type": "code",
   "execution_count": null,
   "metadata": {},
   "outputs": [],
   "source": []
  },
  {
   "cell_type": "markdown",
   "metadata": {},
   "source": [
    "### 어간 추출"
   ]
  },
  {
   "cell_type": "code",
   "execution_count": 86,
   "metadata": {},
   "outputs": [
    {
     "name": "stdout",
     "output_type": "stream",
     "text": [
      "['All', 'pythoners', 'have', 'pythoned', 'poorly', 'at', 'least', 'once']\n",
      "all python have python poorli at least onc \n",
      "al python hav python poor at least ont "
     ]
    }
   ],
   "source": [
    "from nltk.stem import PorterStemmer\n",
    "from nltk.tokenize import word_tokenize\n",
    "string = 'All pythoners have pythoned poorly at least once'\n",
    "\n",
    "#어간 추출기 생성\n",
    "ps_stemmer =PorterStemmer()\n",
    "\n",
    "#단어 단위로 토큰화\n",
    "words=word_tokenize(string)\n",
    "print(words)\n",
    "\n",
    "#어간 추출\n",
    "for w in words:\n",
    "    print(ps_stemmer.stem(w), end=' ')\n",
    "print()\n",
    "\n",
    "from nltk.stem.lancaster import LancasterStemmer  \n",
    "#어간 추출기 생성\n",
    "ls_stemmer=LancasterStemmer()\n",
    "\n",
    "#어간 추출\n",
    "for w in words:\n",
    "    print(ls_stemmer.stem(w), end=' ')"
   ]
  },
  {
   "cell_type": "code",
   "execution_count": null,
   "metadata": {},
   "outputs": [],
   "source": []
  },
  {
   "cell_type": "markdown",
   "metadata": {},
   "source": [
    "### n-gram"
   ]
  },
  {
   "cell_type": "code",
   "execution_count": 87,
   "metadata": {},
   "outputs": [
    {
     "name": "stdout",
     "output_type": "stream",
     "text": [
      "('Chief', 'Justice,')\n",
      "('Justice,', 'President')\n",
      "('President', 'Obama,')\n",
      "('Obama,', 'Presedent')\n",
      "('Presedent', 'Obama')\n",
      "('Obama', 'President')\n",
      "('President', 'Carter')\n",
      "('Chief', 'Justice,', 'President')\n",
      "('Justice,', 'President', 'Obama,')\n",
      "('President', 'Obama,', 'Presedent')\n",
      "('Obama,', 'Presedent', 'Obama')\n",
      "('Presedent', 'Obama', 'President')\n",
      "('Obama', 'President', 'Carter')\n"
     ]
    }
   ],
   "source": [
    "from nltk import ngrams\n",
    "sentence = \"Chief Justice, President Obama, Presedent Obama President Carter\"\n",
    "#연속해서 2번 나온 단어들의 뭉치 만들기\n",
    "grams = ngrams(sentence.split(),2)\n",
    "for gram in grams:\n",
    "    print(gram)\n",
    "#연속해서 3번 나온 단어들의 뭉치 만들기    \n",
    "grams = ngrams(sentence.split(),3)\n",
    "for gram in grams:\n",
    "    print(gram)"
   ]
  },
  {
   "cell_type": "code",
   "execution_count": null,
   "metadata": {},
   "outputs": [],
   "source": []
  },
  {
   "cell_type": "markdown",
   "metadata": {},
   "source": [
    "### 형태소 분석"
   ]
  },
  {
   "cell_type": "code",
   "execution_count": 88,
   "metadata": {},
   "outputs": [
    {
     "name": "stdout",
     "output_type": "stream",
     "text": [
      "['The', 'little', 'yellow', 'dog', 'barked', 'at', 'the', 'Persian', 'cat']\n",
      "\n",
      "[('The', 'DT'), ('little', 'JJ'), ('yellow', 'JJ'), ('dog', 'NN'), ('barked', 'VBD'), ('at', 'IN'), ('the', 'DT'), ('Persian', 'JJ'), ('cat', 'NN')]\n"
     ]
    },
    {
     "name": "stderr",
     "output_type": "stream",
     "text": [
      "[nltk_data] Downloading package averaged_perceptron_tagger to\n",
      "[nltk_data]     /Users/adam/nltk_data...\n",
      "[nltk_data]   Package averaged_perceptron_tagger is already up-to-\n",
      "[nltk_data]       date!\n"
     ]
    }
   ],
   "source": [
    "import nltk\n",
    "nltk.download('averaged_perceptron_tagger')\n",
    "\n",
    "#영문 품사 분석\n",
    "from nltk import pos_tag\n",
    "from nltk import word_tokenize\n",
    "\n",
    "tokens=word_tokenize('The little yellow dog barked at the Persian cat')\n",
    "print(tokens)\n",
    "print()\n",
    "\n",
    "tags_en=pos_tag(tokens)\n",
    "print(tags_en)"
   ]
  },
  {
   "cell_type": "code",
   "execution_count": 89,
   "metadata": {},
   "outputs": [
    {
     "data": {
      "text/plain": [
       "['dog', 'cat']"
      ]
     },
     "execution_count": 89,
     "metadata": {},
     "output_type": "execute_result"
    }
   ],
   "source": [
    "#특정 품사만 필터링\n",
    "#단어를 필터링합니다.\n",
    "[word for word, tag in tags_en if tag in ['NN','NNS','NNP','NNPS']]"
   ]
  },
  {
   "cell_type": "markdown",
   "metadata": {},
   "source": [
    "### 영문 형태소 분석 – 원 핫 인코딩 이용"
   ]
  },
  {
   "cell_type": "code",
   "execution_count": 90,
   "metadata": {},
   "outputs": [
    {
     "name": "stdout",
     "output_type": "stream",
     "text": [
      "['PRP', 'VBP', 'VBG', 'DT', 'NN', 'IN', 'NN']\n",
      "['JJ', 'NN', 'VBZ', 'DT', 'JJ', 'NN']\n",
      "['NNP', 'NNP', 'VBZ', 'DT', 'JJ', 'NN']\n",
      "[[1 1 0 1 0 1 1 1 0]\n",
      " [1 0 1 1 0 0 0 0 1]\n",
      " [1 0 1 1 1 0 0 0 1]]\n",
      "['DT' 'IN' 'JJ' 'NN' 'NNP' 'PRP' 'VBG' 'VBP' 'VBZ']\n"
     ]
    }
   ],
   "source": [
    "from sklearn.preprocessing import MultiLabelBinarizer\n",
    "\n",
    "# 텍스트를 생성\n",
    "tweets = [\"I am eating a burrito for breakfast\",\n",
    "          \"Political science is an amazing field\",\n",
    "          \"San Francisco is an awesome city\"]\n",
    "\n",
    "# 문장에 존재하는 품사를 저장할 빈 리스트를 생성\n",
    "tagged_tweets = []\n",
    "\n",
    "#list에 각 문장에 존재하는 품사를 저장\n",
    "for tweet in tweets:\n",
    "    tweet_tag = nltk.pos_tag(word_tokenize(tweet))\n",
    "    tagged_tweets.append([tag for word, tag in tweet_tag])\n",
    "    \n",
    "for temp in tagged_tweets:\n",
    "    print(temp)\n",
    "    \n",
    "# 원-핫 인코딩을 사용하여 태그를 특성으로 변환\n",
    "one_hot_multi = MultiLabelBinarizer()\n",
    "print(one_hot_multi.fit_transform(tagged_tweets))\n",
    "print(one_hot_multi.classes_)"
   ]
  },
  {
   "cell_type": "code",
   "execution_count": null,
   "metadata": {},
   "outputs": [],
   "source": []
  },
  {
   "cell_type": "markdown",
   "metadata": {},
   "source": [
    "### 영문 형태소 분석 - 품사 태깅"
   ]
  },
  {
   "cell_type": "code",
   "execution_count": 91,
   "metadata": {},
   "outputs": [
    {
     "data": {
      "text/plain": [
       "0.8174734002697437"
      ]
     },
     "execution_count": 91,
     "metadata": {},
     "output_type": "execute_result"
    }
   ],
   "source": [
    "# 라이브러리를 임포트합니다.\n",
    "from nltk.corpus import brown\n",
    "from nltk.tag import UnigramTagger\n",
    "from nltk.tag import BigramTagger\n",
    "from nltk.tag import TrigramTagger\n",
    "\n",
    "# 브라운 코퍼스에서 텍스트를 추출한 다음 문장으로 나눕니다.\n",
    "sentences = brown.tagged_sents(categories='news')\n",
    "\n",
    "# 4,000개의 문장은 훈련용으로 623개는 테스트용으로 나눕니다.\n",
    "train = sentences[:4000]\n",
    "test = sentences[4000:]\n",
    "\n",
    "# 백오프 태그 객체를 만듭니다.\n",
    "unigram = UnigramTagger(train)\n",
    "bigram = BigramTagger(train, backoff=unigram)\n",
    "trigram = TrigramTagger(train, backoff=bigram)\n",
    "\n",
    "# 정확도를 확인합니다.\n",
    "trigram.evaluate(test)"
   ]
  },
  {
   "cell_type": "code",
   "execution_count": null,
   "metadata": {},
   "outputs": [],
   "source": []
  },
  {
   "cell_type": "markdown",
   "metadata": {},
   "source": [
    "### 한글 형태소 분석"
   ]
  },
  {
   "cell_type": "code",
   "execution_count": 1,
   "metadata": {},
   "outputs": [
    {
     "name": "stdout",
     "output_type": "stream",
     "text": [
      "['태양계는 지금으로부터 약 46억 년 전, 거대한 분자 구름의 일부분이 중력 붕괴를 일으키면서 형성되었다']\n",
      "['태양계', '지금', '46', '46억', '억', '년', '전', '거대', '분자', '구름', '일부분', '중력', '붕괴', '형성']\n",
      "[('태양계', 'NNG'), ('는', 'JX'), ('지금', 'NNG'), ('으로', 'JKM'), ('부터', 'JX'), ('약', 'MDN'), ('46', 'NR'), ('억', 'NR'), ('년', 'NNB'), ('전', 'NNG'), (',', 'SP'), ('거대', 'NNG'), ('하', 'XSV'), ('ㄴ', 'ETD'), ('분자', 'NNG'), ('구름', 'NNG'), ('의', 'JKG'), ('일부분', 'NNG'), ('이', 'JKS'), ('중력', 'NNG'), ('붕괴', 'NNG'), ('를', 'JKO'), ('일으키', 'VV'), ('면서', 'ECE'), ('형성', 'NNG'), ('되', 'XSV'), ('었', 'EPT'), ('다', 'EFN')]\n",
      "==============================================\n",
      "['태양계', '지금', '약', '46억', '년', '전', '거대', '자', '구름', '일부분', '중력', '붕괴', '형성']\n",
      "['태양계', '는', '지금', '으로부터', '약', '46억', '년', '전', ',', '거대', '하', 'ㄴ', '불', 'ㄴ', '자', '구름', '의', '일부분', '이', '중력', '붕괴', '를', '일으키', '면서', '형성', '되', '었다']\n",
      "[('태양계', 'N'), ('는', 'J'), ('지금', 'N'), ('으로부터', 'J'), ('약', 'N'), ('46억', 'N'), ('년', 'N'), ('전', 'N'), (',', 'S'), ('거대', 'N'), ('하', 'X'), ('ㄴ', 'E'), ('불', 'P'), ('ㄴ', 'E'), ('자', 'N'), ('구름', 'N'), ('의', 'J'), ('일부분', 'N'), ('이', 'J'), ('중력', 'N'), ('붕괴', 'N'), ('를', 'J'), ('일으키', 'P'), ('면서', 'E'), ('형성', 'N'), ('되', 'X'), ('었다', 'E')]\n",
      "==============================================\n",
      "['태양계', '지금', '약', '년', '전', '분자', '구름', '일부분', '중력', '붕괴', '형성']\n",
      "['태양계', '는', '지금', '으로부터', '약', '46억', '년', '전', ',', '거대한', '분자', '구름', '의', '일부분', '이', '중력', '붕괴', '를', '일으키면서', '형성', '되었다']\n",
      "[('태양계', 'Noun'), ('는', 'Josa'), ('지금', 'Noun'), ('으로부터', 'Josa'), ('약', 'Noun'), ('46억', 'Number'), ('년', 'Noun'), ('전', 'Noun'), (',', 'Punctuation'), ('거대한', 'Adjective'), ('분자', 'Noun'), ('구름', 'Noun'), ('의', 'Josa'), ('일부분', 'Noun'), ('이', 'Josa'), ('중력', 'Noun'), ('붕괴', 'Noun'), ('를', 'Josa'), ('일으키면서', 'Verb'), ('형성', 'Noun'), ('되었다', 'Verb')]\n"
     ]
    }
   ],
   "source": [
    "from konlpy.tag import Kkma\n",
    "text = '태양계는 지금으로부터 약 46억 년 전, 거대한 분자 구름의 일부분이 중력 붕괴를 일으키면서 형성되었다'\n",
    "\n",
    "kkma = Kkma()\n",
    "#문장 분석\n",
    "print(kkma.sentences(text))\n",
    "#단어별 분석\n",
    "print(kkma.nouns(text))\n",
    "#형태소 분석\n",
    "print(kkma.pos(text))\n",
    "print(\"==============================================\")\n",
    "\n",
    "from konlpy.tag import Hannanum\n",
    "hannanum = Hannanum()\n",
    "#단어별 분석\n",
    "print(hannanum.nouns(text))\n",
    "#형태소 분석 \n",
    "print(hannanum.morphs(text))\n",
    "print(hannanum.pos(text))\n",
    "print(\"==============================================\")\n",
    "\n",
    "from konlpy.tag import Okt\n",
    "t = Okt()\n",
    "#단어별 분석\n",
    "print(t.nouns(text))\n",
    "#형태소 분석 \n",
    "print(t.morphs(text))\n",
    "print(t.pos(text))"
   ]
  },
  {
   "cell_type": "code",
   "execution_count": null,
   "metadata": {},
   "outputs": [],
   "source": []
  },
  {
   "cell_type": "markdown",
   "metadata": {},
   "source": [
    "### BoW"
   ]
  },
  {
   "cell_type": "code",
   "execution_count": 2,
   "metadata": {},
   "outputs": [
    {
     "name": "stdout",
     "output_type": "stream",
     "text": [
      "  (0, 5)\t1\n",
      "  (0, 6)\t2\n",
      "  (1, 7)\t1\n",
      "  (1, 4)\t1\n",
      "  (1, 1)\t1\n",
      "  (2, 3)\t1\n",
      "  (2, 0)\t1\n",
      "  (2, 2)\t1\n",
      "\n",
      "[[0 0 0 0 0 1 2 0]\n",
      " [0 1 0 0 1 0 0 1]\n",
      " [1 0 1 1 0 0 0 0]]\n",
      "\n",
      "['beats', 'best', 'both', 'germany', 'is', 'love', 'newziland', 'sweden']\n"
     ]
    },
    {
     "name": "stderr",
     "output_type": "stream",
     "text": [
      "/Users/adam/opt/anaconda3/lib/python3.9/site-packages/sklearn/utils/deprecation.py:87: FutureWarning: Function get_feature_names is deprecated; get_feature_names is deprecated in 1.0 and will be removed in 1.2. Please use get_feature_names_out instead.\n",
      "  warnings.warn(msg, category=FutureWarning)\n"
     ]
    }
   ],
   "source": [
    "import numpy as np\n",
    "from sklearn.feature_extraction.text import CountVectorizer\n",
    "\n",
    "# 텍스트를 만듭니다.\n",
    "text_data = np.array(['I love newziland. newziland!',\n",
    "                      'Sweden is best',\n",
    "                      'Germany beats both'])\n",
    "\n",
    "# BoW 특성 행렬을 만듭니다.\n",
    "count = CountVectorizer()\n",
    "bag_of_words = count.fit_transform(text_data)\n",
    "\n",
    "#희소 행렬을 출력\n",
    "print(bag_of_words)\n",
    "print()\n",
    "\n",
    "#샘플의 단어 카운트 행렬을 확인\n",
    "print(bag_of_words.toarray())\n",
    "print()\n",
    "\n",
    "# 특성 이름을 확인합니다.\n",
    "print(count.get_feature_names())"
   ]
  },
  {
   "cell_type": "code",
   "execution_count": 3,
   "metadata": {},
   "outputs": [
    {
     "name": "stdout",
     "output_type": "stream",
     "text": [
      "[[2 0]\n",
      " [0 1]\n",
      " [0 0]]\n"
     ]
    }
   ],
   "source": [
    "# 옵션을 지정하여 특성 행렬을 만듭니다.\n",
    "count_2gram = CountVectorizer(ngram_range=(1,2),\n",
    "                              stop_words=\"english\",\n",
    "                              vocabulary=['newziland', 'sweden'])\n",
    "bag = count_2gram.fit_transform(text_data)\n",
    "\n",
    "# 특성 행렬을 확인합니다.\n",
    "print(bag.toarray())"
   ]
  },
  {
   "cell_type": "code",
   "execution_count": null,
   "metadata": {},
   "outputs": [],
   "source": []
  },
  {
   "cell_type": "markdown",
   "metadata": {},
   "source": [
    "### 단어의 가중치 부여"
   ]
  },
  {
   "cell_type": "code",
   "execution_count": 4,
   "metadata": {},
   "outputs": [
    {
     "name": "stdout",
     "output_type": "stream",
     "text": [
      "{'love': 6, 'newziland': 7, 'sweden': 9, 'is': 4, 'best': 1, 'germany': 3, 'beats': 0, 'both': 2, 'korea': 5, 'top': 11, 'of': 8, 'the': 10}\n",
      "\n",
      "[[0.         0.         0.         0.         0.         0.\n",
      "  0.4472136  0.89442719 0.         0.         0.         0.        ]\n",
      " [0.         0.61761437 0.         0.         0.48693426 0.\n",
      "  0.         0.         0.         0.61761437 0.         0.        ]\n",
      " [0.57735027 0.         0.57735027 0.57735027 0.         0.\n",
      "  0.         0.         0.         0.         0.         0.        ]\n",
      " [0.         0.         0.         0.         0.2855815  0.36222393\n",
      "  0.         0.         0.36222393 0.         0.36222393 0.72444785]]\n"
     ]
    }
   ],
   "source": [
    "import numpy as np\n",
    "from sklearn.feature_extraction.text import TfidfVectorizer\n",
    "\n",
    "#텍스트를 만듭니다.\n",
    "text_data = np.array(['I love Newziland. Newziland!',\n",
    "                      'Sweden is best',\n",
    "                      'Germany beats both',\n",
    "                      'Korea is top of the top'])\n",
    "\n",
    "# tf-idf 특성 행렬을 만듭니다.\n",
    "tfidf = TfidfVectorizer()\n",
    "feature_matrix = tfidf.fit_transform(text_data)\n",
    "\n",
    "#특성 이름 파악\n",
    "print(tfidf.vocabulary_)\n",
    "print()\n",
    "\n",
    "# tf-idf 특성 행렬을 확인합니다.\n",
    "print(feature_matrix.toarray())"
   ]
  },
  {
   "cell_type": "code",
   "execution_count": null,
   "metadata": {},
   "outputs": [],
   "source": []
  },
  {
   "cell_type": "markdown",
   "metadata": {},
   "source": [
    "## 시계열 데이터"
   ]
  },
  {
   "cell_type": "markdown",
   "metadata": {},
   "source": [
    "### Timestamp 변환 "
   ]
  },
  {
   "cell_type": "code",
   "execution_count": 5,
   "metadata": {},
   "outputs": [
    {
     "name": "stdout",
     "output_type": "stream",
     "text": [
      "         Date  Close  Start   High    Low  Volume\n",
      "0  2018-07-02  10100  10850  10900  10000  137977\n",
      "1  2018-06-29  10700  10550  10900   9990  170253\n",
      "2  2018-06-28  10400  10900  10950  10150  155769\n",
      "3  2018-06-27  10900  10800  11050  10500  133548\n",
      "4  2018-06-26  10800  10900  11000  10700   63039\n",
      "\n",
      "<class 'pandas.core.frame.DataFrame'>\n",
      "RangeIndex: 20 entries, 0 to 19\n",
      "Data columns (total 6 columns):\n",
      " #   Column  Non-Null Count  Dtype \n",
      "---  ------  --------------  ----- \n",
      " 0   Date    20 non-null     object\n",
      " 1   Close   20 non-null     int64 \n",
      " 2   Start   20 non-null     int64 \n",
      " 3   High    20 non-null     int64 \n",
      " 4   Low     20 non-null     int64 \n",
      " 5   Volume  20 non-null     int64 \n",
      "dtypes: int64(5), object(1)\n",
      "memory usage: 1.1+ KB\n",
      "None\n",
      "\n",
      "         Date  Close  Start   High    Low  Volume    NewDate\n",
      "0  2018-07-02  10100  10850  10900  10000  137977 2018-07-02\n",
      "1  2018-06-29  10700  10550  10900   9990  170253 2018-06-29\n",
      "2  2018-06-28  10400  10900  10950  10150  155769 2018-06-28\n",
      "3  2018-06-27  10900  10800  11050  10500  133548 2018-06-27\n",
      "4  2018-06-26  10800  10900  11000  10700   63039 2018-06-26\n",
      "\n",
      "<class 'pandas.core.frame.DataFrame'>\n",
      "RangeIndex: 20 entries, 0 to 19\n",
      "Data columns (total 7 columns):\n",
      " #   Column   Non-Null Count  Dtype         \n",
      "---  ------   --------------  -----         \n",
      " 0   Date     20 non-null     object        \n",
      " 1   Close    20 non-null     int64         \n",
      " 2   Start    20 non-null     int64         \n",
      " 3   High     20 non-null     int64         \n",
      " 4   Low      20 non-null     int64         \n",
      " 5   Volume   20 non-null     int64         \n",
      " 6   NewDate  20 non-null     datetime64[ns]\n",
      "dtypes: datetime64[ns](1), int64(5), object(1)\n",
      "memory usage: 1.2+ KB\n",
      "None\n",
      "\n",
      "<class 'pandas._libs.tslibs.timestamps.Timestamp'>\n"
     ]
    }
   ],
   "source": [
    "import pandas as pd\n",
    "\n",
    "df = pd.read_csv('data/stock-data.csv', encoding='utf-8')\n",
    "print(df.head())\n",
    "print()\n",
    "\n",
    "print(df.info())\n",
    "print()\n",
    "\n",
    "# 문자열 데이터를 pandas.Timestamp로 변환\n",
    "df['NewDate'] = pd.to_datetime(df['Date'])   #df에 새로운 열로 추가\n",
    "# 데이터 내용 및 자료형 자료형 확인\n",
    "print(df.head())\n",
    "print()\n",
    "\n",
    "print(df.info())\n",
    "print()\n",
    "\n",
    "print(type(df['NewDate'][0]))"
   ]
  },
  {
   "cell_type": "code",
   "execution_count": 6,
   "metadata": {},
   "outputs": [
    {
     "name": "stdout",
     "output_type": "stream",
     "text": [
      "            Close  Start   High    Low  Volume\n",
      "NewDate                                       \n",
      "2018-07-02  10100  10850  10900  10000  137977\n",
      "2018-06-29  10700  10550  10900   9990  170253\n",
      "2018-06-28  10400  10900  10950  10150  155769\n",
      "2018-06-27  10900  10800  11050  10500  133548\n",
      "2018-06-26  10800  10900  11000  10700   63039\n",
      "\n",
      "<class 'pandas.core.frame.DataFrame'>\n",
      "DatetimeIndex: 20 entries, 2018-07-02 to 2018-06-01\n",
      "Data columns (total 5 columns):\n",
      " #   Column  Non-Null Count  Dtype\n",
      "---  ------  --------------  -----\n",
      " 0   Close   20 non-null     int64\n",
      " 1   Start   20 non-null     int64\n",
      " 2   High    20 non-null     int64\n",
      " 3   Low     20 non-null     int64\n",
      " 4   Volume  20 non-null     int64\n",
      "dtypes: int64(5)\n",
      "memory usage: 960.0 bytes\n"
     ]
    }
   ],
   "source": [
    "# 시계열 값으로 변환된 컬럼을 새로운 행 인덱스로 지정하고 기존의 날짜 컬럼은 삭제\n",
    "df.set_index('NewDate', inplace=True)\n",
    "df.drop('Date', axis=1, inplace=True)\n",
    "\n",
    "# 데이터 내용 및 자료형 자료형 확인\n",
    "print(df.head())\n",
    "print()\n",
    "\n",
    "df.info()"
   ]
  },
  {
   "cell_type": "code",
   "execution_count": 7,
   "metadata": {},
   "outputs": [
    {
     "name": "stdout",
     "output_type": "stream",
     "text": [
      "[Timestamp('2005-04-03 23:35:00'), Timestamp('2010-05-23 00:01:00'), '04-09-2009 09:09 TM']\n",
      "[Timestamp('2005-04-03 23:35:00'), Timestamp('2010-05-23 00:01:00'), NaT]\n"
     ]
    },
    {
     "ename": "ValueError",
     "evalue": "time data '04-09-2009 09:09 TM' does not match format '%d-%m-%Y %I:%M %p' (match)",
     "output_type": "error",
     "traceback": [
      "\u001b[0;31m---------------------------------------------------------------------------\u001b[0m",
      "\u001b[0;31mTypeError\u001b[0m                                 Traceback (most recent call last)",
      "\u001b[0;32m~/opt/anaconda3/lib/python3.9/site-packages/pandas/core/tools/datetimes.py\u001b[0m in \u001b[0;36m_to_datetime_with_format\u001b[0;34m(arg, orig_arg, name, tz, fmt, exact, errors, infer_datetime_format)\u001b[0m\n\u001b[1;32m    508\u001b[0m         \u001b[0;32mtry\u001b[0m\u001b[0;34m:\u001b[0m\u001b[0;34m\u001b[0m\u001b[0;34m\u001b[0m\u001b[0m\n\u001b[0;32m--> 509\u001b[0;31m             \u001b[0mvalues\u001b[0m\u001b[0;34m,\u001b[0m \u001b[0mtz\u001b[0m \u001b[0;34m=\u001b[0m \u001b[0mconversion\u001b[0m\u001b[0;34m.\u001b[0m\u001b[0mdatetime_to_datetime64\u001b[0m\u001b[0;34m(\u001b[0m\u001b[0marg\u001b[0m\u001b[0;34m)\u001b[0m\u001b[0;34m\u001b[0m\u001b[0;34m\u001b[0m\u001b[0m\n\u001b[0m\u001b[1;32m    510\u001b[0m             \u001b[0mdta\u001b[0m \u001b[0;34m=\u001b[0m \u001b[0mDatetimeArray\u001b[0m\u001b[0;34m(\u001b[0m\u001b[0mvalues\u001b[0m\u001b[0;34m,\u001b[0m \u001b[0mdtype\u001b[0m\u001b[0;34m=\u001b[0m\u001b[0mtz_to_dtype\u001b[0m\u001b[0;34m(\u001b[0m\u001b[0mtz\u001b[0m\u001b[0;34m)\u001b[0m\u001b[0;34m)\u001b[0m\u001b[0;34m\u001b[0m\u001b[0;34m\u001b[0m\u001b[0m\n",
      "\u001b[0;32m~/opt/anaconda3/lib/python3.9/site-packages/pandas/_libs/tslibs/conversion.pyx\u001b[0m in \u001b[0;36mpandas._libs.tslibs.conversion.datetime_to_datetime64\u001b[0;34m()\u001b[0m\n",
      "\u001b[0;31mTypeError\u001b[0m: Unrecognized value type: <class 'str'>",
      "\nDuring handling of the above exception, another exception occurred:\n",
      "\u001b[0;31mValueError\u001b[0m                                Traceback (most recent call last)",
      "\u001b[0;32m/var/folders/98/j21dd2qs46b69mwc94dgyxnr0000gn/T/ipykernel_15784/3425187156.py\u001b[0m in \u001b[0;36m<module>\u001b[0;34m\u001b[0m\n\u001b[1;32m     11\u001b[0m \u001b[0mprint\u001b[0m\u001b[0;34m(\u001b[0m\u001b[0;34m[\u001b[0m\u001b[0mpd\u001b[0m\u001b[0;34m.\u001b[0m\u001b[0mto_datetime\u001b[0m\u001b[0;34m(\u001b[0m\u001b[0mdate\u001b[0m\u001b[0;34m,\u001b[0m \u001b[0mformat\u001b[0m\u001b[0;34m=\u001b[0m\u001b[0;34m'%d-%m-%Y %I:%M %p'\u001b[0m\u001b[0;34m,\u001b[0m \u001b[0merrors\u001b[0m\u001b[0;34m=\u001b[0m\u001b[0;34m'ignore'\u001b[0m\u001b[0;34m)\u001b[0m \u001b[0;32mfor\u001b[0m \u001b[0mdate\u001b[0m \u001b[0;32min\u001b[0m \u001b[0mdate_strings\u001b[0m\u001b[0;34m]\u001b[0m\u001b[0;34m)\u001b[0m\u001b[0;34m\u001b[0m\u001b[0;34m\u001b[0m\u001b[0m\n\u001b[1;32m     12\u001b[0m \u001b[0mprint\u001b[0m\u001b[0;34m(\u001b[0m\u001b[0;34m[\u001b[0m\u001b[0mpd\u001b[0m\u001b[0;34m.\u001b[0m\u001b[0mto_datetime\u001b[0m\u001b[0;34m(\u001b[0m\u001b[0mdate\u001b[0m\u001b[0;34m,\u001b[0m \u001b[0mformat\u001b[0m\u001b[0;34m=\u001b[0m\u001b[0;34m'%d-%m-%Y %I:%M %p'\u001b[0m\u001b[0;34m,\u001b[0m \u001b[0merrors\u001b[0m\u001b[0;34m=\u001b[0m\u001b[0;34m'coerce'\u001b[0m\u001b[0;34m)\u001b[0m \u001b[0;32mfor\u001b[0m \u001b[0mdate\u001b[0m \u001b[0;32min\u001b[0m \u001b[0mdate_strings\u001b[0m\u001b[0;34m]\u001b[0m\u001b[0;34m)\u001b[0m\u001b[0;34m\u001b[0m\u001b[0;34m\u001b[0m\u001b[0m\n\u001b[0;32m---> 13\u001b[0;31m \u001b[0mprint\u001b[0m\u001b[0;34m(\u001b[0m\u001b[0;34m[\u001b[0m\u001b[0mpd\u001b[0m\u001b[0;34m.\u001b[0m\u001b[0mto_datetime\u001b[0m\u001b[0;34m(\u001b[0m\u001b[0mdate\u001b[0m\u001b[0;34m,\u001b[0m \u001b[0mformat\u001b[0m\u001b[0;34m=\u001b[0m\u001b[0;34m'%d-%m-%Y %I:%M %p'\u001b[0m\u001b[0;34m,\u001b[0m \u001b[0merrors\u001b[0m\u001b[0;34m=\u001b[0m\u001b[0;34m'raise'\u001b[0m\u001b[0;34m)\u001b[0m \u001b[0;32mfor\u001b[0m \u001b[0mdate\u001b[0m \u001b[0;32min\u001b[0m \u001b[0mdate_strings\u001b[0m\u001b[0;34m]\u001b[0m\u001b[0;34m)\u001b[0m\u001b[0;34m\u001b[0m\u001b[0;34m\u001b[0m\u001b[0m\n\u001b[0m",
      "\u001b[0;32m/var/folders/98/j21dd2qs46b69mwc94dgyxnr0000gn/T/ipykernel_15784/3425187156.py\u001b[0m in \u001b[0;36m<listcomp>\u001b[0;34m(.0)\u001b[0m\n\u001b[1;32m     11\u001b[0m \u001b[0mprint\u001b[0m\u001b[0;34m(\u001b[0m\u001b[0;34m[\u001b[0m\u001b[0mpd\u001b[0m\u001b[0;34m.\u001b[0m\u001b[0mto_datetime\u001b[0m\u001b[0;34m(\u001b[0m\u001b[0mdate\u001b[0m\u001b[0;34m,\u001b[0m \u001b[0mformat\u001b[0m\u001b[0;34m=\u001b[0m\u001b[0;34m'%d-%m-%Y %I:%M %p'\u001b[0m\u001b[0;34m,\u001b[0m \u001b[0merrors\u001b[0m\u001b[0;34m=\u001b[0m\u001b[0;34m'ignore'\u001b[0m\u001b[0;34m)\u001b[0m \u001b[0;32mfor\u001b[0m \u001b[0mdate\u001b[0m \u001b[0;32min\u001b[0m \u001b[0mdate_strings\u001b[0m\u001b[0;34m]\u001b[0m\u001b[0;34m)\u001b[0m\u001b[0;34m\u001b[0m\u001b[0;34m\u001b[0m\u001b[0m\n\u001b[1;32m     12\u001b[0m \u001b[0mprint\u001b[0m\u001b[0;34m(\u001b[0m\u001b[0;34m[\u001b[0m\u001b[0mpd\u001b[0m\u001b[0;34m.\u001b[0m\u001b[0mto_datetime\u001b[0m\u001b[0;34m(\u001b[0m\u001b[0mdate\u001b[0m\u001b[0;34m,\u001b[0m \u001b[0mformat\u001b[0m\u001b[0;34m=\u001b[0m\u001b[0;34m'%d-%m-%Y %I:%M %p'\u001b[0m\u001b[0;34m,\u001b[0m \u001b[0merrors\u001b[0m\u001b[0;34m=\u001b[0m\u001b[0;34m'coerce'\u001b[0m\u001b[0;34m)\u001b[0m \u001b[0;32mfor\u001b[0m \u001b[0mdate\u001b[0m \u001b[0;32min\u001b[0m \u001b[0mdate_strings\u001b[0m\u001b[0;34m]\u001b[0m\u001b[0;34m)\u001b[0m\u001b[0;34m\u001b[0m\u001b[0;34m\u001b[0m\u001b[0m\n\u001b[0;32m---> 13\u001b[0;31m \u001b[0mprint\u001b[0m\u001b[0;34m(\u001b[0m\u001b[0;34m[\u001b[0m\u001b[0mpd\u001b[0m\u001b[0;34m.\u001b[0m\u001b[0mto_datetime\u001b[0m\u001b[0;34m(\u001b[0m\u001b[0mdate\u001b[0m\u001b[0;34m,\u001b[0m \u001b[0mformat\u001b[0m\u001b[0;34m=\u001b[0m\u001b[0;34m'%d-%m-%Y %I:%M %p'\u001b[0m\u001b[0;34m,\u001b[0m \u001b[0merrors\u001b[0m\u001b[0;34m=\u001b[0m\u001b[0;34m'raise'\u001b[0m\u001b[0;34m)\u001b[0m \u001b[0;32mfor\u001b[0m \u001b[0mdate\u001b[0m \u001b[0;32min\u001b[0m \u001b[0mdate_strings\u001b[0m\u001b[0;34m]\u001b[0m\u001b[0;34m)\u001b[0m\u001b[0;34m\u001b[0m\u001b[0;34m\u001b[0m\u001b[0m\n\u001b[0m",
      "\u001b[0;32m~/opt/anaconda3/lib/python3.9/site-packages/pandas/core/tools/datetimes.py\u001b[0m in \u001b[0;36mto_datetime\u001b[0;34m(arg, errors, dayfirst, yearfirst, utc, format, exact, unit, infer_datetime_format, origin, cache)\u001b[0m\n\u001b[1;32m    912\u001b[0m             \u001b[0mresult\u001b[0m \u001b[0;34m=\u001b[0m \u001b[0mconvert_listlike\u001b[0m\u001b[0;34m(\u001b[0m\u001b[0marg\u001b[0m\u001b[0;34m,\u001b[0m \u001b[0mformat\u001b[0m\u001b[0;34m)\u001b[0m\u001b[0;34m\u001b[0m\u001b[0;34m\u001b[0m\u001b[0m\n\u001b[1;32m    913\u001b[0m     \u001b[0;32melse\u001b[0m\u001b[0;34m:\u001b[0m\u001b[0;34m\u001b[0m\u001b[0;34m\u001b[0m\u001b[0m\n\u001b[0;32m--> 914\u001b[0;31m         \u001b[0mresult\u001b[0m \u001b[0;34m=\u001b[0m \u001b[0mconvert_listlike\u001b[0m\u001b[0;34m(\u001b[0m\u001b[0mnp\u001b[0m\u001b[0;34m.\u001b[0m\u001b[0marray\u001b[0m\u001b[0;34m(\u001b[0m\u001b[0;34m[\u001b[0m\u001b[0marg\u001b[0m\u001b[0;34m]\u001b[0m\u001b[0;34m)\u001b[0m\u001b[0;34m,\u001b[0m \u001b[0mformat\u001b[0m\u001b[0;34m)\u001b[0m\u001b[0;34m[\u001b[0m\u001b[0;36m0\u001b[0m\u001b[0;34m]\u001b[0m\u001b[0;34m\u001b[0m\u001b[0;34m\u001b[0m\u001b[0m\n\u001b[0m\u001b[1;32m    915\u001b[0m \u001b[0;34m\u001b[0m\u001b[0m\n\u001b[1;32m    916\u001b[0m     \u001b[0;31m#  error: Incompatible return value type (got \"Union[Timestamp, NaTType,\u001b[0m\u001b[0;34m\u001b[0m\u001b[0;34m\u001b[0m\u001b[0m\n",
      "\u001b[0;32m~/opt/anaconda3/lib/python3.9/site-packages/pandas/core/tools/datetimes.py\u001b[0m in \u001b[0;36m_convert_listlike_datetimes\u001b[0;34m(arg, format, name, tz, unit, errors, infer_datetime_format, dayfirst, yearfirst, exact)\u001b[0m\n\u001b[1;32m    391\u001b[0m \u001b[0;34m\u001b[0m\u001b[0m\n\u001b[1;32m    392\u001b[0m     \u001b[0;32mif\u001b[0m \u001b[0mformat\u001b[0m \u001b[0;32mis\u001b[0m \u001b[0;32mnot\u001b[0m \u001b[0;32mNone\u001b[0m\u001b[0;34m:\u001b[0m\u001b[0;34m\u001b[0m\u001b[0;34m\u001b[0m\u001b[0m\n\u001b[0;32m--> 393\u001b[0;31m         res = _to_datetime_with_format(\n\u001b[0m\u001b[1;32m    394\u001b[0m             \u001b[0marg\u001b[0m\u001b[0;34m,\u001b[0m \u001b[0morig_arg\u001b[0m\u001b[0;34m,\u001b[0m \u001b[0mname\u001b[0m\u001b[0;34m,\u001b[0m \u001b[0mtz\u001b[0m\u001b[0;34m,\u001b[0m \u001b[0mformat\u001b[0m\u001b[0;34m,\u001b[0m \u001b[0mexact\u001b[0m\u001b[0;34m,\u001b[0m \u001b[0merrors\u001b[0m\u001b[0;34m,\u001b[0m \u001b[0minfer_datetime_format\u001b[0m\u001b[0;34m\u001b[0m\u001b[0;34m\u001b[0m\u001b[0m\n\u001b[1;32m    395\u001b[0m         )\n",
      "\u001b[0;32m~/opt/anaconda3/lib/python3.9/site-packages/pandas/core/tools/datetimes.py\u001b[0m in \u001b[0;36m_to_datetime_with_format\u001b[0;34m(arg, orig_arg, name, tz, fmt, exact, errors, infer_datetime_format)\u001b[0m\n\u001b[1;32m    511\u001b[0m             \u001b[0;32mreturn\u001b[0m \u001b[0mDatetimeIndex\u001b[0m\u001b[0;34m.\u001b[0m\u001b[0m_simple_new\u001b[0m\u001b[0;34m(\u001b[0m\u001b[0mdta\u001b[0m\u001b[0;34m,\u001b[0m \u001b[0mname\u001b[0m\u001b[0;34m=\u001b[0m\u001b[0mname\u001b[0m\u001b[0;34m)\u001b[0m\u001b[0;34m\u001b[0m\u001b[0;34m\u001b[0m\u001b[0m\n\u001b[1;32m    512\u001b[0m         \u001b[0;32mexcept\u001b[0m \u001b[0;34m(\u001b[0m\u001b[0mValueError\u001b[0m\u001b[0;34m,\u001b[0m \u001b[0mTypeError\u001b[0m\u001b[0;34m)\u001b[0m\u001b[0;34m:\u001b[0m\u001b[0;34m\u001b[0m\u001b[0;34m\u001b[0m\u001b[0m\n\u001b[0;32m--> 513\u001b[0;31m             \u001b[0;32mraise\u001b[0m \u001b[0merr\u001b[0m\u001b[0;34m\u001b[0m\u001b[0;34m\u001b[0m\u001b[0m\n\u001b[0m\u001b[1;32m    514\u001b[0m \u001b[0;34m\u001b[0m\u001b[0m\n\u001b[1;32m    515\u001b[0m \u001b[0;34m\u001b[0m\u001b[0m\n",
      "\u001b[0;32m~/opt/anaconda3/lib/python3.9/site-packages/pandas/core/tools/datetimes.py\u001b[0m in \u001b[0;36m_to_datetime_with_format\u001b[0;34m(arg, orig_arg, name, tz, fmt, exact, errors, infer_datetime_format)\u001b[0m\n\u001b[1;32m    498\u001b[0m \u001b[0;34m\u001b[0m\u001b[0m\n\u001b[1;32m    499\u001b[0m         \u001b[0;31m# fallback\u001b[0m\u001b[0;34m\u001b[0m\u001b[0;34m\u001b[0m\u001b[0m\n\u001b[0;32m--> 500\u001b[0;31m         res = _array_strptime_with_fallback(\n\u001b[0m\u001b[1;32m    501\u001b[0m             \u001b[0marg\u001b[0m\u001b[0;34m,\u001b[0m \u001b[0mname\u001b[0m\u001b[0;34m,\u001b[0m \u001b[0mtz\u001b[0m\u001b[0;34m,\u001b[0m \u001b[0mfmt\u001b[0m\u001b[0;34m,\u001b[0m \u001b[0mexact\u001b[0m\u001b[0;34m,\u001b[0m \u001b[0merrors\u001b[0m\u001b[0;34m,\u001b[0m \u001b[0minfer_datetime_format\u001b[0m\u001b[0;34m\u001b[0m\u001b[0;34m\u001b[0m\u001b[0m\n\u001b[1;32m    502\u001b[0m         )\n",
      "\u001b[0;32m~/opt/anaconda3/lib/python3.9/site-packages/pandas/core/tools/datetimes.py\u001b[0m in \u001b[0;36m_array_strptime_with_fallback\u001b[0;34m(arg, name, tz, fmt, exact, errors, infer_datetime_format)\u001b[0m\n\u001b[1;32m    434\u001b[0m \u001b[0;34m\u001b[0m\u001b[0m\n\u001b[1;32m    435\u001b[0m     \u001b[0;32mtry\u001b[0m\u001b[0;34m:\u001b[0m\u001b[0;34m\u001b[0m\u001b[0;34m\u001b[0m\u001b[0m\n\u001b[0;32m--> 436\u001b[0;31m         \u001b[0mresult\u001b[0m\u001b[0;34m,\u001b[0m \u001b[0mtimezones\u001b[0m \u001b[0;34m=\u001b[0m \u001b[0marray_strptime\u001b[0m\u001b[0;34m(\u001b[0m\u001b[0marg\u001b[0m\u001b[0;34m,\u001b[0m \u001b[0mfmt\u001b[0m\u001b[0;34m,\u001b[0m \u001b[0mexact\u001b[0m\u001b[0;34m=\u001b[0m\u001b[0mexact\u001b[0m\u001b[0;34m,\u001b[0m \u001b[0merrors\u001b[0m\u001b[0;34m=\u001b[0m\u001b[0merrors\u001b[0m\u001b[0;34m)\u001b[0m\u001b[0;34m\u001b[0m\u001b[0;34m\u001b[0m\u001b[0m\n\u001b[0m\u001b[1;32m    437\u001b[0m         \u001b[0;32mif\u001b[0m \u001b[0;34m\"%Z\"\u001b[0m \u001b[0;32min\u001b[0m \u001b[0mfmt\u001b[0m \u001b[0;32mor\u001b[0m \u001b[0;34m\"%z\"\u001b[0m \u001b[0;32min\u001b[0m \u001b[0mfmt\u001b[0m\u001b[0;34m:\u001b[0m\u001b[0;34m\u001b[0m\u001b[0;34m\u001b[0m\u001b[0m\n\u001b[1;32m    438\u001b[0m             \u001b[0;32mreturn\u001b[0m \u001b[0m_return_parsed_timezone_results\u001b[0m\u001b[0;34m(\u001b[0m\u001b[0mresult\u001b[0m\u001b[0;34m,\u001b[0m \u001b[0mtimezones\u001b[0m\u001b[0;34m,\u001b[0m \u001b[0mtz\u001b[0m\u001b[0;34m,\u001b[0m \u001b[0mname\u001b[0m\u001b[0;34m)\u001b[0m\u001b[0;34m\u001b[0m\u001b[0;34m\u001b[0m\u001b[0m\n",
      "\u001b[0;32m~/opt/anaconda3/lib/python3.9/site-packages/pandas/_libs/tslibs/strptime.pyx\u001b[0m in \u001b[0;36mpandas._libs.tslibs.strptime.array_strptime\u001b[0;34m()\u001b[0m\n",
      "\u001b[0;31mValueError\u001b[0m: time data '04-09-2009 09:09 TM' does not match format '%d-%m-%Y %I:%M %p' (match)"
     ]
    }
   ],
   "source": [
    "# 라이브러리를 임포트합니다.\n",
    "import numpy as np\n",
    "import pandas as pd\n",
    "\n",
    "# 문자열을 만듭니다.\n",
    "date_strings = np.array(['03-04-2005 11:35 PM',\n",
    "                         '23-05-2010 12:01 AM',\n",
    "                         '04-09-2009 09:09 TM'])\n",
    "\n",
    "# Timestamp \n",
    "print([pd.to_datetime(date, format='%d-%m-%Y %I:%M %p', errors='ignore') for date in date_strings])\n",
    "print([pd.to_datetime(date, format='%d-%m-%Y %I:%M %p', errors='coerce') for date in date_strings])\n",
    "print([pd.to_datetime(date, format='%d-%m-%Y %I:%M %p', errors='raise') for date in date_strings])"
   ]
  },
  {
   "cell_type": "code",
   "execution_count": 8,
   "metadata": {},
   "outputs": [
    {
     "data": {
      "text/plain": [
       "DatetimeIndex(['2005-03-04 23:35:00', '2010-05-23 00:01:00',\n",
       "               '2009-04-09 21:09:00'],\n",
       "              dtype='datetime64[ns]', freq=None)"
      ]
     },
     "execution_count": 8,
     "metadata": {},
     "output_type": "execute_result"
    }
   ],
   "source": [
    "# 라이브러리를 임포트합니다.\n",
    "import numpy as np\n",
    "import pandas as pd\n",
    "\n",
    "# 문자열을 만듭니다.\n",
    "date_strings = np.array(['03-04-2005 11:35 PM',\n",
    "                         '23-05-2010 12:01 AM',\n",
    "                         '04-09-2009 09:09 PM'])\n",
    "\n",
    "pd.to_datetime(date_strings)"
   ]
  },
  {
   "cell_type": "code",
   "execution_count": null,
   "metadata": {},
   "outputs": [],
   "source": []
  },
  {
   "cell_type": "markdown",
   "metadata": {},
   "source": [
    "### Period 생성 "
   ]
  },
  {
   "cell_type": "code",
   "execution_count": 9,
   "metadata": {},
   "outputs": [
    {
     "name": "stdout",
     "output_type": "stream",
     "text": [
      "DatetimeIndex(['2017-01-01', '2018-03-01', '2019-06-01'], dtype='datetime64[ns]', freq=None)\n",
      "\n",
      "PeriodIndex(['2017-01-01', '2018-03-01', '2019-06-01'], dtype='period[D]')\n",
      "\n",
      "PeriodIndex(['2017-01', '2018-03', '2019-06'], dtype='period[M]')\n",
      "\n",
      "PeriodIndex(['2017', '2018', '2019'], dtype='period[A-DEC]')\n"
     ]
    }
   ],
   "source": [
    "# 날짜 형식의 문자열 리스트 생성\n",
    "dates = ['2017-01-01', '2018-03-01', '2019-06-01']\n",
    "\n",
    "# 문자열 리스트를 pandas.Timestamp로 변환\n",
    "pddates = pd.to_datetime(dates)   \n",
    "print(pddates)\n",
    "print()\n",
    "\n",
    "# Timestamp를 Period로 변환\n",
    "pr_days = pddates.to_period(freq='D')\n",
    "print(pr_days)\n",
    "print()\n",
    "\n",
    "pr_months = pddates.to_period(freq='M')\n",
    "print(pr_months)\n",
    "print()\n",
    "\n",
    "pr_years = pddates.to_period(freq='A')\n",
    "print(pr_years)"
   ]
  },
  {
   "cell_type": "code",
   "execution_count": 10,
   "metadata": {},
   "outputs": [
    {
     "name": "stdout",
     "output_type": "stream",
     "text": [
      "DatetimeIndex(['2018-01-01 00:00:00+09:00', '2018-02-01 00:00:00+09:00',\n",
      "               '2018-03-01 00:00:00+09:00', '2018-04-01 00:00:00+09:00',\n",
      "               '2018-05-01 00:00:00+09:00', '2018-06-01 00:00:00+09:00',\n",
      "               '2018-07-01 00:00:00+09:00', '2018-08-01 00:00:00+09:00',\n",
      "               '2018-09-01 00:00:00+09:00', '2018-10-01 00:00:00+09:00',\n",
      "               '2018-11-01 00:00:00+09:00', '2018-12-01 00:00:00+09:00'],\n",
      "              dtype='datetime64[ns, Asia/Seoul]', freq='MS')\n",
      "\n"
     ]
    }
   ],
   "source": [
    "# Timestamp의 배열 만들기 - 월 간격, 월의 시작일 기준\n",
    "ts_ms = pd.date_range(start='2018-01-01',    # 날짜 범위의 시작\n",
    "                   end=None,                 # 날짜 범위의 끝\n",
    "                   periods=12,                # 생성할 Timestamp의 개수\n",
    "                   freq='MS',                # 시간 간격 (MS: 월의 시작일)\n",
    "                   tz='Asia/Seoul')          # 시간대(timezone)\n",
    "print(ts_ms)\n",
    "print()"
   ]
  },
  {
   "cell_type": "code",
   "execution_count": 11,
   "metadata": {},
   "outputs": [
    {
     "name": "stdout",
     "output_type": "stream",
     "text": [
      "DatetimeIndex(['2018-01-31 00:00:00+09:00', '2018-02-28 00:00:00+09:00',\n",
      "               '2018-03-31 00:00:00+09:00', '2018-04-30 00:00:00+09:00',\n",
      "               '2018-05-31 00:00:00+09:00', '2018-06-30 00:00:00+09:00',\n",
      "               '2018-07-31 00:00:00+09:00', '2018-08-31 00:00:00+09:00',\n",
      "               '2018-09-30 00:00:00+09:00', '2018-10-31 00:00:00+09:00',\n",
      "               '2018-11-30 00:00:00+09:00', '2018-12-31 00:00:00+09:00'],\n",
      "              dtype='datetime64[ns, Asia/Seoul]', freq='M')\n",
      "\n",
      "DatetimeIndex(['2018-01-31 00:00:00+09:00', '2018-04-30 00:00:00+09:00',\n",
      "               '2018-07-31 00:00:00+09:00', '2018-10-31 00:00:00+09:00',\n",
      "               '2019-01-31 00:00:00+09:00', '2019-04-30 00:00:00+09:00',\n",
      "               '2019-07-31 00:00:00+09:00', '2019-10-31 00:00:00+09:00',\n",
      "               '2020-01-31 00:00:00+09:00', '2020-04-30 00:00:00+09:00',\n",
      "               '2020-07-31 00:00:00+09:00', '2020-10-31 00:00:00+09:00'],\n",
      "              dtype='datetime64[ns, Asia/Seoul]', freq='3M')\n"
     ]
    }
   ],
   "source": [
    "# 월 간격, 월의 마지막 날 기준\n",
    "ts_me = pd.date_range('2018-01-01', periods=12, \n",
    "                   freq='M',              # 시간 간격 (M: 월의 마지막 날)\n",
    "                   tz='Asia/Seoul')       # 시간대(timezone)\n",
    "print(ts_me)\n",
    "print()\n",
    "\n",
    "# 분기(3개월) 간격, 월의 마지막 날 기준\n",
    "ts_3m = pd.date_range('2018-01-01', periods=12, \n",
    "                   freq='3M',             # 시간 간격 (3M: 3개월)\n",
    "                   tz='Asia/Seoul')       # 시간대(timezone)\n",
    "print(ts_3m)"
   ]
  },
  {
   "cell_type": "code",
   "execution_count": 12,
   "metadata": {},
   "outputs": [
    {
     "name": "stdout",
     "output_type": "stream",
     "text": [
      "PeriodIndex(['2018-01', '2018-02', '2018-03', '2018-04', '2018-05', '2018-06',\n",
      "             '2018-07', '2018-08', '2018-09', '2018-10', '2018-11', '2018-12'],\n",
      "            dtype='period[M]')\n",
      "\n",
      "PeriodIndex(['2018-01-01 00:00', '2018-01-01 01:00', '2018-01-01 02:00',\n",
      "             '2018-01-01 03:00', '2018-01-01 04:00', '2018-01-01 05:00',\n",
      "             '2018-01-01 06:00', '2018-01-01 07:00', '2018-01-01 08:00',\n",
      "             '2018-01-01 09:00', '2018-01-01 10:00', '2018-01-01 11:00',\n",
      "             '2018-01-01 12:00', '2018-01-01 13:00', '2018-01-01 14:00',\n",
      "             '2018-01-01 15:00', '2018-01-01 16:00', '2018-01-01 17:00',\n",
      "             '2018-01-01 18:00', '2018-01-01 19:00', '2018-01-01 20:00',\n",
      "             '2018-01-01 21:00', '2018-01-01 22:00', '2018-01-01 23:00'],\n",
      "            dtype='period[H]')\n",
      "\n",
      "PeriodIndex(['2018-01-01 00:00', '2018-01-01 06:00', '2018-01-01 12:00'], dtype='period[6H]')\n"
     ]
    }
   ],
   "source": [
    "# Period 배열 만들기 - 1개월 길이\n",
    "pr_m = pd.period_range(start='2018-01-01',     # 날짜 범위의 시작\n",
    "                   end=None,                   # 날짜 범위의 끝\n",
    "                   periods=12,                  # 생성할 Period 개수\n",
    "                   freq='M')                   # 기간의 길이 (M: 월)\n",
    "print(pr_m)\n",
    "print()\n",
    "# Period 배열 만들기 - 1시간 길이\n",
    "pr_h = pd.period_range(start='2018-01-01',     # 날짜 범위의 시작\n",
    "                   end=None,                   # 날짜 범위의 끝\n",
    "                   periods=24,                  # 생성할 Period 개수\n",
    "                   freq='H')                   # 기간의 길이 (H: 시간)\n",
    "print(pr_h)\n",
    "print()\n",
    "# Period 배열 만들기 - 6시간 길이\n",
    "pr_6h = pd.period_range(start='2018-01-01',    # 날짜 범위의 시작\n",
    "                   end=None,                   # 날짜 범위의 끝\n",
    "                   periods=3,                  # 생성할 Period 개수\n",
    "                   freq='6H')                  # 기간의 길이 (H: 시간)\n",
    "print(pr_6h)"
   ]
  },
  {
   "cell_type": "code",
   "execution_count": null,
   "metadata": {},
   "outputs": [],
   "source": []
  },
  {
   "cell_type": "markdown",
   "metadata": {},
   "source": [
    "### 시간대 설정"
   ]
  },
  {
   "cell_type": "code",
   "execution_count": 13,
   "metadata": {},
   "outputs": [
    {
     "name": "stdout",
     "output_type": "stream",
     "text": [
      "['Africa/Abidjan', 'Africa/Accra']\n",
      "2017-05-01 06:00:00+01:00\n",
      "\n",
      "2017-05-01 06:00:00+01:00\n",
      "\n",
      "2017-05-01 14:00:00+09:00\n",
      "\n",
      "0   2002-02-28 00:00:00+00:00\n",
      "1   2002-03-31 00:00:00+00:00\n",
      "2   2002-04-30 00:00:00+00:00\n",
      "dtype: datetime64[ns, Africa/Abidjan]\n",
      "\n",
      "0   2002-02-28\n",
      "1   2002-03-31\n",
      "2   2002-04-30\n",
      "dtype: datetime64[ns]\n",
      "\n",
      "0   2002-02-28 00:00:00+09:00\n",
      "1   2002-03-31 00:00:00+09:00\n",
      "2   2002-04-30 00:00:00+09:00\n",
      "dtype: datetime64[ns, Asia/Seoul]\n"
     ]
    }
   ],
   "source": [
    "# 라이브러리를 임포트합니다.\n",
    "import pandas as pd\n",
    "# 라이브러리를 임포트합니다.\n",
    "from pytz import all_timezones\n",
    "\n",
    "# 두 개의 시간대를 확인합니다.\n",
    "print(all_timezones[0:2])\n",
    "\n",
    "# datetime을 만듭니다.\n",
    "print(pd.Timestamp('2017-05-01 06:00:00', tz='Europe/London'))\n",
    "print()\n",
    "\n",
    "# datetime을 만듭니다. \n",
    "date = pd.Timestamp('2017-05-01 06:00:00')\n",
    "\n",
    "# 시간대를 지정합니다.\n",
    "date_in_london = date.tz_localize('Europe/London')\n",
    "\n",
    "# datetime을 확인합니다.\n",
    "print(date_in_london)\n",
    "print()\n",
    "\n",
    "# 시간대를 바꿉니다.\n",
    "print(date_in_london.tz_convert('Asia/Seoul'))\n",
    "print()\n",
    "\n",
    "# 세 개의 날짜를 만듭니다.\n",
    "dates = pd.Series(pd.date_range('2/2/2002', periods=3, freq='M'))\n",
    "\n",
    "# 시간대를 지정합니다.\n",
    "print(dates.dt.tz_localize('Africa/Abidjan'))\n",
    "print()\n",
    "\n",
    "#dateutil로 시작하는 문자열로 설정\n",
    "print(dates.dt.tz_localize('dateutil/Aisa/Seoul'))\n",
    "print()\n",
    "\n",
    "#pytz 객체를 직접 전달\n",
    "import pytz\n",
    "tz = pytz.timezone('Asia/Seoul')\n",
    "print(dates.dt.tz_localize(tz))"
   ]
  },
  {
   "cell_type": "code",
   "execution_count": null,
   "metadata": {},
   "outputs": [],
   "source": []
  },
  {
   "cell_type": "markdown",
   "metadata": {},
   "source": [
    "### 년 월 일 분리"
   ]
  },
  {
   "cell_type": "code",
   "execution_count": 14,
   "metadata": {},
   "outputs": [
    {
     "name": "stdout",
     "output_type": "stream",
     "text": [
      "         Date  Close  Start   High    Low  Volume   new_Date\n",
      "0  2018-07-02  10100  10850  10900  10000  137977 2018-07-02\n",
      "1  2018-06-29  10700  10550  10900   9990  170253 2018-06-29\n",
      "2  2018-06-28  10400  10900  10950  10150  155769 2018-06-28\n",
      "3  2018-06-27  10900  10800  11050  10500  133548 2018-06-27\n",
      "4  2018-06-26  10800  10900  11000  10700   63039 2018-06-26\n",
      "\n",
      "         Date  Close  Start   High    Low  Volume   new_Date  Year  Month  \\\n",
      "0  2018-07-02  10100  10850  10900  10000  137977 2018-07-02  2018      7   \n",
      "1  2018-06-29  10700  10550  10900   9990  170253 2018-06-29  2018      6   \n",
      "2  2018-06-28  10400  10900  10950  10150  155769 2018-06-28  2018      6   \n",
      "3  2018-06-27  10900  10800  11050  10500  133548 2018-06-27  2018      6   \n",
      "4  2018-06-26  10800  10900  11000  10700   63039 2018-06-26  2018      6   \n",
      "\n",
      "  MonthName  Day  WeekNum  \n",
      "0      July    2        0  \n",
      "1      June   29        4  \n",
      "2      June   28        3  \n",
      "3      June   27        2  \n",
      "4      June   26        1  \n",
      "\n",
      "         Date  Close  Start   High    Low  Volume   new_Date  Year  Month  \\\n",
      "0  2018-07-02  10100  10850  10900  10000  137977 2018-07-02  2018      7   \n",
      "1  2018-06-29  10700  10550  10900   9990  170253 2018-06-29  2018      6   \n",
      "2  2018-06-28  10400  10900  10950  10150  155769 2018-06-28  2018      6   \n",
      "3  2018-06-27  10900  10800  11050  10500  133548 2018-06-27  2018      6   \n",
      "4  2018-06-26  10800  10900  11000  10700   63039 2018-06-26  2018      6   \n",
      "\n",
      "  MonthName  Day  WeekNum Date_yr   Date_m  \n",
      "0      July    2        0    2018  2018-07  \n",
      "1      June   29        4    2018  2018-06  \n",
      "2      June   28        3    2018  2018-06  \n",
      "3      June   27        2    2018  2018-06  \n",
      "4      June   26        1    2018  2018-06  \n",
      "\n",
      "               Date  Close  Start   High    Low  Volume   new_Date  Year  \\\n",
      "Date_m                                                                     \n",
      "2018-07  2018-07-02  10100  10850  10900  10000  137977 2018-07-02  2018   \n",
      "2018-06  2018-06-29  10700  10550  10900   9990  170253 2018-06-29  2018   \n",
      "2018-06  2018-06-28  10400  10900  10950  10150  155769 2018-06-28  2018   \n",
      "2018-06  2018-06-27  10900  10800  11050  10500  133548 2018-06-27  2018   \n",
      "2018-06  2018-06-26  10800  10900  11000  10700   63039 2018-06-26  2018   \n",
      "\n",
      "         Month MonthName  Day  WeekNum Date_yr  \n",
      "Date_m                                          \n",
      "2018-07      7      July    2        0    2018  \n",
      "2018-06      6      June   29        4    2018  \n",
      "2018-06      6      June   28        3    2018  \n",
      "2018-06      6      June   27        2    2018  \n",
      "2018-06      6      June   26        1    2018  \n"
     ]
    }
   ],
   "source": [
    "# 라이브러리 불러오기\n",
    "import pandas as pd\n",
    "\n",
    "# read_csv() 함수로 파일 읽어와서 df로 변환\n",
    "df = pd.read_csv('./data/stock-data.csv')\n",
    "\n",
    "# 문자열인 시계열 데이터를 판다스 Timestamp로 변환\n",
    "df['new_Date'] = pd.to_datetime(df['Date'])   #df에 새로운 열로 추가\n",
    "print(df.head())\n",
    "print()\n",
    "\n",
    "# dt 속성을 이용하여 new_Date 열의 년월일 정보를 년, 월, 일로 구분\n",
    "df['Year'] = df['new_Date'].dt.year\n",
    "df['Month'] = df['new_Date'].dt.month\n",
    "df['MonthName'] = df['new_Date'].dt.month_name()\n",
    "df['Day'] = df['new_Date'].dt.day\n",
    "df['WeekNum'] = df['new_Date'].dt.weekday\n",
    "print(df.head())\n",
    "print()\n",
    "\n",
    "# Timestamp를 Period로 변환하여 년월일 표기 변경하기\n",
    "df['Date_yr'] = df['new_Date'].dt.to_period(freq='A')\n",
    "df['Date_m'] = df['new_Date'].dt.to_period(freq='M')\n",
    "print(df.head())\n",
    "print()\n",
    "\n",
    "# 원하는 열을 새로운 행 인덱스로 지정\n",
    "df.set_index('Date_m', inplace=True)\n",
    "print(df.head())"
   ]
  },
  {
   "cell_type": "code",
   "execution_count": null,
   "metadata": {},
   "outputs": [],
   "source": []
  },
  {
   "cell_type": "markdown",
   "metadata": {},
   "source": [
    "### 요일 확인"
   ]
  },
  {
   "cell_type": "code",
   "execution_count": 15,
   "metadata": {},
   "outputs": [
    {
     "name": "stdout",
     "output_type": "stream",
     "text": [
      "0    Thursday\n",
      "1      Sunday\n",
      "2     Tuesday\n",
      "dtype: object\n",
      "\n",
      "0    3\n",
      "1    6\n",
      "2    1\n",
      "dtype: int64\n"
     ]
    }
   ],
   "source": [
    "# 라이브러리를 임포트합니다.\n",
    "import pandas as pd\n",
    "\n",
    "# 시리즈 객체를 만듭니다.\n",
    "dates = pd.Series(pd.date_range(\"2/2/2002\", periods=3, freq=\"M\"))\n",
    "\n",
    "# 요일을 확인합니다.\n",
    "print(dates.dt.day_name())\n",
    "print()\n",
    "\n",
    "# 요일을 확인합니다.\n",
    "print(dates.dt.weekday)"
   ]
  },
  {
   "cell_type": "code",
   "execution_count": null,
   "metadata": {},
   "outputs": [],
   "source": []
  },
  {
   "cell_type": "markdown",
   "metadata": {},
   "source": [
    "### 차이 계산"
   ]
  },
  {
   "cell_type": "code",
   "execution_count": 16,
   "metadata": {},
   "outputs": [
    {
     "name": "stdout",
     "output_type": "stream",
     "text": [
      "0   0 days\n",
      "1   2 days\n",
      "dtype: timedelta64[ns]\n",
      "0    0\n",
      "1    2\n",
      "dtype: int64\n"
     ]
    }
   ],
   "source": [
    "# 라이브러리를 임포트합니다.\n",
    "import pandas as pd\n",
    "\n",
    "# 데이터프레임을 만듭니다.\n",
    "dataframe = pd.DataFrame()\n",
    "\n",
    "# 두 datetime 특성을 만듭니다.\n",
    "dataframe['Arrived'] = [pd.Timestamp('01-01-2017'), pd.Timestamp('01-04-2017')]\n",
    "dataframe['Left'] = [pd.Timestamp('01-01-2017'), pd.Timestamp('01-06-2017')]\n",
    "\n",
    "# 특성 사이의 차이를 계산합니다.\n",
    "print(dataframe['Left'] - dataframe['Arrived'])\n",
    "\n",
    "# 특성 간의 기간을 계산합니다.\n",
    "print(pd.Series(delta.days for delta in (dataframe['Left'] - dataframe['Arrived'])))"
   ]
  },
  {
   "cell_type": "code",
   "execution_count": null,
   "metadata": {},
   "outputs": [],
   "source": []
  },
  {
   "cell_type": "markdown",
   "metadata": {},
   "source": [
    "### 시계열 데이터 선택"
   ]
  },
  {
   "cell_type": "code",
   "execution_count": 17,
   "metadata": {},
   "outputs": [
    {
     "name": "stdout",
     "output_type": "stream",
     "text": [
      "                  Date  Close  Start   High    Low  Volume\n",
      "new_Date                                                  \n",
      "2018-07-02  2018-07-02  10100  10850  10900  10000  137977\n",
      "2018-06-29  2018-06-29  10700  10550  10900   9990  170253\n",
      "2018-06-28  2018-06-28  10400  10900  10950  10150  155769\n",
      "2018-06-27  2018-06-27  10900  10800  11050  10500  133548\n",
      "2018-06-26  2018-06-26  10800  10900  11000  10700   63039\n",
      "\n",
      "DatetimeIndex(['2018-07-02', '2018-06-29', '2018-06-28', '2018-06-27',\n",
      "               '2018-06-26', '2018-06-25', '2018-06-22', '2018-06-21',\n",
      "               '2018-06-20', '2018-06-19', '2018-06-18', '2018-06-15',\n",
      "               '2018-06-14', '2018-06-12', '2018-06-11', '2018-06-08',\n",
      "               '2018-06-07', '2018-06-05', '2018-06-04', '2018-06-01'],\n",
      "              dtype='datetime64[ns]', name='new_Date', freq=None)\n",
      "\n",
      "                  Date  Close  Start   High    Low  Volume\n",
      "new_Date                                                  \n",
      "2018-07-02  2018-07-02  10100  10850  10900  10000  137977\n",
      "2018-06-29  2018-06-29  10700  10550  10900   9990  170253\n",
      "2018-06-28  2018-06-28  10400  10900  10950  10150  155769\n",
      "2018-06-27  2018-06-27  10900  10800  11050  10500  133548\n",
      "2018-06-26  2018-06-26  10800  10900  11000  10700   63039\n",
      "\n",
      "                  Date  Close  Start   High    Low  Volume\n",
      "new_Date                                                  \n",
      "2018-07-02  2018-07-02  10100  10850  10900  10000  137977\n",
      "\n",
      "            Start   High\n",
      "new_Date                \n",
      "2018-07-02  10850  10900\n",
      "\n",
      "                  Date  Close  Start   High    Low  Volume\n",
      "new_Date                                                  \n",
      "2018-07-02  2018-07-02  10100  10850  10900  10000  137977\n",
      "\n",
      "Empty DataFrame\n",
      "Columns: [Date, Close, Start, High, Low, Volume]\n",
      "Index: []\n",
      "\n",
      "                  Date  Close  Start   High    Low  Volume\n",
      "time_delta                                                \n",
      "180 days    2018-06-28  10400  10900  10950  10150  155769\n",
      "181 days    2018-06-27  10900  10800  11050  10500  133548\n",
      "182 days    2018-06-26  10800  10900  11000  10700   63039\n",
      "183 days    2018-06-25  11150  11400  11450  11000   55519\n",
      "186 days    2018-06-22  11300  11250  11450  10750  134805\n",
      "187 days    2018-06-21  11200  11350  11750  11200  133002\n",
      "188 days    2018-06-20  11550  11200  11600  10900  308596\n",
      "189 days    2018-06-19  11300  11850  11950  11300  180656\n"
     ]
    },
    {
     "name": "stderr",
     "output_type": "stream",
     "text": [
      "/var/folders/98/j21dd2qs46b69mwc94dgyxnr0000gn/T/ipykernel_15784/1159278414.py:20: FutureWarning: Indexing a DataFrame with a datetimelike index using a single string to slice the rows, like `frame[string]`, is deprecated and will be removed in a future version. Use `frame.loc[string]` instead.\n",
      "  df_y = df['2018']\n",
      "/var/folders/98/j21dd2qs46b69mwc94dgyxnr0000gn/T/ipykernel_15784/1159278414.py:32: FutureWarning: Indexing a DataFrame with a datetimelike index using a single string to slice the rows, like `frame[string]`, is deprecated and will be removed in a future version. Use `frame.loc[string]` instead.\n",
      "  df_ymd = df['2018-07-02']\n"
     ]
    }
   ],
   "source": [
    "# -*- coding: utf-8 -*-\n",
    "\n",
    "# 라이브러리 불러오기\n",
    "import pandas as pd\n",
    "\n",
    "# read_csv() 함수로 파일 읽어와서 df로 변환\n",
    "df = pd.read_csv('./data/stock-data.csv')\n",
    "\n",
    "# 문자열인 날짜 데이터를 판다스 Timestamp로 변환\n",
    "df['new_Date'] = pd.to_datetime(df['Date'])   # 새로운 열에 추가\n",
    "df.set_index('new_Date', inplace=True)        # 행 인덱스로 지정\n",
    "\n",
    "print(df.head())\n",
    "print()\n",
    "\n",
    "print(df.index)\n",
    "print()\n",
    "\n",
    "# 날짜 인덱스를 이용하여 데이터 선택하기\n",
    "df_y = df['2018']\n",
    "print(df_y.head())\n",
    "print()\n",
    "\n",
    "df_ym = df.loc['2018-07']    # loc 인덱서 활용\n",
    "print(df_ym)\n",
    "print()\n",
    "\n",
    "df_ym_cols = df.loc['2018-07', 'Start':'High']    # 열 범위 슬라이싱\n",
    "print(df_ym_cols)\n",
    "print()\n",
    "\n",
    "df_ymd = df['2018-07-02']\n",
    "print(df_ymd)\n",
    "print()\n",
    "\n",
    "df_ymd_range = df['2018-06-25':'2018-06-20']    # 날짜 범위 지정\n",
    "print(df_ymd_range)\n",
    "print()\n",
    "\n",
    "# 시간 간격 계산. 최근 180일 ~ 189일 사이의 값들만 선택하기\n",
    "today = pd.to_datetime('2018-12-25')            # 기준일 생성\n",
    "df['time_delta'] = today - df.index             # 날짜 차이 계산\n",
    "df.set_index('time_delta', inplace=True)        # 행 인덱스로 지정\n",
    "df_180 = df['180 days':'189 days']\n",
    "print(df_180)"
   ]
  },
  {
   "cell_type": "code",
   "execution_count": 37,
   "metadata": {},
   "outputs": [
    {
     "name": "stdout",
     "output_type": "stream",
     "text": [
      "1.1125356603321788\n",
      "\n",
      "0.23180202108782966\n",
      "\n",
      "-1.4837697087383996\n",
      "\n",
      "2017-01-01    0.231802\n",
      "2017-01-04   -1.483770\n",
      "2017-01-05    1.112536\n",
      "2017-01-06    0.535441\n",
      "2017-01-08    1.901534\n",
      "dtype: float64\n",
      "\n",
      "2017-01-04   -1.483770\n",
      "2017-01-05    1.112536\n",
      "2017-01-06    0.535441\n",
      "2017-01-08    1.901534\n",
      "dtype: float64\n",
      "\n",
      "2017-01-08    1.901534\n",
      "2017-02-10   -1.204154\n",
      "dtype: float64\n",
      "\n",
      "2017-01-01    0.231802\n",
      "2017-01-04   -1.483770\n",
      "2017-01-05    1.112536\n",
      "2017-01-06    0.535441\n",
      "2017-01-08    1.901534\n",
      "dtype: float64\n"
     ]
    }
   ],
   "source": [
    "from pandas import Series, DataFrame\n",
    "import pandas as pd\n",
    "import numpy as np\n",
    "from datetime import datetime\n",
    "dates = [datetime(2017, 1, 1), datetime(2017, 1, 4), datetime(2017, 1, 5),\n",
    "         datetime(2017, 1, 6), datetime(2017,1,8), datetime(2017,2,10)]\n",
    "ts = Series(np.random.randn(6), index=dates)\n",
    "print(ts[ts.index[2]])#3번째 데이터 출력\n",
    "print()\n",
    "\n",
    "print(ts['1/1/2017'])#문자열로 인덱싱해서 조회 가능\n",
    "print()\n",
    "\n",
    "print(ts['20170104'])#문자열로 인덱싱해서 조회 가능\n",
    "print()\n",
    "\n",
    "print(ts['2017-01'])#월 단위 인덱싱\n",
    "print()\n",
    "\n",
    "print(ts['2017-01-04':'2017-01-08']) #슬라이싱\n",
    "print()\n",
    "\n",
    "print(ts.truncate(before='2017-01-08')) #슬라이싱\n",
    "print()\n",
    "\n",
    "print(ts.truncate(after='2017-01-08')) #슬라이싱"
   ]
  },
  {
   "cell_type": "code",
   "execution_count": null,
   "metadata": {},
   "outputs": [],
   "source": []
  },
  {
   "cell_type": "markdown",
   "metadata": {},
   "source": [
    "### 시차 특성을 갖는 데이터 만들기"
   ]
  },
  {
   "cell_type": "code",
   "execution_count": 19,
   "metadata": {},
   "outputs": [
    {
     "name": "stdout",
     "output_type": "stream",
     "text": [
      "2017-01-01   -0.359652\n",
      "2017-01-04   -0.213764\n",
      "2017-01-05    1.319897\n",
      "2017-01-06    1.742474\n",
      "2017-01-08   -0.756256\n",
      "2017-02-10   -0.437806\n",
      "dtype: float64\n",
      "\n",
      "2017-01-01         NaN\n",
      "2017-01-04   -0.359652\n",
      "2017-01-05   -0.213764\n",
      "2017-01-06    1.319897\n",
      "2017-01-08    1.742474\n",
      "2017-02-10   -0.756256\n",
      "dtype: float64\n",
      "\n",
      "2017-01-01   -0.213764\n",
      "2017-01-04    1.319897\n",
      "2017-01-05    1.742474\n",
      "2017-01-06   -0.756256\n",
      "2017-01-08   -0.437806\n",
      "2017-02-10         NaN\n",
      "dtype: float64\n",
      "\n",
      "2017-01-31   -0.359652\n",
      "2017-01-31   -0.213764\n",
      "2017-01-31    1.319897\n",
      "2017-01-31    1.742474\n",
      "2017-01-31   -0.756256\n",
      "2017-02-28   -0.437806\n",
      "dtype: float64\n",
      "\n",
      "       dates  stock_price  previous_days_stock_price\n",
      "0 2001-01-01          1.1                        NaN\n",
      "1 2001-01-02          2.2                        1.1\n",
      "2 2001-01-03          3.3                        2.2\n",
      "3 2001-01-04          4.4                        3.3\n",
      "4 2001-01-05          5.5                        4.4\n"
     ]
    }
   ],
   "source": [
    "from pandas import Series, DataFrame\n",
    "import pandas as pd\n",
    "import numpy as np\n",
    "from datetime import datetime\n",
    "dates = [datetime(2017, 1, 1), datetime(2017, 1, 4), datetime(2017, 1, 5),\n",
    "         datetime(2017, 1, 6), datetime(2017,1,8), datetime(2017,2,10)]\n",
    "ts = Series(np.random.randn(6), index=dates)\n",
    "\n",
    "print(ts)\n",
    "print()\n",
    "\n",
    "print(ts.shift(1))\n",
    "print()\n",
    "\n",
    "print(ts.shift(-1))\n",
    "print()\n",
    "\n",
    "print(ts.shift(1, freq=\"M\"))\n",
    "print()\n",
    "\n",
    "# 데이터프레임을 만듭니다.\n",
    "dataframe = pd.DataFrame()\n",
    "\n",
    "# 날짜를 만듭니다.\n",
    "dataframe[\"dates\"] = pd.date_range(\"1/1/2001\", periods=5, freq=\"D\")\n",
    "dataframe[\"stock_price\"] = [1.1,2.2,3.3,4.4,5.5]\n",
    "\n",
    "# 한 행 뒤의 값을 가져옵니다.\n",
    "dataframe[\"previous_days_stock_price\"] = dataframe[\"stock_price\"].shift(1)\n",
    "\n",
    "# 데이터프레임을 확인합니다.\n",
    "print(dataframe)"
   ]
  },
  {
   "cell_type": "code",
   "execution_count": null,
   "metadata": {},
   "outputs": [],
   "source": []
  },
  {
   "cell_type": "markdown",
   "metadata": {},
   "source": [
    "### 이동 시간 평균 윈도우"
   ]
  },
  {
   "cell_type": "code",
   "execution_count": 20,
   "metadata": {},
   "outputs": [
    {
     "name": "stdout",
     "output_type": "stream",
     "text": [
      "            Stock_Price\n",
      "2010-01-31          NaN\n",
      "2010-02-28          1.5\n",
      "2010-03-31          2.5\n",
      "2010-04-30          3.5\n",
      "2010-05-31          4.5\n"
     ]
    }
   ],
   "source": [
    "# 라이브러리를 임포트합니다.\n",
    "import pandas as pd\n",
    "\n",
    "# datetime을 만듭니다.\n",
    "time_index = pd.date_range(\"01/01/2010\", periods=5, freq=\"M\")\n",
    "\n",
    "# 데이터프레임을 만들고 인덱스를 설정합니다.\n",
    "dataframe = pd.DataFrame(index=time_index)\n",
    "\n",
    "# 특성을 만듭니다.\n",
    "dataframe[\"Stock_Price\"] = [1,2,3,4,5]\n",
    "\n",
    "# 이동 평균을 계산합니다.\n",
    "print(dataframe.rolling(window=2).mean())"
   ]
  },
  {
   "cell_type": "code",
   "execution_count": 21,
   "metadata": {},
   "outputs": [
    {
     "name": "stdout",
     "output_type": "stream",
     "text": [
      "            Stock_Price\n",
      "2010-01-31     1.000000\n",
      "2010-02-28     1.750000\n",
      "2010-03-31     2.615385\n",
      "2010-04-30     3.550000\n",
      "2010-05-31     4.520661\n"
     ]
    }
   ],
   "source": [
    "print(dataframe.ewm(span=2).mean())"
   ]
  },
  {
   "cell_type": "code",
   "execution_count": null,
   "metadata": {},
   "outputs": [],
   "source": []
  },
  {
   "cell_type": "markdown",
   "metadata": {},
   "source": [
    "### 결측치 처리"
   ]
  },
  {
   "cell_type": "code",
   "execution_count": 22,
   "metadata": {},
   "outputs": [
    {
     "name": "stdout",
     "output_type": "stream",
     "text": [
      "            Sales\n",
      "2010-01-31    1.0\n",
      "2010-02-28    2.0\n",
      "2010-03-31    NaN\n",
      "2010-04-30    NaN\n",
      "2010-05-31    5.0\n",
      "\n",
      "            Sales\n",
      "2010-01-31    1.0\n",
      "2010-02-28    2.0\n",
      "2010-03-31    2.0\n",
      "2010-04-30    2.0\n",
      "2010-05-31    5.0\n"
     ]
    }
   ],
   "source": [
    "# 라이브러리를 임포트합니다.\n",
    "import pandas as pd\n",
    "import numpy as np\n",
    "\n",
    "# 날짜를 만듭니다.\n",
    "time_index = pd.date_range(\"01/01/2010\", periods=5, freq=\"M\")\n",
    "\n",
    "# 데이터프레임을 만들고 인덱스를 지정합니다.\n",
    "dataframe = pd.DataFrame(index=time_index)\n",
    "\n",
    "# 누락된 값이 있는 특성을 만듭니다.\n",
    "dataframe[\"Sales\"] = [1.0,2.0,np.nan,np.nan,5.0]\n",
    "print(dataframe)\n",
    "print()\n",
    "\n",
    "# 앞쪽으로 채우기(Forward-fill)\n",
    "print(dataframe.ffill())"
   ]
  },
  {
   "cell_type": "code",
   "execution_count": 23,
   "metadata": {},
   "outputs": [
    {
     "name": "stdout",
     "output_type": "stream",
     "text": [
      "            Sales\n",
      "2010-01-31    1.0\n",
      "2010-02-28    2.0\n",
      "2010-03-31    3.0\n",
      "2010-04-30    4.0\n",
      "2010-05-31    5.0\n",
      "\n",
      "               Sales\n",
      "2010-01-31  1.000000\n",
      "2010-02-28  2.000000\n",
      "2010-03-31  3.059808\n",
      "2010-04-30  4.038069\n",
      "2010-05-31  5.000000\n",
      "\n",
      "            Sales\n",
      "2010-01-31    1.0\n",
      "2010-02-28    2.0\n",
      "2010-03-31    3.0\n",
      "2010-04-30    NaN\n",
      "2010-05-31    5.0\n",
      "\n"
     ]
    }
   ],
   "source": [
    "# 누락된 값을 보간합니다.\n",
    "print(dataframe.interpolate())\n",
    "print()\n",
    "\n",
    "# 누락된 값을 보간합니다.\n",
    "print(dataframe.interpolate(method=\"quadratic\"))\n",
    "print()\n",
    "\n",
    "# 누락된 값을 보간합니다.\n",
    "print(dataframe.interpolate(limit=1, limit_direction=\"forward\"))\n",
    "print()"
   ]
  },
  {
   "cell_type": "code",
   "execution_count": null,
   "metadata": {},
   "outputs": [],
   "source": []
  },
  {
   "cell_type": "markdown",
   "metadata": {},
   "source": [
    "### resample"
   ]
  },
  {
   "cell_type": "code",
   "execution_count": 24,
   "metadata": {},
   "outputs": [
    {
     "name": "stdout",
     "output_type": "stream",
     "text": [
      "                     price  amount\n",
      "2019-12-19 00:00:00     12       4\n",
      "2019-12-19 00:02:00     21       2\n",
      "2019-12-19 00:04:00     41       1\n",
      "2019-12-19 00:06:00     79       4\n",
      "2019-12-19 00:08:00     61       2\n",
      "2019-12-19 00:10:00     81       1\n",
      "2019-12-19 00:12:00     24       3\n",
      "2019-12-19 00:14:00     62       1\n",
      "2019-12-19 00:16:00     76       3\n",
      "2019-12-19 00:18:00     63       1\n",
      "2019-12-19 00:20:00     95       2\n",
      "2019-12-19 00:22:00     82       1\n",
      "2019-12-19 00:24:00     82       3\n",
      "2019-12-19 00:26:00     70       1\n",
      "2019-12-19 00:28:00     30       4\n",
      "2019-12-19 00:30:00     33       1\n",
      "2019-12-19 00:32:00     22       2\n",
      "2019-12-19 00:34:00     77       3\n",
      "2019-12-19 00:36:00     58       3\n",
      "2019-12-19 00:38:00     96       3\n",
      "\n",
      "                     price_10m_first  price_10m_last  amount_10m_first  \\\n",
      "2019-12-19 00:00:00               12              61                 4   \n",
      "2019-12-19 00:10:00               81              63                 1   \n",
      "2019-12-19 00:20:00               95              30                 2   \n",
      "2019-12-19 00:30:00               33              96                 1   \n",
      "\n",
      "                     amount_10m_last  \n",
      "2019-12-19 00:00:00                2  \n",
      "2019-12-19 00:10:00                1  \n",
      "2019-12-19 00:20:00                4  \n",
      "2019-12-19 00:30:00                3  \n"
     ]
    }
   ],
   "source": [
    "import pandas as pd\n",
    "import numpy as np\n",
    "\n",
    "# generate time series index\n",
    "range = pd.date_range('2019-12-19', '2019-12-20', freq='2min')\n",
    "df = pd.DataFrame(index = range)[:20]\n",
    "\n",
    "# add 'price' columm using random number\n",
    "np.random.seed(seed=1004) # for reproducibility\n",
    "df['price'] = np.random.randint(low=10, high=100, size=20)\n",
    "\n",
    "# add 'amount' column unsing random number\n",
    "df['amount'] = np.random.randint(low=1, high=5, size=20)\n",
    "\n",
    "print(df)\n",
    "print()\n",
    "\n",
    "# Resampling by a given time span (group)\n",
    "# : first, last\n",
    "df_summary = pd.DataFrame()\n",
    "df_summary['price_10m_first'] = df.price.resample('10T').first()\n",
    "df_summary['price_10m_last'] = df.price.resample('10T').last()\n",
    "df_summary['amount_10m_first'] = df.amount.resample('10T').first()\n",
    "df_summary['amount_10m_last'] = df.amount.resample('10T').last()\n",
    "print(df_summary)"
   ]
  },
  {
   "cell_type": "code",
   "execution_count": 25,
   "metadata": {},
   "outputs": [
    {
     "name": "stdout",
     "output_type": "stream",
     "text": [
      "                     price_10m_sum  price_10m_cumsum  amount_10m_sum  \\\n",
      "2019-12-19 00:00:00            214               214              13   \n",
      "2019-12-19 00:10:00            306               520               9   \n",
      "2019-12-19 00:20:00            359               879              11   \n",
      "2019-12-19 00:30:00            286              1165              12   \n",
      "\n",
      "                     amount_10m_cumsum  \n",
      "2019-12-19 00:00:00                 13  \n",
      "2019-12-19 00:10:00                 22  \n",
      "2019-12-19 00:20:00                 33  \n",
      "2019-12-19 00:30:00                 45  \n"
     ]
    }
   ],
   "source": [
    "# 10분 단위 sum, cumulative sum\n",
    "df_summary = pd.DataFrame()\n",
    "df_summary['price_10m_sum'] = df.price.resample('10T').sum()\n",
    "df_summary['price_10m_cumsum'] = df.price.resample('10T').sum().cumsum()\n",
    "df_summary['amount_10m_sum'] = df.amount.resample('10T').sum()\n",
    "df_summary['amount_10m_cumsum'] = df.amount.resample('10T').sum().cumsum()\n",
    "print(df_summary)"
   ]
  },
  {
   "cell_type": "code",
   "execution_count": 26,
   "metadata": {},
   "outputs": [
    {
     "name": "stdout",
     "output_type": "stream",
     "text": [
      "2017-01-01      0\n",
      "2017-01-02      1\n",
      "2017-01-03      2\n",
      "2017-01-04      3\n",
      "2017-01-05      4\n",
      "             ... \n",
      "2017-05-26    145\n",
      "2017-05-27    146\n",
      "2017-05-28    147\n",
      "2017-05-29    148\n",
      "2017-05-30    149\n",
      "Freq: D, Length: 150, dtype: int64\n",
      "\n",
      "2017-01-31     465\n",
      "2017-02-28    1246\n",
      "2017-03-31    2294\n",
      "2017-04-30    3135\n",
      "2017-05-31    4035\n",
      "Freq: M, dtype: int64\n",
      "\n",
      "1     465\n",
      "2    1246\n",
      "3    2294\n",
      "4    3135\n",
      "5    4035\n",
      "dtype: int64\n"
     ]
    }
   ],
   "source": [
    "ran = pd.date_range('1/1/2017', periods=150, freq='D')\n",
    "ts = pd.Series(np.arange(150), index = ran)\n",
    "print(ts)\n",
    "print()\n",
    "\n",
    "#사용자 정의 함수\n",
    "def mo(x):\n",
    "    return x.month\n",
    "\n",
    "# 월별 합계 구하기 - resample 이용\n",
    "print(ts.resample('M').sum())\n",
    "print()\n",
    "\n",
    "# 그룹화 이용\n",
    "print(ts.groupby(mo).sum())"
   ]
  },
  {
   "cell_type": "code",
   "execution_count": 27,
   "metadata": {},
   "outputs": [
    {
     "name": "stdout",
     "output_type": "stream",
     "text": [
      "2017-01-31    0\n",
      "2017-02-28    1\n",
      "Freq: M, dtype: int64\n",
      "\n",
      "2017-02-05    1.0\n",
      "2017-02-12    1.0\n",
      "2017-02-19    1.0\n",
      "2017-02-26    1.0\n",
      "2017-03-05    NaN\n",
      "Freq: W-SUN, dtype: float64\n",
      "\n",
      "2017-02-05    1.0\n",
      "2017-02-12    1.0\n",
      "2017-02-19    1.0\n",
      "2017-02-26    1.0\n",
      "2017-03-05    0.0\n",
      "Freq: W-SUN, dtype: float64\n"
     ]
    }
   ],
   "source": [
    "from pandas import Series, DataFrame\n",
    "import pandas as pd\n",
    "import numpy as np\n",
    "from datetime import datetime\n",
    "\n",
    "ran = pd.date_range('1/1/2017', periods=2, freq='M')\n",
    "ts = Series(np.arange(2), index = ran)\n",
    "print(ts)\n",
    "print()\n",
    "\n",
    "#주 단위로 데이터 추가 - 업 샘플링\n",
    "ts = ts.resample('W').bfill()\n",
    "print(ts)\n",
    "print()\n",
    "\n",
    "ts = ts.replace(np.nan, 0)\n",
    "print(ts)"
   ]
  },
  {
   "cell_type": "code",
   "execution_count": null,
   "metadata": {},
   "outputs": [],
   "source": []
  },
  {
   "cell_type": "markdown",
   "metadata": {},
   "source": [
    "### 지수 평활"
   ]
  },
  {
   "cell_type": "code",
   "execution_count": 30,
   "metadata": {},
   "outputs": [
    {
     "name": "stdout",
     "output_type": "stream",
     "text": [
      "        Date  Passengers\n",
      "0    1949-01         112\n",
      "1    1949-02         118\n",
      "2    1949-03         132\n",
      "3    1949-04         129\n",
      "4    1949-05         121\n",
      "..       ...         ...\n",
      "139  1960-08         606\n",
      "140  1960-09         508\n",
      "141  1960-10         461\n",
      "142  1960-11         390\n",
      "143  1960-12         432\n",
      "\n",
      "[144 rows x 2 columns]\n",
      "\n",
      "        Date  Passengers    Smooth.5    Smooth.9\n",
      "0    1949-01         112  112.000000  112.000000\n",
      "1    1949-02         118  116.000000  117.454545\n",
      "2    1949-03         132  125.142857  130.558559\n",
      "3    1949-04         129  127.200000  129.155716\n",
      "4    1949-05         121  124.000000  121.815498\n",
      "..       ...         ...         ...         ...\n",
      "139  1960-08         606  582.096411  606.665454\n",
      "140  1960-09         508  545.048205  517.866545\n",
      "141  1960-10         461  503.024103  466.686655\n",
      "142  1960-11         390  446.512051  397.668665\n",
      "143  1960-12         432  439.256026  428.566867\n",
      "\n",
      "[144 rows x 4 columns]\n",
      "\n"
     ]
    }
   ],
   "source": [
    "import pandas as pd\n",
    "import io\n",
    "import requests\n",
    "\n",
    "air = pd.read_csv(\"./data/AirPassengers.csv\", names=['Date', 'Passengers'])\n",
    "print(air)\n",
    "print()\n",
    "\n",
    "#가중치를 0.5 적용\n",
    "air['Smooth.5'] = air.ewm(alpha = .5).Passengers.mean()\n",
    "#가중치를 0.9 적용\n",
    "air['Smooth.9'] = air.ewm(alpha = .9).Passengers.mean()\n",
    "\n",
    "print(air)\n",
    "print()"
   ]
  },
  {
   "cell_type": "code",
   "execution_count": null,
   "metadata": {},
   "outputs": [],
   "source": []
  },
  {
   "cell_type": "markdown",
   "metadata": {},
   "source": [
    "### 계절성 데이터"
   ]
  },
  {
   "cell_type": "code",
   "execution_count": 31,
   "metadata": {},
   "outputs": [
    {
     "data": {
      "image/png": "[encoded data removed]",
      "text/plain": [
       "<Figure size 1440x360 with 1 Axes>"
      ]
     },
     "metadata": {
      "needs_background": "light"
     },
     "output_type": "display_data"
    }
   ],
   "source": [
    "import matplotlib.pyplot as plt\n",
    "import pandas as pd\n",
    "import platform\n",
    "from matplotlib import font_manager, rc\n",
    "\n",
    "#매킨토시의 경우\n",
    "if platform.system() == 'Darwin':\n",
    "    rc('font', family='AppleGothic')\n",
    "#윈도우의 경우\n",
    "elif platform.system() == 'Windows':\n",
    "    font_name = font_manager.FontProperties(fname=\"c:/Windows/Fonts/malgun.ttf\").get_name()\n",
    "    rc('font', family=font_name)\n",
    "\n",
    "#산점도는 평균과 분산의 증가를 명확히 보여주지만 계절적인 변동의 추세를 확인하는 것은 어려움\n",
    "plt.figure(figsize=(20, 5))\n",
    "plt.xticks(size=10, rotation='vertical')\n",
    "plt.scatter(x=air['Date'][0:50],y=air['Passengers'][0:50], marker='2')\n",
    "plt.title('승객수')\n",
    "plt.show()"
   ]
  },
  {
   "cell_type": "code",
   "execution_count": 32,
   "metadata": {},
   "outputs": [
    {
     "data": {
      "image/png": "[encoded data removed]",
      "text/plain": [
       "<Figure size 1440x360 with 1 Axes>"
      ]
     },
     "metadata": {
      "needs_background": "light"
     },
     "output_type": "display_data"
    }
   ],
   "source": [
    "plt.figure(figsize=(20, 5))\n",
    "plt.xticks(size=10, rotation='vertical')\n",
    "plt.plot(air['Date'][0:50], air['Passengers'][0:50], marker='o', markersize=10)  \n",
    "plt.title('승객수')\n",
    "plt.show()"
   ]
  },
  {
   "cell_type": "code",
   "execution_count": null,
   "metadata": {},
   "outputs": [],
   "source": []
  }
 ],
 "metadata": {
  "kernelspec": {
   "display_name": "Python 3 (ipykernel)",
   "language": "python",
   "name": "python3"
  },
  "language_info": {
   "codemirror_mode": {
    "name": "ipython",
    "version": 3
   },
   "file_extension": ".py",
   "mimetype": "text/x-python",
   "name": "python",
   "nbconvert_exporter": "python",
   "pygments_lexer": "ipython3",
   "version": "3.9.7"
  }
 },
 "nbformat": 4,
 "nbformat_minor": 2
}
